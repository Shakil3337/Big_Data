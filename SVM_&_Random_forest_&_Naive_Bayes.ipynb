{
  "cells": [
    {
      "cell_type": "code",
      "execution_count": null,
      "metadata": {
        "id": "Z75SREsdgUhB"
      },
      "outputs": [],
      "source": [
        "import numpy as np\n",
        "import pandas as pd\n",
        "import matplotlib.pyplot as plt"
      ]
    },
    {
      "cell_type": "code",
      "execution_count": null,
      "metadata": {
        "id": "ngLzfgtGgUhF"
      },
      "outputs": [],
      "source": [
        "df = pd.read_csv('credit card.csv')"
      ]
    },
    {
      "cell_type": "code",
      "execution_count": null,
      "metadata": {
        "colab": {
          "base_uri": "https://localhost:8080/",
          "height": 488
        },
        "id": "ObpXMD5BgUhF",
        "outputId": "983e9334-4d54-4850-cbce-8360875bac66"
      },
      "outputs": [
        {
          "output_type": "execute_result",
          "data": {
            "text/plain": [
              "          ID  LIMIT_BAL  SEX  EDUCATION  MARRIAGE   AGE  PAY_0  PAY_2  PAY_3  \\\n",
              "0          1    20000.0    2          2         1  24.0      2      2     -1   \n",
              "1          2   120000.0    2          2         2  26.0     -1      2      0   \n",
              "2          3    90000.0    2          2         2   NaN      0      0      0   \n",
              "3          4    50000.0    2          2         1   NaN      0      0      0   \n",
              "4          5    50000.0    1          2         1  57.0     -1      0     -1   \n",
              "...      ...        ...  ...        ...       ...   ...    ...    ...    ...   \n",
              "29995  29996   220000.0    1          3         1  39.0      0      0      0   \n",
              "29996  29997   150000.0    1          3         2  43.0     -1     -1     -1   \n",
              "29997  29998    30000.0    1          2         2  37.0      4      3      2   \n",
              "29998  29999    80000.0    1          3         1  41.0      1     -1      0   \n",
              "29999  30000    50000.0    1          2         1  46.0      0      0      0   \n",
              "\n",
              "       PAY_4  ...  BILL_AMT4  BILL_AMT5  BILL_AMT6  PAY_AMT1  PAY_AMT2  \\\n",
              "0         -1  ...        0.0        0.0        0.0       0.0     689.0   \n",
              "1          0  ...     3272.0     3455.0     3261.0       0.0    1000.0   \n",
              "2          0  ...    14331.0    14948.0    15549.0    1518.0    1500.0   \n",
              "3          0  ...    28314.0    28959.0    29547.0    2000.0    2018.0   \n",
              "4          0  ...    20940.0    19146.0    19131.0    2000.0   36681.0   \n",
              "...      ...  ...        ...        ...        ...       ...       ...   \n",
              "29995      0  ...    88004.0    31237.0    15980.0    8500.0   20000.0   \n",
              "29996     -1  ...     8979.0     5190.0        0.0    1837.0    3526.0   \n",
              "29997     -1  ...    20878.0    20582.0    19357.0       0.0       0.0   \n",
              "29998      0  ...    52774.0    11855.0    48944.0   85900.0    3409.0   \n",
              "29999      0  ...    36535.0    32428.0    15313.0    2078.0    1800.0   \n",
              "\n",
              "       PAY_AMT3  PAY_AMT4  PAY_AMT5  PAY_AMT6  default.payment.next.month  \n",
              "0           0.0       0.0       0.0       0.0                           1  \n",
              "1        1000.0    1000.0       0.0    2000.0                           1  \n",
              "2        1000.0    1000.0    1000.0    5000.0                           0  \n",
              "3        1200.0    1100.0    1069.0    1000.0                           0  \n",
              "4       10000.0    9000.0     689.0     679.0                           0  \n",
              "...         ...       ...       ...       ...                         ...  \n",
              "29995    5003.0    3047.0    5000.0    1000.0                           0  \n",
              "29996    8998.0     129.0       0.0       0.0                           0  \n",
              "29997   22000.0    4200.0    2000.0    3100.0                           1  \n",
              "29998    1178.0    1926.0   52964.0    1804.0                           1  \n",
              "29999    1430.0    1000.0    1000.0    1000.0                           1  \n",
              "\n",
              "[30000 rows x 25 columns]"
            ],
            "text/html": [
              "\n",
              "\n",
              "  <div id=\"df-53535225-f21e-41bb-a48e-ec2e15b242ea\">\n",
              "    <div class=\"colab-df-container\">\n",
              "      <div>\n",
              "<style scoped>\n",
              "    .dataframe tbody tr th:only-of-type {\n",
              "        vertical-align: middle;\n",
              "    }\n",
              "\n",
              "    .dataframe tbody tr th {\n",
              "        vertical-align: top;\n",
              "    }\n",
              "\n",
              "    .dataframe thead th {\n",
              "        text-align: right;\n",
              "    }\n",
              "</style>\n",
              "<table border=\"1\" class=\"dataframe\">\n",
              "  <thead>\n",
              "    <tr style=\"text-align: right;\">\n",
              "      <th></th>\n",
              "      <th>ID</th>\n",
              "      <th>LIMIT_BAL</th>\n",
              "      <th>SEX</th>\n",
              "      <th>EDUCATION</th>\n",
              "      <th>MARRIAGE</th>\n",
              "      <th>AGE</th>\n",
              "      <th>PAY_0</th>\n",
              "      <th>PAY_2</th>\n",
              "      <th>PAY_3</th>\n",
              "      <th>PAY_4</th>\n",
              "      <th>...</th>\n",
              "      <th>BILL_AMT4</th>\n",
              "      <th>BILL_AMT5</th>\n",
              "      <th>BILL_AMT6</th>\n",
              "      <th>PAY_AMT1</th>\n",
              "      <th>PAY_AMT2</th>\n",
              "      <th>PAY_AMT3</th>\n",
              "      <th>PAY_AMT4</th>\n",
              "      <th>PAY_AMT5</th>\n",
              "      <th>PAY_AMT6</th>\n",
              "      <th>default.payment.next.month</th>\n",
              "    </tr>\n",
              "  </thead>\n",
              "  <tbody>\n",
              "    <tr>\n",
              "      <th>0</th>\n",
              "      <td>1</td>\n",
              "      <td>20000.0</td>\n",
              "      <td>2</td>\n",
              "      <td>2</td>\n",
              "      <td>1</td>\n",
              "      <td>24.0</td>\n",
              "      <td>2</td>\n",
              "      <td>2</td>\n",
              "      <td>-1</td>\n",
              "      <td>-1</td>\n",
              "      <td>...</td>\n",
              "      <td>0.0</td>\n",
              "      <td>0.0</td>\n",
              "      <td>0.0</td>\n",
              "      <td>0.0</td>\n",
              "      <td>689.0</td>\n",
              "      <td>0.0</td>\n",
              "      <td>0.0</td>\n",
              "      <td>0.0</td>\n",
              "      <td>0.0</td>\n",
              "      <td>1</td>\n",
              "    </tr>\n",
              "    <tr>\n",
              "      <th>1</th>\n",
              "      <td>2</td>\n",
              "      <td>120000.0</td>\n",
              "      <td>2</td>\n",
              "      <td>2</td>\n",
              "      <td>2</td>\n",
              "      <td>26.0</td>\n",
              "      <td>-1</td>\n",
              "      <td>2</td>\n",
              "      <td>0</td>\n",
              "      <td>0</td>\n",
              "      <td>...</td>\n",
              "      <td>3272.0</td>\n",
              "      <td>3455.0</td>\n",
              "      <td>3261.0</td>\n",
              "      <td>0.0</td>\n",
              "      <td>1000.0</td>\n",
              "      <td>1000.0</td>\n",
              "      <td>1000.0</td>\n",
              "      <td>0.0</td>\n",
              "      <td>2000.0</td>\n",
              "      <td>1</td>\n",
              "    </tr>\n",
              "    <tr>\n",
              "      <th>2</th>\n",
              "      <td>3</td>\n",
              "      <td>90000.0</td>\n",
              "      <td>2</td>\n",
              "      <td>2</td>\n",
              "      <td>2</td>\n",
              "      <td>NaN</td>\n",
              "      <td>0</td>\n",
              "      <td>0</td>\n",
              "      <td>0</td>\n",
              "      <td>0</td>\n",
              "      <td>...</td>\n",
              "      <td>14331.0</td>\n",
              "      <td>14948.0</td>\n",
              "      <td>15549.0</td>\n",
              "      <td>1518.0</td>\n",
              "      <td>1500.0</td>\n",
              "      <td>1000.0</td>\n",
              "      <td>1000.0</td>\n",
              "      <td>1000.0</td>\n",
              "      <td>5000.0</td>\n",
              "      <td>0</td>\n",
              "    </tr>\n",
              "    <tr>\n",
              "      <th>3</th>\n",
              "      <td>4</td>\n",
              "      <td>50000.0</td>\n",
              "      <td>2</td>\n",
              "      <td>2</td>\n",
              "      <td>1</td>\n",
              "      <td>NaN</td>\n",
              "      <td>0</td>\n",
              "      <td>0</td>\n",
              "      <td>0</td>\n",
              "      <td>0</td>\n",
              "      <td>...</td>\n",
              "      <td>28314.0</td>\n",
              "      <td>28959.0</td>\n",
              "      <td>29547.0</td>\n",
              "      <td>2000.0</td>\n",
              "      <td>2018.0</td>\n",
              "      <td>1200.0</td>\n",
              "      <td>1100.0</td>\n",
              "      <td>1069.0</td>\n",
              "      <td>1000.0</td>\n",
              "      <td>0</td>\n",
              "    </tr>\n",
              "    <tr>\n",
              "      <th>4</th>\n",
              "      <td>5</td>\n",
              "      <td>50000.0</td>\n",
              "      <td>1</td>\n",
              "      <td>2</td>\n",
              "      <td>1</td>\n",
              "      <td>57.0</td>\n",
              "      <td>-1</td>\n",
              "      <td>0</td>\n",
              "      <td>-1</td>\n",
              "      <td>0</td>\n",
              "      <td>...</td>\n",
              "      <td>20940.0</td>\n",
              "      <td>19146.0</td>\n",
              "      <td>19131.0</td>\n",
              "      <td>2000.0</td>\n",
              "      <td>36681.0</td>\n",
              "      <td>10000.0</td>\n",
              "      <td>9000.0</td>\n",
              "      <td>689.0</td>\n",
              "      <td>679.0</td>\n",
              "      <td>0</td>\n",
              "    </tr>\n",
              "    <tr>\n",
              "      <th>...</th>\n",
              "      <td>...</td>\n",
              "      <td>...</td>\n",
              "      <td>...</td>\n",
              "      <td>...</td>\n",
              "      <td>...</td>\n",
              "      <td>...</td>\n",
              "      <td>...</td>\n",
              "      <td>...</td>\n",
              "      <td>...</td>\n",
              "      <td>...</td>\n",
              "      <td>...</td>\n",
              "      <td>...</td>\n",
              "      <td>...</td>\n",
              "      <td>...</td>\n",
              "      <td>...</td>\n",
              "      <td>...</td>\n",
              "      <td>...</td>\n",
              "      <td>...</td>\n",
              "      <td>...</td>\n",
              "      <td>...</td>\n",
              "      <td>...</td>\n",
              "    </tr>\n",
              "    <tr>\n",
              "      <th>29995</th>\n",
              "      <td>29996</td>\n",
              "      <td>220000.0</td>\n",
              "      <td>1</td>\n",
              "      <td>3</td>\n",
              "      <td>1</td>\n",
              "      <td>39.0</td>\n",
              "      <td>0</td>\n",
              "      <td>0</td>\n",
              "      <td>0</td>\n",
              "      <td>0</td>\n",
              "      <td>...</td>\n",
              "      <td>88004.0</td>\n",
              "      <td>31237.0</td>\n",
              "      <td>15980.0</td>\n",
              "      <td>8500.0</td>\n",
              "      <td>20000.0</td>\n",
              "      <td>5003.0</td>\n",
              "      <td>3047.0</td>\n",
              "      <td>5000.0</td>\n",
              "      <td>1000.0</td>\n",
              "      <td>0</td>\n",
              "    </tr>\n",
              "    <tr>\n",
              "      <th>29996</th>\n",
              "      <td>29997</td>\n",
              "      <td>150000.0</td>\n",
              "      <td>1</td>\n",
              "      <td>3</td>\n",
              "      <td>2</td>\n",
              "      <td>43.0</td>\n",
              "      <td>-1</td>\n",
              "      <td>-1</td>\n",
              "      <td>-1</td>\n",
              "      <td>-1</td>\n",
              "      <td>...</td>\n",
              "      <td>8979.0</td>\n",
              "      <td>5190.0</td>\n",
              "      <td>0.0</td>\n",
              "      <td>1837.0</td>\n",
              "      <td>3526.0</td>\n",
              "      <td>8998.0</td>\n",
              "      <td>129.0</td>\n",
              "      <td>0.0</td>\n",
              "      <td>0.0</td>\n",
              "      <td>0</td>\n",
              "    </tr>\n",
              "    <tr>\n",
              "      <th>29997</th>\n",
              "      <td>29998</td>\n",
              "      <td>30000.0</td>\n",
              "      <td>1</td>\n",
              "      <td>2</td>\n",
              "      <td>2</td>\n",
              "      <td>37.0</td>\n",
              "      <td>4</td>\n",
              "      <td>3</td>\n",
              "      <td>2</td>\n",
              "      <td>-1</td>\n",
              "      <td>...</td>\n",
              "      <td>20878.0</td>\n",
              "      <td>20582.0</td>\n",
              "      <td>19357.0</td>\n",
              "      <td>0.0</td>\n",
              "      <td>0.0</td>\n",
              "      <td>22000.0</td>\n",
              "      <td>4200.0</td>\n",
              "      <td>2000.0</td>\n",
              "      <td>3100.0</td>\n",
              "      <td>1</td>\n",
              "    </tr>\n",
              "    <tr>\n",
              "      <th>29998</th>\n",
              "      <td>29999</td>\n",
              "      <td>80000.0</td>\n",
              "      <td>1</td>\n",
              "      <td>3</td>\n",
              "      <td>1</td>\n",
              "      <td>41.0</td>\n",
              "      <td>1</td>\n",
              "      <td>-1</td>\n",
              "      <td>0</td>\n",
              "      <td>0</td>\n",
              "      <td>...</td>\n",
              "      <td>52774.0</td>\n",
              "      <td>11855.0</td>\n",
              "      <td>48944.0</td>\n",
              "      <td>85900.0</td>\n",
              "      <td>3409.0</td>\n",
              "      <td>1178.0</td>\n",
              "      <td>1926.0</td>\n",
              "      <td>52964.0</td>\n",
              "      <td>1804.0</td>\n",
              "      <td>1</td>\n",
              "    </tr>\n",
              "    <tr>\n",
              "      <th>29999</th>\n",
              "      <td>30000</td>\n",
              "      <td>50000.0</td>\n",
              "      <td>1</td>\n",
              "      <td>2</td>\n",
              "      <td>1</td>\n",
              "      <td>46.0</td>\n",
              "      <td>0</td>\n",
              "      <td>0</td>\n",
              "      <td>0</td>\n",
              "      <td>0</td>\n",
              "      <td>...</td>\n",
              "      <td>36535.0</td>\n",
              "      <td>32428.0</td>\n",
              "      <td>15313.0</td>\n",
              "      <td>2078.0</td>\n",
              "      <td>1800.0</td>\n",
              "      <td>1430.0</td>\n",
              "      <td>1000.0</td>\n",
              "      <td>1000.0</td>\n",
              "      <td>1000.0</td>\n",
              "      <td>1</td>\n",
              "    </tr>\n",
              "  </tbody>\n",
              "</table>\n",
              "<p>30000 rows × 25 columns</p>\n",
              "</div>\n",
              "      <button class=\"colab-df-convert\" onclick=\"convertToInteractive('df-53535225-f21e-41bb-a48e-ec2e15b242ea')\"\n",
              "              title=\"Convert this dataframe to an interactive table.\"\n",
              "              style=\"display:none;\">\n",
              "\n",
              "  <svg xmlns=\"http://www.w3.org/2000/svg\" height=\"24px\"viewBox=\"0 0 24 24\"\n",
              "       width=\"24px\">\n",
              "    <path d=\"M0 0h24v24H0V0z\" fill=\"none\"/>\n",
              "    <path d=\"M18.56 5.44l.94 2.06.94-2.06 2.06-.94-2.06-.94-.94-2.06-.94 2.06-2.06.94zm-11 1L8.5 8.5l.94-2.06 2.06-.94-2.06-.94L8.5 2.5l-.94 2.06-2.06.94zm10 10l.94 2.06.94-2.06 2.06-.94-2.06-.94-.94-2.06-.94 2.06-2.06.94z\"/><path d=\"M17.41 7.96l-1.37-1.37c-.4-.4-.92-.59-1.43-.59-.52 0-1.04.2-1.43.59L10.3 9.45l-7.72 7.72c-.78.78-.78 2.05 0 2.83L4 21.41c.39.39.9.59 1.41.59.51 0 1.02-.2 1.41-.59l7.78-7.78 2.81-2.81c.8-.78.8-2.07 0-2.86zM5.41 20L4 18.59l7.72-7.72 1.47 1.35L5.41 20z\"/>\n",
              "  </svg>\n",
              "      </button>\n",
              "\n",
              "\n",
              "\n",
              "    <div id=\"df-e09c5e0a-33a5-45b8-b7ce-1c5800958e2e\">\n",
              "      <button class=\"colab-df-quickchart\" onclick=\"quickchart('df-e09c5e0a-33a5-45b8-b7ce-1c5800958e2e')\"\n",
              "              title=\"Suggest charts.\"\n",
              "              style=\"display:none;\">\n",
              "\n",
              "<svg xmlns=\"http://www.w3.org/2000/svg\" height=\"24px\"viewBox=\"0 0 24 24\"\n",
              "     width=\"24px\">\n",
              "    <g>\n",
              "        <path d=\"M19 3H5c-1.1 0-2 .9-2 2v14c0 1.1.9 2 2 2h14c1.1 0 2-.9 2-2V5c0-1.1-.9-2-2-2zM9 17H7v-7h2v7zm4 0h-2V7h2v10zm4 0h-2v-4h2v4z\"/>\n",
              "    </g>\n",
              "</svg>\n",
              "      </button>\n",
              "    </div>\n",
              "\n",
              "<style>\n",
              "  .colab-df-quickchart {\n",
              "    background-color: #E8F0FE;\n",
              "    border: none;\n",
              "    border-radius: 50%;\n",
              "    cursor: pointer;\n",
              "    display: none;\n",
              "    fill: #1967D2;\n",
              "    height: 32px;\n",
              "    padding: 0 0 0 0;\n",
              "    width: 32px;\n",
              "  }\n",
              "\n",
              "  .colab-df-quickchart:hover {\n",
              "    background-color: #E2EBFA;\n",
              "    box-shadow: 0px 1px 2px rgba(60, 64, 67, 0.3), 0px 1px 3px 1px rgba(60, 64, 67, 0.15);\n",
              "    fill: #174EA6;\n",
              "  }\n",
              "\n",
              "  [theme=dark] .colab-df-quickchart {\n",
              "    background-color: #3B4455;\n",
              "    fill: #D2E3FC;\n",
              "  }\n",
              "\n",
              "  [theme=dark] .colab-df-quickchart:hover {\n",
              "    background-color: #434B5C;\n",
              "    box-shadow: 0px 1px 3px 1px rgba(0, 0, 0, 0.15);\n",
              "    filter: drop-shadow(0px 1px 2px rgba(0, 0, 0, 0.3));\n",
              "    fill: #FFFFFF;\n",
              "  }\n",
              "</style>\n",
              "\n",
              "    <script>\n",
              "      async function quickchart(key) {\n",
              "        const containerElement = document.querySelector('#' + key);\n",
              "        const charts = await google.colab.kernel.invokeFunction(\n",
              "            'suggestCharts', [key], {});\n",
              "      }\n",
              "    </script>\n",
              "\n",
              "      <script>\n",
              "\n",
              "function displayQuickchartButton(domScope) {\n",
              "  let quickchartButtonEl =\n",
              "    domScope.querySelector('#df-e09c5e0a-33a5-45b8-b7ce-1c5800958e2e button.colab-df-quickchart');\n",
              "  quickchartButtonEl.style.display =\n",
              "    google.colab.kernel.accessAllowed ? 'block' : 'none';\n",
              "}\n",
              "\n",
              "        displayQuickchartButton(document);\n",
              "      </script>\n",
              "      <style>\n",
              "    .colab-df-container {\n",
              "      display:flex;\n",
              "      flex-wrap:wrap;\n",
              "      gap: 12px;\n",
              "    }\n",
              "\n",
              "    .colab-df-convert {\n",
              "      background-color: #E8F0FE;\n",
              "      border: none;\n",
              "      border-radius: 50%;\n",
              "      cursor: pointer;\n",
              "      display: none;\n",
              "      fill: #1967D2;\n",
              "      height: 32px;\n",
              "      padding: 0 0 0 0;\n",
              "      width: 32px;\n",
              "    }\n",
              "\n",
              "    .colab-df-convert:hover {\n",
              "      background-color: #E2EBFA;\n",
              "      box-shadow: 0px 1px 2px rgba(60, 64, 67, 0.3), 0px 1px 3px 1px rgba(60, 64, 67, 0.15);\n",
              "      fill: #174EA6;\n",
              "    }\n",
              "\n",
              "    [theme=dark] .colab-df-convert {\n",
              "      background-color: #3B4455;\n",
              "      fill: #D2E3FC;\n",
              "    }\n",
              "\n",
              "    [theme=dark] .colab-df-convert:hover {\n",
              "      background-color: #434B5C;\n",
              "      box-shadow: 0px 1px 3px 1px rgba(0, 0, 0, 0.15);\n",
              "      filter: drop-shadow(0px 1px 2px rgba(0, 0, 0, 0.3));\n",
              "      fill: #FFFFFF;\n",
              "    }\n",
              "  </style>\n",
              "\n",
              "      <script>\n",
              "        const buttonEl =\n",
              "          document.querySelector('#df-53535225-f21e-41bb-a48e-ec2e15b242ea button.colab-df-convert');\n",
              "        buttonEl.style.display =\n",
              "          google.colab.kernel.accessAllowed ? 'block' : 'none';\n",
              "\n",
              "        async function convertToInteractive(key) {\n",
              "          const element = document.querySelector('#df-53535225-f21e-41bb-a48e-ec2e15b242ea');\n",
              "          const dataTable =\n",
              "            await google.colab.kernel.invokeFunction('convertToInteractive',\n",
              "                                                     [key], {});\n",
              "          if (!dataTable) return;\n",
              "\n",
              "          const docLinkHtml = 'Like what you see? Visit the ' +\n",
              "            '<a target=\"_blank\" href=https://colab.research.google.com/notebooks/data_table.ipynb>data table notebook</a>'\n",
              "            + ' to learn more about interactive tables.';\n",
              "          element.innerHTML = '';\n",
              "          dataTable['output_type'] = 'display_data';\n",
              "          await google.colab.output.renderOutput(dataTable, element);\n",
              "          const docLink = document.createElement('div');\n",
              "          docLink.innerHTML = docLinkHtml;\n",
              "          element.appendChild(docLink);\n",
              "        }\n",
              "      </script>\n",
              "    </div>\n",
              "  </div>\n"
            ]
          },
          "metadata": {},
          "execution_count": 7
        }
      ],
      "source": [
        "df"
      ]
    },
    {
      "cell_type": "code",
      "execution_count": null,
      "metadata": {
        "colab": {
          "base_uri": "https://localhost:8080/"
        },
        "id": "eatiXUQ8gUhG",
        "outputId": "d0b6690d-33ac-4ba6-dde8-f0b665e9239f"
      },
      "outputs": [
        {
          "output_type": "execute_result",
          "data": {
            "text/plain": [
              "(30000, 25)"
            ]
          },
          "metadata": {},
          "execution_count": 8
        }
      ],
      "source": [
        "df.shape"
      ]
    },
    {
      "cell_type": "code",
      "execution_count": null,
      "metadata": {
        "colab": {
          "base_uri": "https://localhost:8080/"
        },
        "id": "o52fXdyWgUhH",
        "outputId": "ac7baa28-a32b-456b-bf4d-00116f50b0f4"
      },
      "outputs": [
        {
          "output_type": "execute_result",
          "data": {
            "text/plain": [
              "ID                            0\n",
              "LIMIT_BAL                     0\n",
              "SEX                           0\n",
              "EDUCATION                     0\n",
              "MARRIAGE                      0\n",
              "AGE                           2\n",
              "PAY_0                         0\n",
              "PAY_2                         0\n",
              "PAY_3                         0\n",
              "PAY_4                         0\n",
              "PAY_5                         0\n",
              "PAY_6                         0\n",
              "BILL_AMT1                     0\n",
              "BILL_AMT2                     0\n",
              "BILL_AMT3                     0\n",
              "BILL_AMT4                     0\n",
              "BILL_AMT5                     0\n",
              "BILL_AMT6                     0\n",
              "PAY_AMT1                      0\n",
              "PAY_AMT2                      0\n",
              "PAY_AMT3                      0\n",
              "PAY_AMT4                      0\n",
              "PAY_AMT5                      0\n",
              "PAY_AMT6                      0\n",
              "default.payment.next.month    0\n",
              "dtype: int64"
            ]
          },
          "metadata": {},
          "execution_count": 9
        }
      ],
      "source": [
        "df.isnull().sum()"
      ]
    },
    {
      "cell_type": "code",
      "execution_count": null,
      "metadata": {
        "id": "cB0tZyz1gUhH"
      },
      "outputs": [],
      "source": [
        "fill= df['AGE'].median()"
      ]
    },
    {
      "cell_type": "code",
      "execution_count": null,
      "metadata": {
        "id": "72JFVTXNgUhI"
      },
      "outputs": [],
      "source": [
        "df.AGE = df.AGE.fillna(fill)"
      ]
    },
    {
      "cell_type": "code",
      "execution_count": null,
      "metadata": {
        "colab": {
          "base_uri": "https://localhost:8080/"
        },
        "id": "IIieL-fNgUhI",
        "outputId": "3fbbea18-c73b-44f0-dbdb-3877e9d3cc40"
      },
      "outputs": [
        {
          "output_type": "execute_result",
          "data": {
            "text/plain": [
              "0        24.0\n",
              "1        26.0\n",
              "2        34.0\n",
              "3        34.0\n",
              "4        57.0\n",
              "         ... \n",
              "29995    39.0\n",
              "29996    43.0\n",
              "29997    37.0\n",
              "29998    41.0\n",
              "29999    46.0\n",
              "Name: AGE, Length: 30000, dtype: float64"
            ]
          },
          "metadata": {},
          "execution_count": 12
        }
      ],
      "source": [
        "df.AGE"
      ]
    },
    {
      "cell_type": "code",
      "execution_count": null,
      "metadata": {
        "id": "WN2IDYnBgUhI"
      },
      "outputs": [],
      "source": [
        "X = df.drop(['default.payment.next.month'],axis=1)"
      ]
    },
    {
      "cell_type": "code",
      "execution_count": null,
      "metadata": {
        "colab": {
          "base_uri": "https://localhost:8080/",
          "height": 488
        },
        "id": "NfAbb4bigUhJ",
        "outputId": "0839391a-32ce-4709-bf20-6f9cc6bf790e"
      },
      "outputs": [
        {
          "output_type": "execute_result",
          "data": {
            "text/plain": [
              "          ID  LIMIT_BAL  SEX  EDUCATION  MARRIAGE   AGE  PAY_0  PAY_2  PAY_3  \\\n",
              "0          1    20000.0    2          2         1  24.0      2      2     -1   \n",
              "1          2   120000.0    2          2         2  26.0     -1      2      0   \n",
              "2          3    90000.0    2          2         2  34.0      0      0      0   \n",
              "3          4    50000.0    2          2         1  34.0      0      0      0   \n",
              "4          5    50000.0    1          2         1  57.0     -1      0     -1   \n",
              "...      ...        ...  ...        ...       ...   ...    ...    ...    ...   \n",
              "29995  29996   220000.0    1          3         1  39.0      0      0      0   \n",
              "29996  29997   150000.0    1          3         2  43.0     -1     -1     -1   \n",
              "29997  29998    30000.0    1          2         2  37.0      4      3      2   \n",
              "29998  29999    80000.0    1          3         1  41.0      1     -1      0   \n",
              "29999  30000    50000.0    1          2         1  46.0      0      0      0   \n",
              "\n",
              "       PAY_4  ...  BILL_AMT3  BILL_AMT4  BILL_AMT5  BILL_AMT6  PAY_AMT1  \\\n",
              "0         -1  ...      689.0        0.0        0.0        0.0       0.0   \n",
              "1          0  ...     2682.0     3272.0     3455.0     3261.0       0.0   \n",
              "2          0  ...    13559.0    14331.0    14948.0    15549.0    1518.0   \n",
              "3          0  ...    49291.0    28314.0    28959.0    29547.0    2000.0   \n",
              "4          0  ...    35835.0    20940.0    19146.0    19131.0    2000.0   \n",
              "...      ...  ...        ...        ...        ...        ...       ...   \n",
              "29995      0  ...   208365.0    88004.0    31237.0    15980.0    8500.0   \n",
              "29996     -1  ...     3502.0     8979.0     5190.0        0.0    1837.0   \n",
              "29997     -1  ...     2758.0    20878.0    20582.0    19357.0       0.0   \n",
              "29998      0  ...    76304.0    52774.0    11855.0    48944.0   85900.0   \n",
              "29999      0  ...    49764.0    36535.0    32428.0    15313.0    2078.0   \n",
              "\n",
              "       PAY_AMT2  PAY_AMT3  PAY_AMT4  PAY_AMT5  PAY_AMT6  \n",
              "0         689.0       0.0       0.0       0.0       0.0  \n",
              "1        1000.0    1000.0    1000.0       0.0    2000.0  \n",
              "2        1500.0    1000.0    1000.0    1000.0    5000.0  \n",
              "3        2018.0    1200.0    1100.0    1069.0    1000.0  \n",
              "4       36681.0   10000.0    9000.0     689.0     679.0  \n",
              "...         ...       ...       ...       ...       ...  \n",
              "29995   20000.0    5003.0    3047.0    5000.0    1000.0  \n",
              "29996    3526.0    8998.0     129.0       0.0       0.0  \n",
              "29997       0.0   22000.0    4200.0    2000.0    3100.0  \n",
              "29998    3409.0    1178.0    1926.0   52964.0    1804.0  \n",
              "29999    1800.0    1430.0    1000.0    1000.0    1000.0  \n",
              "\n",
              "[30000 rows x 24 columns]"
            ],
            "text/html": [
              "\n",
              "\n",
              "  <div id=\"df-cc71be2f-1734-4cf6-8a6a-438949607871\">\n",
              "    <div class=\"colab-df-container\">\n",
              "      <div>\n",
              "<style scoped>\n",
              "    .dataframe tbody tr th:only-of-type {\n",
              "        vertical-align: middle;\n",
              "    }\n",
              "\n",
              "    .dataframe tbody tr th {\n",
              "        vertical-align: top;\n",
              "    }\n",
              "\n",
              "    .dataframe thead th {\n",
              "        text-align: right;\n",
              "    }\n",
              "</style>\n",
              "<table border=\"1\" class=\"dataframe\">\n",
              "  <thead>\n",
              "    <tr style=\"text-align: right;\">\n",
              "      <th></th>\n",
              "      <th>ID</th>\n",
              "      <th>LIMIT_BAL</th>\n",
              "      <th>SEX</th>\n",
              "      <th>EDUCATION</th>\n",
              "      <th>MARRIAGE</th>\n",
              "      <th>AGE</th>\n",
              "      <th>PAY_0</th>\n",
              "      <th>PAY_2</th>\n",
              "      <th>PAY_3</th>\n",
              "      <th>PAY_4</th>\n",
              "      <th>...</th>\n",
              "      <th>BILL_AMT3</th>\n",
              "      <th>BILL_AMT4</th>\n",
              "      <th>BILL_AMT5</th>\n",
              "      <th>BILL_AMT6</th>\n",
              "      <th>PAY_AMT1</th>\n",
              "      <th>PAY_AMT2</th>\n",
              "      <th>PAY_AMT3</th>\n",
              "      <th>PAY_AMT4</th>\n",
              "      <th>PAY_AMT5</th>\n",
              "      <th>PAY_AMT6</th>\n",
              "    </tr>\n",
              "  </thead>\n",
              "  <tbody>\n",
              "    <tr>\n",
              "      <th>0</th>\n",
              "      <td>1</td>\n",
              "      <td>20000.0</td>\n",
              "      <td>2</td>\n",
              "      <td>2</td>\n",
              "      <td>1</td>\n",
              "      <td>24.0</td>\n",
              "      <td>2</td>\n",
              "      <td>2</td>\n",
              "      <td>-1</td>\n",
              "      <td>-1</td>\n",
              "      <td>...</td>\n",
              "      <td>689.0</td>\n",
              "      <td>0.0</td>\n",
              "      <td>0.0</td>\n",
              "      <td>0.0</td>\n",
              "      <td>0.0</td>\n",
              "      <td>689.0</td>\n",
              "      <td>0.0</td>\n",
              "      <td>0.0</td>\n",
              "      <td>0.0</td>\n",
              "      <td>0.0</td>\n",
              "    </tr>\n",
              "    <tr>\n",
              "      <th>1</th>\n",
              "      <td>2</td>\n",
              "      <td>120000.0</td>\n",
              "      <td>2</td>\n",
              "      <td>2</td>\n",
              "      <td>2</td>\n",
              "      <td>26.0</td>\n",
              "      <td>-1</td>\n",
              "      <td>2</td>\n",
              "      <td>0</td>\n",
              "      <td>0</td>\n",
              "      <td>...</td>\n",
              "      <td>2682.0</td>\n",
              "      <td>3272.0</td>\n",
              "      <td>3455.0</td>\n",
              "      <td>3261.0</td>\n",
              "      <td>0.0</td>\n",
              "      <td>1000.0</td>\n",
              "      <td>1000.0</td>\n",
              "      <td>1000.0</td>\n",
              "      <td>0.0</td>\n",
              "      <td>2000.0</td>\n",
              "    </tr>\n",
              "    <tr>\n",
              "      <th>2</th>\n",
              "      <td>3</td>\n",
              "      <td>90000.0</td>\n",
              "      <td>2</td>\n",
              "      <td>2</td>\n",
              "      <td>2</td>\n",
              "      <td>34.0</td>\n",
              "      <td>0</td>\n",
              "      <td>0</td>\n",
              "      <td>0</td>\n",
              "      <td>0</td>\n",
              "      <td>...</td>\n",
              "      <td>13559.0</td>\n",
              "      <td>14331.0</td>\n",
              "      <td>14948.0</td>\n",
              "      <td>15549.0</td>\n",
              "      <td>1518.0</td>\n",
              "      <td>1500.0</td>\n",
              "      <td>1000.0</td>\n",
              "      <td>1000.0</td>\n",
              "      <td>1000.0</td>\n",
              "      <td>5000.0</td>\n",
              "    </tr>\n",
              "    <tr>\n",
              "      <th>3</th>\n",
              "      <td>4</td>\n",
              "      <td>50000.0</td>\n",
              "      <td>2</td>\n",
              "      <td>2</td>\n",
              "      <td>1</td>\n",
              "      <td>34.0</td>\n",
              "      <td>0</td>\n",
              "      <td>0</td>\n",
              "      <td>0</td>\n",
              "      <td>0</td>\n",
              "      <td>...</td>\n",
              "      <td>49291.0</td>\n",
              "      <td>28314.0</td>\n",
              "      <td>28959.0</td>\n",
              "      <td>29547.0</td>\n",
              "      <td>2000.0</td>\n",
              "      <td>2018.0</td>\n",
              "      <td>1200.0</td>\n",
              "      <td>1100.0</td>\n",
              "      <td>1069.0</td>\n",
              "      <td>1000.0</td>\n",
              "    </tr>\n",
              "    <tr>\n",
              "      <th>4</th>\n",
              "      <td>5</td>\n",
              "      <td>50000.0</td>\n",
              "      <td>1</td>\n",
              "      <td>2</td>\n",
              "      <td>1</td>\n",
              "      <td>57.0</td>\n",
              "      <td>-1</td>\n",
              "      <td>0</td>\n",
              "      <td>-1</td>\n",
              "      <td>0</td>\n",
              "      <td>...</td>\n",
              "      <td>35835.0</td>\n",
              "      <td>20940.0</td>\n",
              "      <td>19146.0</td>\n",
              "      <td>19131.0</td>\n",
              "      <td>2000.0</td>\n",
              "      <td>36681.0</td>\n",
              "      <td>10000.0</td>\n",
              "      <td>9000.0</td>\n",
              "      <td>689.0</td>\n",
              "      <td>679.0</td>\n",
              "    </tr>\n",
              "    <tr>\n",
              "      <th>...</th>\n",
              "      <td>...</td>\n",
              "      <td>...</td>\n",
              "      <td>...</td>\n",
              "      <td>...</td>\n",
              "      <td>...</td>\n",
              "      <td>...</td>\n",
              "      <td>...</td>\n",
              "      <td>...</td>\n",
              "      <td>...</td>\n",
              "      <td>...</td>\n",
              "      <td>...</td>\n",
              "      <td>...</td>\n",
              "      <td>...</td>\n",
              "      <td>...</td>\n",
              "      <td>...</td>\n",
              "      <td>...</td>\n",
              "      <td>...</td>\n",
              "      <td>...</td>\n",
              "      <td>...</td>\n",
              "      <td>...</td>\n",
              "      <td>...</td>\n",
              "    </tr>\n",
              "    <tr>\n",
              "      <th>29995</th>\n",
              "      <td>29996</td>\n",
              "      <td>220000.0</td>\n",
              "      <td>1</td>\n",
              "      <td>3</td>\n",
              "      <td>1</td>\n",
              "      <td>39.0</td>\n",
              "      <td>0</td>\n",
              "      <td>0</td>\n",
              "      <td>0</td>\n",
              "      <td>0</td>\n",
              "      <td>...</td>\n",
              "      <td>208365.0</td>\n",
              "      <td>88004.0</td>\n",
              "      <td>31237.0</td>\n",
              "      <td>15980.0</td>\n",
              "      <td>8500.0</td>\n",
              "      <td>20000.0</td>\n",
              "      <td>5003.0</td>\n",
              "      <td>3047.0</td>\n",
              "      <td>5000.0</td>\n",
              "      <td>1000.0</td>\n",
              "    </tr>\n",
              "    <tr>\n",
              "      <th>29996</th>\n",
              "      <td>29997</td>\n",
              "      <td>150000.0</td>\n",
              "      <td>1</td>\n",
              "      <td>3</td>\n",
              "      <td>2</td>\n",
              "      <td>43.0</td>\n",
              "      <td>-1</td>\n",
              "      <td>-1</td>\n",
              "      <td>-1</td>\n",
              "      <td>-1</td>\n",
              "      <td>...</td>\n",
              "      <td>3502.0</td>\n",
              "      <td>8979.0</td>\n",
              "      <td>5190.0</td>\n",
              "      <td>0.0</td>\n",
              "      <td>1837.0</td>\n",
              "      <td>3526.0</td>\n",
              "      <td>8998.0</td>\n",
              "      <td>129.0</td>\n",
              "      <td>0.0</td>\n",
              "      <td>0.0</td>\n",
              "    </tr>\n",
              "    <tr>\n",
              "      <th>29997</th>\n",
              "      <td>29998</td>\n",
              "      <td>30000.0</td>\n",
              "      <td>1</td>\n",
              "      <td>2</td>\n",
              "      <td>2</td>\n",
              "      <td>37.0</td>\n",
              "      <td>4</td>\n",
              "      <td>3</td>\n",
              "      <td>2</td>\n",
              "      <td>-1</td>\n",
              "      <td>...</td>\n",
              "      <td>2758.0</td>\n",
              "      <td>20878.0</td>\n",
              "      <td>20582.0</td>\n",
              "      <td>19357.0</td>\n",
              "      <td>0.0</td>\n",
              "      <td>0.0</td>\n",
              "      <td>22000.0</td>\n",
              "      <td>4200.0</td>\n",
              "      <td>2000.0</td>\n",
              "      <td>3100.0</td>\n",
              "    </tr>\n",
              "    <tr>\n",
              "      <th>29998</th>\n",
              "      <td>29999</td>\n",
              "      <td>80000.0</td>\n",
              "      <td>1</td>\n",
              "      <td>3</td>\n",
              "      <td>1</td>\n",
              "      <td>41.0</td>\n",
              "      <td>1</td>\n",
              "      <td>-1</td>\n",
              "      <td>0</td>\n",
              "      <td>0</td>\n",
              "      <td>...</td>\n",
              "      <td>76304.0</td>\n",
              "      <td>52774.0</td>\n",
              "      <td>11855.0</td>\n",
              "      <td>48944.0</td>\n",
              "      <td>85900.0</td>\n",
              "      <td>3409.0</td>\n",
              "      <td>1178.0</td>\n",
              "      <td>1926.0</td>\n",
              "      <td>52964.0</td>\n",
              "      <td>1804.0</td>\n",
              "    </tr>\n",
              "    <tr>\n",
              "      <th>29999</th>\n",
              "      <td>30000</td>\n",
              "      <td>50000.0</td>\n",
              "      <td>1</td>\n",
              "      <td>2</td>\n",
              "      <td>1</td>\n",
              "      <td>46.0</td>\n",
              "      <td>0</td>\n",
              "      <td>0</td>\n",
              "      <td>0</td>\n",
              "      <td>0</td>\n",
              "      <td>...</td>\n",
              "      <td>49764.0</td>\n",
              "      <td>36535.0</td>\n",
              "      <td>32428.0</td>\n",
              "      <td>15313.0</td>\n",
              "      <td>2078.0</td>\n",
              "      <td>1800.0</td>\n",
              "      <td>1430.0</td>\n",
              "      <td>1000.0</td>\n",
              "      <td>1000.0</td>\n",
              "      <td>1000.0</td>\n",
              "    </tr>\n",
              "  </tbody>\n",
              "</table>\n",
              "<p>30000 rows × 24 columns</p>\n",
              "</div>\n",
              "      <button class=\"colab-df-convert\" onclick=\"convertToInteractive('df-cc71be2f-1734-4cf6-8a6a-438949607871')\"\n",
              "              title=\"Convert this dataframe to an interactive table.\"\n",
              "              style=\"display:none;\">\n",
              "\n",
              "  <svg xmlns=\"http://www.w3.org/2000/svg\" height=\"24px\"viewBox=\"0 0 24 24\"\n",
              "       width=\"24px\">\n",
              "    <path d=\"M0 0h24v24H0V0z\" fill=\"none\"/>\n",
              "    <path d=\"M18.56 5.44l.94 2.06.94-2.06 2.06-.94-2.06-.94-.94-2.06-.94 2.06-2.06.94zm-11 1L8.5 8.5l.94-2.06 2.06-.94-2.06-.94L8.5 2.5l-.94 2.06-2.06.94zm10 10l.94 2.06.94-2.06 2.06-.94-2.06-.94-.94-2.06-.94 2.06-2.06.94z\"/><path d=\"M17.41 7.96l-1.37-1.37c-.4-.4-.92-.59-1.43-.59-.52 0-1.04.2-1.43.59L10.3 9.45l-7.72 7.72c-.78.78-.78 2.05 0 2.83L4 21.41c.39.39.9.59 1.41.59.51 0 1.02-.2 1.41-.59l7.78-7.78 2.81-2.81c.8-.78.8-2.07 0-2.86zM5.41 20L4 18.59l7.72-7.72 1.47 1.35L5.41 20z\"/>\n",
              "  </svg>\n",
              "      </button>\n",
              "\n",
              "\n",
              "\n",
              "    <div id=\"df-3a5600c3-512c-413e-a181-6a6e224de896\">\n",
              "      <button class=\"colab-df-quickchart\" onclick=\"quickchart('df-3a5600c3-512c-413e-a181-6a6e224de896')\"\n",
              "              title=\"Suggest charts.\"\n",
              "              style=\"display:none;\">\n",
              "\n",
              "<svg xmlns=\"http://www.w3.org/2000/svg\" height=\"24px\"viewBox=\"0 0 24 24\"\n",
              "     width=\"24px\">\n",
              "    <g>\n",
              "        <path d=\"M19 3H5c-1.1 0-2 .9-2 2v14c0 1.1.9 2 2 2h14c1.1 0 2-.9 2-2V5c0-1.1-.9-2-2-2zM9 17H7v-7h2v7zm4 0h-2V7h2v10zm4 0h-2v-4h2v4z\"/>\n",
              "    </g>\n",
              "</svg>\n",
              "      </button>\n",
              "    </div>\n",
              "\n",
              "<style>\n",
              "  .colab-df-quickchart {\n",
              "    background-color: #E8F0FE;\n",
              "    border: none;\n",
              "    border-radius: 50%;\n",
              "    cursor: pointer;\n",
              "    display: none;\n",
              "    fill: #1967D2;\n",
              "    height: 32px;\n",
              "    padding: 0 0 0 0;\n",
              "    width: 32px;\n",
              "  }\n",
              "\n",
              "  .colab-df-quickchart:hover {\n",
              "    background-color: #E2EBFA;\n",
              "    box-shadow: 0px 1px 2px rgba(60, 64, 67, 0.3), 0px 1px 3px 1px rgba(60, 64, 67, 0.15);\n",
              "    fill: #174EA6;\n",
              "  }\n",
              "\n",
              "  [theme=dark] .colab-df-quickchart {\n",
              "    background-color: #3B4455;\n",
              "    fill: #D2E3FC;\n",
              "  }\n",
              "\n",
              "  [theme=dark] .colab-df-quickchart:hover {\n",
              "    background-color: #434B5C;\n",
              "    box-shadow: 0px 1px 3px 1px rgba(0, 0, 0, 0.15);\n",
              "    filter: drop-shadow(0px 1px 2px rgba(0, 0, 0, 0.3));\n",
              "    fill: #FFFFFF;\n",
              "  }\n",
              "</style>\n",
              "\n",
              "    <script>\n",
              "      async function quickchart(key) {\n",
              "        const containerElement = document.querySelector('#' + key);\n",
              "        const charts = await google.colab.kernel.invokeFunction(\n",
              "            'suggestCharts', [key], {});\n",
              "      }\n",
              "    </script>\n",
              "\n",
              "      <script>\n",
              "\n",
              "function displayQuickchartButton(domScope) {\n",
              "  let quickchartButtonEl =\n",
              "    domScope.querySelector('#df-3a5600c3-512c-413e-a181-6a6e224de896 button.colab-df-quickchart');\n",
              "  quickchartButtonEl.style.display =\n",
              "    google.colab.kernel.accessAllowed ? 'block' : 'none';\n",
              "}\n",
              "\n",
              "        displayQuickchartButton(document);\n",
              "      </script>\n",
              "      <style>\n",
              "    .colab-df-container {\n",
              "      display:flex;\n",
              "      flex-wrap:wrap;\n",
              "      gap: 12px;\n",
              "    }\n",
              "\n",
              "    .colab-df-convert {\n",
              "      background-color: #E8F0FE;\n",
              "      border: none;\n",
              "      border-radius: 50%;\n",
              "      cursor: pointer;\n",
              "      display: none;\n",
              "      fill: #1967D2;\n",
              "      height: 32px;\n",
              "      padding: 0 0 0 0;\n",
              "      width: 32px;\n",
              "    }\n",
              "\n",
              "    .colab-df-convert:hover {\n",
              "      background-color: #E2EBFA;\n",
              "      box-shadow: 0px 1px 2px rgba(60, 64, 67, 0.3), 0px 1px 3px 1px rgba(60, 64, 67, 0.15);\n",
              "      fill: #174EA6;\n",
              "    }\n",
              "\n",
              "    [theme=dark] .colab-df-convert {\n",
              "      background-color: #3B4455;\n",
              "      fill: #D2E3FC;\n",
              "    }\n",
              "\n",
              "    [theme=dark] .colab-df-convert:hover {\n",
              "      background-color: #434B5C;\n",
              "      box-shadow: 0px 1px 3px 1px rgba(0, 0, 0, 0.15);\n",
              "      filter: drop-shadow(0px 1px 2px rgba(0, 0, 0, 0.3));\n",
              "      fill: #FFFFFF;\n",
              "    }\n",
              "  </style>\n",
              "\n",
              "      <script>\n",
              "        const buttonEl =\n",
              "          document.querySelector('#df-cc71be2f-1734-4cf6-8a6a-438949607871 button.colab-df-convert');\n",
              "        buttonEl.style.display =\n",
              "          google.colab.kernel.accessAllowed ? 'block' : 'none';\n",
              "\n",
              "        async function convertToInteractive(key) {\n",
              "          const element = document.querySelector('#df-cc71be2f-1734-4cf6-8a6a-438949607871');\n",
              "          const dataTable =\n",
              "            await google.colab.kernel.invokeFunction('convertToInteractive',\n",
              "                                                     [key], {});\n",
              "          if (!dataTable) return;\n",
              "\n",
              "          const docLinkHtml = 'Like what you see? Visit the ' +\n",
              "            '<a target=\"_blank\" href=https://colab.research.google.com/notebooks/data_table.ipynb>data table notebook</a>'\n",
              "            + ' to learn more about interactive tables.';\n",
              "          element.innerHTML = '';\n",
              "          dataTable['output_type'] = 'display_data';\n",
              "          await google.colab.output.renderOutput(dataTable, element);\n",
              "          const docLink = document.createElement('div');\n",
              "          docLink.innerHTML = docLinkHtml;\n",
              "          element.appendChild(docLink);\n",
              "        }\n",
              "      </script>\n",
              "    </div>\n",
              "  </div>\n"
            ]
          },
          "metadata": {},
          "execution_count": 14
        }
      ],
      "source": [
        "X"
      ]
    },
    {
      "cell_type": "code",
      "execution_count": null,
      "metadata": {
        "id": "JlRXHStPgUhJ"
      },
      "outputs": [],
      "source": [
        "y= df['default.payment.next.month']"
      ]
    },
    {
      "cell_type": "code",
      "execution_count": null,
      "metadata": {
        "colab": {
          "base_uri": "https://localhost:8080/"
        },
        "id": "sBNOoiLQgUhJ",
        "outputId": "0fcfd21c-352b-41dd-93ce-f119dd6181bb"
      },
      "outputs": [
        {
          "output_type": "execute_result",
          "data": {
            "text/plain": [
              "0        1\n",
              "1        1\n",
              "2        0\n",
              "3        0\n",
              "4        0\n",
              "        ..\n",
              "29995    0\n",
              "29996    0\n",
              "29997    1\n",
              "29998    1\n",
              "29999    1\n",
              "Name: default.payment.next.month, Length: 30000, dtype: int64"
            ]
          },
          "metadata": {},
          "execution_count": 16
        }
      ],
      "source": [
        "y"
      ]
    },
    {
      "cell_type": "code",
      "execution_count": null,
      "metadata": {
        "id": "c8WlFA9-gUhJ"
      },
      "outputs": [],
      "source": [
        "#Dataset splitting\n",
        "from sklearn.model_selection import train_test_split\n",
        "X_train,X_test,y_train,y_test=train_test_split(X,y,test_size=.30,random_state=1)"
      ]
    },
    {
      "cell_type": "code",
      "execution_count": null,
      "metadata": {
        "colab": {
          "base_uri": "https://localhost:8080/",
          "height": 75
        },
        "id": "VIR3q7b2gUhK",
        "outputId": "c6a7ad7f-88a9-4eb6-e082-6658b32ee363"
      },
      "outputs": [
        {
          "output_type": "execute_result",
          "data": {
            "text/plain": [
              "SVC(gamma='auto')"
            ],
            "text/html": [
              "<style>#sk-container-id-1 {color: black;background-color: white;}#sk-container-id-1 pre{padding: 0;}#sk-container-id-1 div.sk-toggleable {background-color: white;}#sk-container-id-1 label.sk-toggleable__label {cursor: pointer;display: block;width: 100%;margin-bottom: 0;padding: 0.3em;box-sizing: border-box;text-align: center;}#sk-container-id-1 label.sk-toggleable__label-arrow:before {content: \"▸\";float: left;margin-right: 0.25em;color: #696969;}#sk-container-id-1 label.sk-toggleable__label-arrow:hover:before {color: black;}#sk-container-id-1 div.sk-estimator:hover label.sk-toggleable__label-arrow:before {color: black;}#sk-container-id-1 div.sk-toggleable__content {max-height: 0;max-width: 0;overflow: hidden;text-align: left;background-color: #f0f8ff;}#sk-container-id-1 div.sk-toggleable__content pre {margin: 0.2em;color: black;border-radius: 0.25em;background-color: #f0f8ff;}#sk-container-id-1 input.sk-toggleable__control:checked~div.sk-toggleable__content {max-height: 200px;max-width: 100%;overflow: auto;}#sk-container-id-1 input.sk-toggleable__control:checked~label.sk-toggleable__label-arrow:before {content: \"▾\";}#sk-container-id-1 div.sk-estimator input.sk-toggleable__control:checked~label.sk-toggleable__label {background-color: #d4ebff;}#sk-container-id-1 div.sk-label input.sk-toggleable__control:checked~label.sk-toggleable__label {background-color: #d4ebff;}#sk-container-id-1 input.sk-hidden--visually {border: 0;clip: rect(1px 1px 1px 1px);clip: rect(1px, 1px, 1px, 1px);height: 1px;margin: -1px;overflow: hidden;padding: 0;position: absolute;width: 1px;}#sk-container-id-1 div.sk-estimator {font-family: monospace;background-color: #f0f8ff;border: 1px dotted black;border-radius: 0.25em;box-sizing: border-box;margin-bottom: 0.5em;}#sk-container-id-1 div.sk-estimator:hover {background-color: #d4ebff;}#sk-container-id-1 div.sk-parallel-item::after {content: \"\";width: 100%;border-bottom: 1px solid gray;flex-grow: 1;}#sk-container-id-1 div.sk-label:hover label.sk-toggleable__label {background-color: #d4ebff;}#sk-container-id-1 div.sk-serial::before {content: \"\";position: absolute;border-left: 1px solid gray;box-sizing: border-box;top: 0;bottom: 0;left: 50%;z-index: 0;}#sk-container-id-1 div.sk-serial {display: flex;flex-direction: column;align-items: center;background-color: white;padding-right: 0.2em;padding-left: 0.2em;position: relative;}#sk-container-id-1 div.sk-item {position: relative;z-index: 1;}#sk-container-id-1 div.sk-parallel {display: flex;align-items: stretch;justify-content: center;background-color: white;position: relative;}#sk-container-id-1 div.sk-item::before, #sk-container-id-1 div.sk-parallel-item::before {content: \"\";position: absolute;border-left: 1px solid gray;box-sizing: border-box;top: 0;bottom: 0;left: 50%;z-index: -1;}#sk-container-id-1 div.sk-parallel-item {display: flex;flex-direction: column;z-index: 1;position: relative;background-color: white;}#sk-container-id-1 div.sk-parallel-item:first-child::after {align-self: flex-end;width: 50%;}#sk-container-id-1 div.sk-parallel-item:last-child::after {align-self: flex-start;width: 50%;}#sk-container-id-1 div.sk-parallel-item:only-child::after {width: 0;}#sk-container-id-1 div.sk-dashed-wrapped {border: 1px dashed gray;margin: 0 0.4em 0.5em 0.4em;box-sizing: border-box;padding-bottom: 0.4em;background-color: white;}#sk-container-id-1 div.sk-label label {font-family: monospace;font-weight: bold;display: inline-block;line-height: 1.2em;}#sk-container-id-1 div.sk-label-container {text-align: center;}#sk-container-id-1 div.sk-container {/* jupyter's `normalize.less` sets `[hidden] { display: none; }` but bootstrap.min.css set `[hidden] { display: none !important; }` so we also need the `!important` here to be able to override the default hidden behavior on the sphinx rendered scikit-learn.org. See: https://github.com/scikit-learn/scikit-learn/issues/21755 */display: inline-block !important;position: relative;}#sk-container-id-1 div.sk-text-repr-fallback {display: none;}</style><div id=\"sk-container-id-1\" class=\"sk-top-container\"><div class=\"sk-text-repr-fallback\"><pre>SVC(gamma=&#x27;auto&#x27;)</pre><b>In a Jupyter environment, please rerun this cell to show the HTML representation or trust the notebook. <br />On GitHub, the HTML representation is unable to render, please try loading this page with nbviewer.org.</b></div><div class=\"sk-container\" hidden><div class=\"sk-item\"><div class=\"sk-estimator sk-toggleable\"><input class=\"sk-toggleable__control sk-hidden--visually\" id=\"sk-estimator-id-1\" type=\"checkbox\" checked><label for=\"sk-estimator-id-1\" class=\"sk-toggleable__label sk-toggleable__label-arrow\">SVC</label><div class=\"sk-toggleable__content\"><pre>SVC(gamma=&#x27;auto&#x27;)</pre></div></div></div></div></div>"
            ]
          },
          "metadata": {},
          "execution_count": 18
        }
      ],
      "source": [
        "#Train Model\n",
        "import seaborn\n",
        "from sklearn.svm import SVC\n",
        "r=SVC(gamma='auto')\n",
        "r.fit(X_train, y_train)"
      ]
    },
    {
      "cell_type": "code",
      "execution_count": null,
      "metadata": {
        "id": "vXZL9lpLgUhK"
      },
      "outputs": [],
      "source": [
        "#predict\n",
        "pred2= r.predict(X_test)"
      ]
    },
    {
      "cell_type": "code",
      "source": [
        "from sklearn.tree import DecisionTreeClassifier, plot_tree\n",
        "from sklearn import tree"
      ],
      "metadata": {
        "id": "oNwzhCowwL7v"
      },
      "execution_count": null,
      "outputs": []
    },
    {
      "cell_type": "code",
      "source": [
        "tree.plot_tree(d)"
      ],
      "metadata": {
        "colab": {
          "base_uri": "https://localhost:8080/",
          "height": 1000
        },
        "id": "tR4bN0hixbDn",
        "outputId": "b612c49a-72d0-4d5a-c0fa-2b49e2913636"
      },
      "execution_count": null,
      "outputs": [
        {
          "output_type": "execute_result",
          "data": {
            "text/plain": [
              "[Text(0.7502099992968937, 0.9886363636363636, 'x[6] <= 1.5\\ngini = 0.344\\nsamples = 21000\\nvalue = [16364, 4636]'),\n",
              " Text(0.5973031466664003, 0.9659090909090909, 'x[7] <= 1.5\\ngini = 0.275\\nsamples = 18773\\nvalue = [15683, 3090]'),\n",
              " Text(0.39278559022158577, 0.9431818181818182, 'x[20] <= 850.5\\ngini = 0.242\\nsamples = 17161\\nvalue = [14744, 2417]'),\n",
              " Text(0.18478803604674496, 0.9204545454545454, 'x[12] <= 530.0\\ngini = 0.332\\nsamples = 5100\\nvalue = [4028, 1072]'),\n",
              " Text(0.10469319236612026, 0.8977272727272727, 'x[20] <= 1.5\\ngini = 0.399\\nsamples = 1934\\nvalue = [1402, 532]'),\n",
              " Text(0.08867365073867652, 0.875, 'x[15] <= 393.0\\ngini = 0.422\\nsamples = 1379\\nvalue = [961, 418]'),\n",
              " Text(0.07581611013219113, 0.8522727272727273, 'x[23] <= 164.0\\ngini = 0.412\\nsamples = 1287\\nvalue = [914, 373]'),\n",
              " Text(0.059036876786574564, 0.8295454545454546, 'x[1] <= 315000.0\\ngini = 0.436\\nsamples = 987\\nvalue = [670, 317]'),\n",
              " Text(0.037539506739228026, 0.8068181818181818, 'x[6] <= 0.5\\ngini = 0.41\\nsamples = 785\\nvalue = [559, 226]'),\n",
              " Text(0.011064759455149644, 0.7840909090909091, 'x[0] <= 13186.5\\ngini = 0.354\\nsamples = 335\\nvalue = [258, 77]'),\n",
              " Text(0.0039525205114968615, 0.7613636363636364, 'x[15] <= -9.5\\ngini = 0.247\\nsamples = 125\\nvalue = [107, 18]'),\n",
              " Text(0.0013656549275603772, 0.7386363636363636, 'x[14] <= -24.5\\ngini = 0.494\\nsamples = 9\\nvalue = [5, 4]'),\n",
              " Text(0.0009454534113879535, 0.7159090909090909, 'x[5] <= 23.5\\ngini = 0.278\\nsamples = 6\\nvalue = [5, 1]'),\n",
              " Text(0.0005252518952155298, 0.6931818181818182, 'gini = 0.0\\nsamples = 1\\nvalue = [0, 1]'),\n",
              " Text(0.0013656549275603772, 0.6931818181818182, 'gini = 0.0\\nsamples = 5\\nvalue = [5, 0]'),\n",
              " Text(0.001785856443732801, 0.7159090909090909, 'gini = 0.0\\nsamples = 3\\nvalue = [0, 3]'),\n",
              " Text(0.006539386095433345, 0.7386363636363636, 'x[22] <= 1317.0\\ngini = 0.212\\nsamples = 116\\nvalue = [102, 14]'),\n",
              " Text(0.004674741867418215, 0.7159090909090909, 'x[0] <= 8787.5\\ngini = 0.191\\nsamples = 112\\nvalue = [100, 12]'),\n",
              " Text(0.0022060579599052247, 0.6931818181818182, 'x[0] <= 43.5\\ngini = 0.136\\nsamples = 82\\nvalue = [76, 6]'),\n",
              " Text(0.0008404030323448476, 0.6704545454545454, 'x[2] <= 1.5\\ngini = 0.5\\nsamples = 2\\nvalue = [1, 1]'),\n",
              " Text(0.0004202015161724238, 0.6477272727272727, 'gini = 0.0\\nsamples = 1\\nvalue = [1, 0]'),\n",
              " Text(0.0012606045485172713, 0.6477272727272727, 'gini = 0.0\\nsamples = 1\\nvalue = [0, 1]'),\n",
              " Text(0.003571712887465602, 0.6704545454545454, 'x[6] <= -1.5\\ngini = 0.117\\nsamples = 80\\nvalue = [75, 5]'),\n",
              " Text(0.002101007580862119, 0.6477272727272727, 'x[18] <= 904.5\\ngini = 0.067\\nsamples = 58\\nvalue = [56, 2]'),\n",
              " Text(0.0012606045485172713, 0.625, 'x[5] <= 26.5\\ngini = 0.036\\nsamples = 54\\nvalue = [53, 1]'),\n",
              " Text(0.0008404030323448476, 0.6022727272727273, 'x[4] <= 1.5\\ngini = 0.165\\nsamples = 11\\nvalue = [10, 1]'),\n",
              " Text(0.0004202015161724238, 0.5795454545454546, 'gini = 0.0\\nsamples = 1\\nvalue = [0, 1]'),\n",
              " Text(0.0012606045485172713, 0.5795454545454546, 'gini = 0.0\\nsamples = 10\\nvalue = [10, 0]'),\n",
              " Text(0.0016808060646896952, 0.6022727272727273, 'gini = 0.0\\nsamples = 43\\nvalue = [43, 0]'),\n",
              " Text(0.0029414106132069663, 0.625, 'x[5] <= 41.0\\ngini = 0.375\\nsamples = 4\\nvalue = [3, 1]'),\n",
              " Text(0.0025212090970345427, 0.6022727272727273, 'gini = 0.0\\nsamples = 3\\nvalue = [3, 0]'),\n",
              " Text(0.0033616121293793904, 0.6022727272727273, 'gini = 0.0\\nsamples = 1\\nvalue = [0, 1]'),\n",
              " Text(0.005042418194069085, 0.6477272727272727, 'x[5] <= 41.5\\ngini = 0.236\\nsamples = 22\\nvalue = [19, 3]'),\n",
              " Text(0.004622216677896662, 0.625, 'x[5] <= 39.5\\ngini = 0.337\\nsamples = 14\\nvalue = [11, 3]'),\n",
              " Text(0.004202015161724238, 0.6022727272727273, 'x[8] <= -1.5\\ngini = 0.26\\nsamples = 13\\nvalue = [11, 2]'),\n",
              " Text(0.003781813645551814, 0.5795454545454546, 'x[12] <= 268.0\\ngini = 0.48\\nsamples = 5\\nvalue = [3, 2]'),\n",
              " Text(0.0033616121293793904, 0.5568181818181818, 'gini = 0.0\\nsamples = 1\\nvalue = [0, 1]'),\n",
              " Text(0.004202015161724238, 0.5568181818181818, 'x[5] <= 29.5\\ngini = 0.375\\nsamples = 4\\nvalue = [3, 1]'),\n",
              " Text(0.003781813645551814, 0.5340909090909091, 'x[12] <= 420.5\\ngini = 0.5\\nsamples = 2\\nvalue = [1, 1]'),\n",
              " Text(0.0033616121293793904, 0.5113636363636364, 'gini = 0.0\\nsamples = 1\\nvalue = [0, 1]'),\n",
              " Text(0.004202015161724238, 0.5113636363636364, 'gini = 0.0\\nsamples = 1\\nvalue = [1, 0]'),\n",
              " Text(0.004622216677896662, 0.5340909090909091, 'gini = 0.0\\nsamples = 2\\nvalue = [2, 0]'),\n",
              " Text(0.004622216677896662, 0.5795454545454546, 'gini = 0.0\\nsamples = 8\\nvalue = [8, 0]'),\n",
              " Text(0.005042418194069085, 0.6022727272727273, 'gini = 0.0\\nsamples = 1\\nvalue = [0, 1]'),\n",
              " Text(0.005462619710241509, 0.625, 'gini = 0.0\\nsamples = 8\\nvalue = [8, 0]'),\n",
              " Text(0.007143425774931204, 0.6931818181818182, 'x[0] <= 9655.0\\ngini = 0.32\\nsamples = 30\\nvalue = [24, 6]'),\n",
              " Text(0.006303022742586357, 0.6704545454545454, 'x[9] <= -1.0\\ngini = 0.375\\nsamples = 4\\nvalue = [1, 3]'),\n",
              " Text(0.005882821226413933, 0.6477272727272727, 'gini = 0.0\\nsamples = 3\\nvalue = [0, 3]'),\n",
              " Text(0.006723224258758781, 0.6477272727272727, 'gini = 0.0\\nsamples = 1\\nvalue = [1, 0]'),\n",
              " Text(0.007983828807276052, 0.6704545454545454, 'x[1] <= 15000.0\\ngini = 0.204\\nsamples = 26\\nvalue = [23, 3]'),\n",
              " Text(0.007563627291103628, 0.6477272727272727, 'gini = 0.0\\nsamples = 1\\nvalue = [0, 1]'),\n",
              " Text(0.008404030323448476, 0.6477272727272727, 'x[3] <= 1.5\\ngini = 0.147\\nsamples = 25\\nvalue = [23, 2]'),\n",
              " Text(0.007983828807276052, 0.625, 'x[12] <= 83.5\\ngini = 0.26\\nsamples = 13\\nvalue = [11, 2]'),\n",
              " Text(0.007563627291103628, 0.6022727272727273, 'x[5] <= 34.5\\ngini = 0.375\\nsamples = 8\\nvalue = [6, 2]'),\n",
              " Text(0.007143425774931204, 0.5795454545454546, 'x[5] <= 28.0\\ngini = 0.5\\nsamples = 4\\nvalue = [2, 2]'),\n",
              " Text(0.006723224258758781, 0.5568181818181818, 'gini = 0.0\\nsamples = 2\\nvalue = [2, 0]'),\n",
              " Text(0.007563627291103628, 0.5568181818181818, 'gini = 0.0\\nsamples = 2\\nvalue = [0, 2]'),\n",
              " Text(0.007983828807276052, 0.5795454545454546, 'gini = 0.0\\nsamples = 4\\nvalue = [4, 0]'),\n",
              " Text(0.008404030323448476, 0.6022727272727273, 'gini = 0.0\\nsamples = 5\\nvalue = [5, 0]'),\n",
              " Text(0.008824231839620899, 0.625, 'gini = 0.0\\nsamples = 12\\nvalue = [12, 0]'),\n",
              " Text(0.008404030323448476, 0.7159090909090909, 'x[14] <= 316.0\\ngini = 0.5\\nsamples = 4\\nvalue = [2, 2]'),\n",
              " Text(0.007983828807276052, 0.6931818181818182, 'gini = 0.0\\nsamples = 2\\nvalue = [2, 0]'),\n",
              " Text(0.008824231839620899, 0.6931818181818182, 'gini = 0.0\\nsamples = 2\\nvalue = [0, 2]'),\n",
              " Text(0.018176998398802425, 0.7613636363636364, 'x[1] <= 235000.0\\ngini = 0.404\\nsamples = 210\\nvalue = [151, 59]'),\n",
              " Text(0.01387321568238018, 0.7386363636363636, 'x[0] <= 13916.0\\ngini = 0.346\\nsamples = 153\\nvalue = [119, 34]'),\n",
              " Text(0.011844430237110196, 0.7159090909090909, 'x[5] <= 32.0\\ngini = 0.32\\nsamples = 5\\nvalue = [1, 4]'),\n",
              " Text(0.011424228720937771, 0.6931818181818182, 'x[0] <= 13707.0\\ngini = 0.5\\nsamples = 2\\nvalue = [1, 1]'),\n",
              " Text(0.011004027204765348, 0.6704545454545454, 'gini = 0.0\\nsamples = 1\\nvalue = [1, 0]'),\n",
              " Text(0.011844430237110196, 0.6704545454545454, 'gini = 0.0\\nsamples = 1\\nvalue = [0, 1]'),\n",
              " Text(0.012264631753282618, 0.6931818181818182, 'gini = 0.0\\nsamples = 3\\nvalue = [0, 3]'),\n",
              " Text(0.015902001127650164, 0.7159090909090909, 'x[5] <= 40.5\\ngini = 0.323\\nsamples = 148\\nvalue = [118, 30]'),\n",
              " Text(0.013105034785627467, 0.6931818181818182, 'x[15] <= -1697.0\\ngini = 0.233\\nsamples = 104\\nvalue = [90, 14]'),\n",
              " Text(0.012684833269455043, 0.6704545454545454, 'gini = 0.0\\nsamples = 1\\nvalue = [0, 1]'),\n",
              " Text(0.01352523630179989, 0.6704545454545454, 'x[1] <= 215000.0\\ngini = 0.221\\nsamples = 103\\nvalue = [90, 13]'),\n",
              " Text(0.011292915747133888, 0.6477272727272727, 'x[14] <= 5137.5\\ngini = 0.19\\nsamples = 94\\nvalue = [84, 10]'),\n",
              " Text(0.010872714230961466, 0.625, 'x[0] <= 15237.0\\ngini = 0.175\\nsamples = 93\\nvalue = [84, 9]'),\n",
              " Text(0.009244433355793323, 0.6022727272727273, 'x[0] <= 14765.5\\ngini = 0.48\\nsamples = 5\\nvalue = [3, 2]'),\n",
              " Text(0.008824231839620899, 0.5795454545454546, 'gini = 0.0\\nsamples = 3\\nvalue = [3, 0]'),\n",
              " Text(0.009664634871965746, 0.5795454545454546, 'gini = 0.0\\nsamples = 2\\nvalue = [0, 2]'),\n",
              " Text(0.012500995106129608, 0.6022727272727273, 'x[0] <= 28446.5\\ngini = 0.146\\nsamples = 88\\nvalue = [81, 7]'),\n",
              " Text(0.010505037904310595, 0.5795454545454546, 'x[1] <= 155000.0\\ngini = 0.113\\nsamples = 83\\nvalue = [78, 5]'),\n",
              " Text(0.009034332597707112, 0.5568181818181818, 'x[10] <= -1.5\\ngini = 0.042\\nsamples = 47\\nvalue = [46, 1]'),\n",
              " Text(0.008614131081534688, 0.5340909090909091, 'gini = 0.0\\nsamples = 42\\nvalue = [42, 0]'),\n",
              " Text(0.009454534113879535, 0.5340909090909091, 'x[1] <= 55000.0\\ngini = 0.32\\nsamples = 5\\nvalue = [4, 1]'),\n",
              " Text(0.009034332597707112, 0.5113636363636364, 'gini = 0.0\\nsamples = 3\\nvalue = [3, 0]'),\n",
              " Text(0.00987473563005196, 0.5113636363636364, 'x[5] <= 29.5\\ngini = 0.5\\nsamples = 2\\nvalue = [1, 1]'),\n",
              " Text(0.009454534113879535, 0.48863636363636365, 'gini = 0.0\\nsamples = 1\\nvalue = [0, 1]'),\n",
              " Text(0.010294937146224382, 0.48863636363636365, 'gini = 0.0\\nsamples = 1\\nvalue = [1, 0]'),\n",
              " Text(0.011975743210914078, 0.5568181818181818, 'x[1] <= 165000.0\\ngini = 0.198\\nsamples = 36\\nvalue = [32, 4]'),\n",
              " Text(0.011135340178569231, 0.5340909090909091, 'x[3] <= 2.0\\ngini = 0.444\\nsamples = 3\\nvalue = [2, 1]'),\n",
              " Text(0.010715138662396807, 0.5113636363636364, 'gini = 0.0\\nsamples = 2\\nvalue = [2, 0]'),\n",
              " Text(0.011555541694741654, 0.5113636363636364, 'gini = 0.0\\nsamples = 1\\nvalue = [0, 1]'),\n",
              " Text(0.012816146243258926, 0.5340909090909091, 'x[3] <= 1.5\\ngini = 0.165\\nsamples = 33\\nvalue = [30, 3]'),\n",
              " Text(0.012395944727086501, 0.5113636363636364, 'x[0] <= 20315.5\\ngini = 0.266\\nsamples = 19\\nvalue = [16, 3]'),\n",
              " Text(0.011975743210914078, 0.48863636363636365, 'gini = 0.0\\nsamples = 9\\nvalue = [9, 0]'),\n",
              " Text(0.012816146243258926, 0.48863636363636365, 'x[0] <= 22923.0\\ngini = 0.42\\nsamples = 10\\nvalue = [7, 3]'),\n",
              " Text(0.012395944727086501, 0.4659090909090909, 'gini = 0.0\\nsamples = 2\\nvalue = [0, 2]'),\n",
              " Text(0.013236347759431348, 0.4659090909090909, 'x[0] <= 27386.5\\ngini = 0.219\\nsamples = 8\\nvalue = [7, 1]'),\n",
              " Text(0.012816146243258926, 0.4431818181818182, 'gini = 0.0\\nsamples = 6\\nvalue = [6, 0]'),\n",
              " Text(0.013656549275603773, 0.4431818181818182, 'x[1] <= 190000.0\\ngini = 0.5\\nsamples = 2\\nvalue = [1, 1]'),\n",
              " Text(0.013236347759431348, 0.42045454545454547, 'gini = 0.0\\nsamples = 1\\nvalue = [0, 1]'),\n",
              " Text(0.014076750791776197, 0.42045454545454547, 'gini = 0.0\\nsamples = 1\\nvalue = [1, 0]'),\n",
              " Text(0.013236347759431348, 0.5113636363636364, 'gini = 0.0\\nsamples = 14\\nvalue = [14, 0]'),\n",
              " Text(0.01449695230794862, 0.5795454545454546, 'x[1] <= 125000.0\\ngini = 0.48\\nsamples = 5\\nvalue = [3, 2]'),\n",
              " Text(0.014076750791776197, 0.5568181818181818, 'x[3] <= 2.5\\ngini = 0.444\\nsamples = 3\\nvalue = [1, 2]'),\n",
              " Text(0.013656549275603773, 0.5340909090909091, 'gini = 0.0\\nsamples = 2\\nvalue = [0, 2]'),\n",
              " Text(0.01449695230794862, 0.5340909090909091, 'gini = 0.0\\nsamples = 1\\nvalue = [1, 0]'),\n",
              " Text(0.014917153824121045, 0.5568181818181818, 'gini = 0.0\\nsamples = 2\\nvalue = [2, 0]'),\n",
              " Text(0.011713117263306313, 0.625, 'gini = 0.0\\nsamples = 1\\nvalue = [0, 1]'),\n",
              " Text(0.01575755685646589, 0.6477272727272727, 'x[21] <= 50.0\\ngini = 0.444\\nsamples = 9\\nvalue = [6, 3]'),\n",
              " Text(0.015337355340293467, 0.625, 'x[4] <= 1.5\\ngini = 0.5\\nsamples = 6\\nvalue = [3, 3]'),\n",
              " Text(0.014917153824121045, 0.6022727272727273, 'gini = 0.0\\nsamples = 2\\nvalue = [2, 0]'),\n",
              " Text(0.01575755685646589, 0.6022727272727273, 'x[0] <= 28050.5\\ngini = 0.375\\nsamples = 4\\nvalue = [1, 3]'),\n",
              " Text(0.015337355340293467, 0.5795454545454546, 'gini = 0.0\\nsamples = 3\\nvalue = [0, 3]'),\n",
              " Text(0.016177758372638316, 0.5795454545454546, 'gini = 0.0\\nsamples = 1\\nvalue = [1, 0]'),\n",
              " Text(0.016177758372638316, 0.625, 'gini = 0.0\\nsamples = 3\\nvalue = [3, 0]'),\n",
              " Text(0.01869896746967286, 0.6931818181818182, 'x[10] <= -1.5\\ngini = 0.463\\nsamples = 44\\nvalue = [28, 16]'),\n",
              " Text(0.018278765953500434, 0.6704545454545454, 'x[0] <= 17561.0\\ngini = 0.42\\nsamples = 40\\nvalue = [28, 12]'),\n",
              " Text(0.01785856443732801, 0.6477272727272727, 'gini = 0.0\\nsamples = 7\\nvalue = [7, 0]'),\n",
              " Text(0.01869896746967286, 0.6477272727272727, 'x[0] <= 21331.5\\ngini = 0.463\\nsamples = 33\\nvalue = [21, 12]'),\n",
              " Text(0.01785856443732801, 0.625, 'x[5] <= 45.0\\ngini = 0.444\\nsamples = 9\\nvalue = [3, 6]'),\n",
              " Text(0.017438362921155588, 0.6022727272727273, 'x[5] <= 41.5\\ngini = 0.48\\nsamples = 5\\nvalue = [3, 2]'),\n",
              " Text(0.017018161404983162, 0.5795454545454546, 'gini = 0.0\\nsamples = 2\\nvalue = [0, 2]'),\n",
              " Text(0.01785856443732801, 0.5795454545454546, 'gini = 0.0\\nsamples = 3\\nvalue = [3, 0]'),\n",
              " Text(0.018278765953500434, 0.6022727272727273, 'gini = 0.0\\nsamples = 4\\nvalue = [0, 4]'),\n",
              " Text(0.019539370502017706, 0.625, 'x[14] <= 250.0\\ngini = 0.375\\nsamples = 24\\nvalue = [18, 6]'),\n",
              " Text(0.019119168985845283, 0.6022727272727273, 'x[0] <= 27275.0\\ngini = 0.457\\nsamples = 17\\nvalue = [11, 6]'),\n",
              " Text(0.01869896746967286, 0.5795454545454546, 'x[0] <= 23629.0\\ngini = 0.5\\nsamples = 12\\nvalue = [6, 6]'),\n",
              " Text(0.018278765953500434, 0.5568181818181818, 'gini = 0.0\\nsamples = 4\\nvalue = [4, 0]'),\n",
              " Text(0.019119168985845283, 0.5568181818181818, 'x[5] <= 49.5\\ngini = 0.375\\nsamples = 8\\nvalue = [2, 6]'),\n",
              " Text(0.01869896746967286, 0.5340909090909091, 'gini = 0.0\\nsamples = 5\\nvalue = [0, 5]'),\n",
              " Text(0.019539370502017706, 0.5340909090909091, 'x[4] <= 1.5\\ngini = 0.444\\nsamples = 3\\nvalue = [2, 1]'),\n",
              " Text(0.019119168985845283, 0.5113636363636364, 'gini = 0.0\\nsamples = 1\\nvalue = [0, 1]'),\n",
              " Text(0.01995957201819013, 0.5113636363636364, 'gini = 0.0\\nsamples = 2\\nvalue = [2, 0]'),\n",
              " Text(0.019539370502017706, 0.5795454545454546, 'gini = 0.0\\nsamples = 5\\nvalue = [5, 0]'),\n",
              " Text(0.01995957201819013, 0.6022727272727273, 'gini = 0.0\\nsamples = 7\\nvalue = [7, 0]'),\n",
              " Text(0.019119168985845283, 0.6704545454545454, 'gini = 0.0\\nsamples = 4\\nvalue = [0, 4]'),\n",
              " Text(0.022480781115224672, 0.7386363636363636, 'x[5] <= 27.5\\ngini = 0.492\\nsamples = 57\\nvalue = [32, 25]'),\n",
              " Text(0.02206057959905225, 0.7159090909090909, 'gini = 0.0\\nsamples = 6\\nvalue = [6, 0]'),\n",
              " Text(0.022900982631397095, 0.7159090909090909, 'x[5] <= 32.5\\ngini = 0.5\\nsamples = 51\\nvalue = [26, 25]'),\n",
              " Text(0.020799975050534977, 0.6931818181818182, 'x[0] <= 15507.0\\ngini = 0.397\\nsamples = 11\\nvalue = [3, 8]'),\n",
              " Text(0.020379773534362555, 0.6704545454545454, 'gini = 0.0\\nsamples = 2\\nvalue = [2, 0]'),\n",
              " Text(0.0212201765667074, 0.6704545454545454, 'x[5] <= 28.5\\ngini = 0.198\\nsamples = 9\\nvalue = [1, 8]'),\n",
              " Text(0.020799975050534977, 0.6477272727272727, 'x[1] <= 290000.0\\ngini = 0.5\\nsamples = 2\\nvalue = [1, 1]'),\n",
              " Text(0.020379773534362555, 0.625, 'gini = 0.0\\nsamples = 1\\nvalue = [1, 0]'),\n",
              " Text(0.0212201765667074, 0.625, 'gini = 0.0\\nsamples = 1\\nvalue = [0, 1]'),\n",
              " Text(0.021640378082879826, 0.6477272727272727, 'gini = 0.0\\nsamples = 7\\nvalue = [0, 7]'),\n",
              " Text(0.025001990212259215, 0.6931818181818182, 'x[5] <= 35.5\\ngini = 0.489\\nsamples = 40\\nvalue = [23, 17]'),\n",
              " Text(0.02332118414756952, 0.6704545454545454, 'x[3] <= 2.5\\ngini = 0.337\\nsamples = 14\\nvalue = [11, 3]'),\n",
              " Text(0.022480781115224672, 0.6477272727272727, 'x[5] <= 33.5\\ngini = 0.18\\nsamples = 10\\nvalue = [9, 1]'),\n",
              " Text(0.02206057959905225, 0.625, 'x[1] <= 265000.0\\ngini = 0.5\\nsamples = 2\\nvalue = [1, 1]'),\n",
              " Text(0.021640378082879826, 0.6022727272727273, 'gini = 0.0\\nsamples = 1\\nvalue = [1, 0]'),\n",
              " Text(0.022480781115224672, 0.6022727272727273, 'gini = 0.0\\nsamples = 1\\nvalue = [0, 1]'),\n",
              " Text(0.022900982631397095, 0.625, 'gini = 0.0\\nsamples = 8\\nvalue = [8, 0]'),\n",
              " Text(0.024161587179914366, 0.6477272727272727, 'x[1] <= 260000.0\\ngini = 0.5\\nsamples = 4\\nvalue = [2, 2]'),\n",
              " Text(0.023741385663741944, 0.625, 'gini = 0.0\\nsamples = 2\\nvalue = [0, 2]'),\n",
              " Text(0.024581788696086793, 0.625, 'gini = 0.0\\nsamples = 2\\nvalue = [2, 0]'),\n",
              " Text(0.02668279627694891, 0.6704545454545454, 'x[13] <= 287.5\\ngini = 0.497\\nsamples = 26\\nvalue = [12, 14]'),\n",
              " Text(0.026262594760776487, 0.6477272727272727, 'x[5] <= 46.5\\ngini = 0.476\\nsamples = 23\\nvalue = [9, 14]'),\n",
              " Text(0.025422191728431638, 0.625, 'x[1] <= 305000.0\\ngini = 0.298\\nsamples = 11\\nvalue = [2, 9]'),\n",
              " Text(0.025001990212259215, 0.6022727272727273, 'x[5] <= 39.0\\ngini = 0.18\\nsamples = 10\\nvalue = [1, 9]'),\n",
              " Text(0.024581788696086793, 0.5795454545454546, 'x[1] <= 270000.0\\ngini = 0.375\\nsamples = 4\\nvalue = [1, 3]'),\n",
              " Text(0.024161587179914366, 0.5568181818181818, 'gini = 0.0\\nsamples = 2\\nvalue = [0, 2]'),\n",
              " Text(0.025001990212259215, 0.5568181818181818, 'x[2] <= 1.5\\ngini = 0.5\\nsamples = 2\\nvalue = [1, 1]'),\n",
              " Text(0.024581788696086793, 0.5340909090909091, 'gini = 0.0\\nsamples = 1\\nvalue = [0, 1]'),\n",
              " Text(0.025422191728431638, 0.5340909090909091, 'gini = 0.0\\nsamples = 1\\nvalue = [1, 0]'),\n",
              " Text(0.025422191728431638, 0.5795454545454546, 'gini = 0.0\\nsamples = 6\\nvalue = [0, 6]'),\n",
              " Text(0.02584239324460406, 0.6022727272727273, 'gini = 0.0\\nsamples = 1\\nvalue = [1, 0]'),\n",
              " Text(0.027102997793121333, 0.625, 'x[7] <= -1.5\\ngini = 0.486\\nsamples = 12\\nvalue = [7, 5]'),\n",
              " Text(0.02668279627694891, 0.6022727272727273, 'x[5] <= 50.5\\ngini = 0.42\\nsamples = 10\\nvalue = [7, 3]'),\n",
              " Text(0.026262594760776487, 0.5795454545454546, 'gini = 0.0\\nsamples = 4\\nvalue = [4, 0]'),\n",
              " Text(0.027102997793121333, 0.5795454545454546, 'x[0] <= 20794.0\\ngini = 0.5\\nsamples = 6\\nvalue = [3, 3]'),\n",
              " Text(0.02668279627694891, 0.5568181818181818, 'gini = 0.0\\nsamples = 2\\nvalue = [2, 0]'),\n",
              " Text(0.02752319930929376, 0.5568181818181818, 'x[0] <= 29098.5\\ngini = 0.375\\nsamples = 4\\nvalue = [1, 3]'),\n",
              " Text(0.027102997793121333, 0.5340909090909091, 'gini = 0.0\\nsamples = 3\\nvalue = [0, 3]'),\n",
              " Text(0.02794340082546618, 0.5340909090909091, 'gini = 0.0\\nsamples = 1\\nvalue = [1, 0]'),\n",
              " Text(0.02752319930929376, 0.6022727272727273, 'gini = 0.0\\nsamples = 2\\nvalue = [0, 2]'),\n",
              " Text(0.027102997793121333, 0.6477272727272727, 'gini = 0.0\\nsamples = 3\\nvalue = [3, 0]'),\n",
              " Text(0.0640142540233064, 0.7840909090909091, 'x[21] <= 96.5\\ngini = 0.443\\nsamples = 450\\nvalue = [301, 149]'),\n",
              " Text(0.05638414953921457, 0.7613636363636364, 'x[5] <= 52.5\\ngini = 0.463\\nsamples = 388\\nvalue = [247, 141]'),\n",
              " Text(0.0466916106603155, 0.7386363636363636, 'x[0] <= 13894.5\\ngini = 0.449\\nsamples = 365\\nvalue = [241, 124]'),\n",
              " Text(0.03555298765740117, 0.7159090909090909, 'x[5] <= 26.5\\ngini = 0.48\\nsamples = 180\\nvalue = [108, 72]'),\n",
              " Text(0.03130501295484557, 0.6931818181818182, 'x[17] <= -759.0\\ngini = 0.488\\nsamples = 26\\nvalue = [11, 15]'),\n",
              " Text(0.030884811438673148, 0.6704545454545454, 'gini = 0.0\\nsamples = 3\\nvalue = [0, 3]'),\n",
              " Text(0.031725214471018, 0.6704545454545454, 'x[1] <= 135000.0\\ngini = 0.499\\nsamples = 23\\nvalue = [11, 12]'),\n",
              " Text(0.03130501295484557, 0.6477272727272727, 'x[1] <= 110000.0\\ngini = 0.495\\nsamples = 20\\nvalue = [11, 9]'),\n",
              " Text(0.030884811438673148, 0.625, 'x[0] <= 9945.5\\ngini = 0.498\\nsamples = 17\\nvalue = [8, 9]'),\n",
              " Text(0.030464609922500725, 0.6022727272727273, 'x[0] <= 5403.0\\ngini = 0.49\\nsamples = 14\\nvalue = [8, 6]'),\n",
              " Text(0.029624206890155876, 0.5795454545454546, 'x[0] <= 3135.5\\ngini = 0.469\\nsamples = 8\\nvalue = [3, 5]'),\n",
              " Text(0.029204005373983453, 0.5568181818181818, 'x[5] <= 22.5\\ngini = 0.375\\nsamples = 4\\nvalue = [3, 1]'),\n",
              " Text(0.02878380385781103, 0.5340909090909091, 'gini = 0.0\\nsamples = 1\\nvalue = [0, 1]'),\n",
              " Text(0.029624206890155876, 0.5340909090909091, 'gini = 0.0\\nsamples = 3\\nvalue = [3, 0]'),\n",
              " Text(0.0300444084063283, 0.5568181818181818, 'gini = 0.0\\nsamples = 4\\nvalue = [0, 4]'),\n",
              " Text(0.03130501295484557, 0.5795454545454546, 'x[2] <= 1.5\\ngini = 0.278\\nsamples = 6\\nvalue = [5, 1]'),\n",
              " Text(0.030884811438673148, 0.5568181818181818, 'x[5] <= 24.5\\ngini = 0.444\\nsamples = 3\\nvalue = [2, 1]'),\n",
              " Text(0.030464609922500725, 0.5340909090909091, 'gini = 0.0\\nsamples = 1\\nvalue = [0, 1]'),\n",
              " Text(0.03130501295484557, 0.5340909090909091, 'gini = 0.0\\nsamples = 2\\nvalue = [2, 0]'),\n",
              " Text(0.031725214471018, 0.5568181818181818, 'gini = 0.0\\nsamples = 3\\nvalue = [3, 0]'),\n",
              " Text(0.03130501295484557, 0.6022727272727273, 'gini = 0.0\\nsamples = 3\\nvalue = [0, 3]'),\n",
              " Text(0.031725214471018, 0.625, 'gini = 0.0\\nsamples = 3\\nvalue = [3, 0]'),\n",
              " Text(0.032145415987190416, 0.6477272727272727, 'gini = 0.0\\nsamples = 3\\nvalue = [0, 3]'),\n",
              " Text(0.03980096235995677, 0.6931818181818182, 'x[1] <= 145000.0\\ngini = 0.466\\nsamples = 154\\nvalue = [97, 57]'),\n",
              " Text(0.035664603685134466, 0.6704545454545454, 'x[1] <= 35000.0\\ngini = 0.38\\nsamples = 55\\nvalue = [41, 14]'),\n",
              " Text(0.03340602053570769, 0.6477272727272727, 'x[5] <= 32.0\\ngini = 0.444\\nsamples = 9\\nvalue = [3, 6]'),\n",
              " Text(0.03298581901953527, 0.625, 'x[1] <= 25000.0\\ngini = 0.5\\nsamples = 6\\nvalue = [3, 3]'),\n",
              " Text(0.03256561750336284, 0.6022727272727273, 'x[3] <= 1.5\\ngini = 0.375\\nsamples = 4\\nvalue = [3, 1]'),\n",
              " Text(0.032145415987190416, 0.5795454545454546, 'gini = 0.0\\nsamples = 2\\nvalue = [2, 0]'),\n",
              " Text(0.03298581901953527, 0.5795454545454546, 'x[0] <= 7947.5\\ngini = 0.5\\nsamples = 2\\nvalue = [1, 1]'),\n",
              " Text(0.03256561750336284, 0.5568181818181818, 'gini = 0.0\\nsamples = 1\\nvalue = [0, 1]'),\n",
              " Text(0.03340602053570769, 0.5568181818181818, 'gini = 0.0\\nsamples = 1\\nvalue = [1, 0]'),\n",
              " Text(0.03340602053570769, 0.6022727272727273, 'gini = 0.0\\nsamples = 2\\nvalue = [0, 2]'),\n",
              " Text(0.033826222051880114, 0.625, 'gini = 0.0\\nsamples = 3\\nvalue = [0, 3]'),\n",
              " Text(0.037923186834561244, 0.6477272727272727, 'x[0] <= 3760.5\\ngini = 0.287\\nsamples = 46\\nvalue = [38, 8]'),\n",
              " Text(0.03592722963274223, 0.625, 'x[1] <= 125000.0\\ngini = 0.459\\nsamples = 14\\nvalue = [9, 5]'),\n",
              " Text(0.03550702811656981, 0.6022727272727273, 'x[5] <= 42.5\\ngini = 0.375\\nsamples = 12\\nvalue = [9, 3]'),\n",
              " Text(0.03466662508422496, 0.5795454545454546, 'x[5] <= 37.5\\ngini = 0.198\\nsamples = 9\\nvalue = [8, 1]'),\n",
              " Text(0.03424642356805254, 0.5568181818181818, 'x[5] <= 35.5\\ngini = 0.375\\nsamples = 4\\nvalue = [3, 1]'),\n",
              " Text(0.033826222051880114, 0.5340909090909091, 'gini = 0.0\\nsamples = 3\\nvalue = [3, 0]'),\n",
              " Text(0.03466662508422496, 0.5340909090909091, 'gini = 0.0\\nsamples = 1\\nvalue = [0, 1]'),\n",
              " Text(0.035086826600397386, 0.5568181818181818, 'gini = 0.0\\nsamples = 5\\nvalue = [5, 0]'),\n",
              " Text(0.03634743114891466, 0.5795454545454546, 'x[0] <= 1436.5\\ngini = 0.444\\nsamples = 3\\nvalue = [1, 2]'),\n",
              " Text(0.03592722963274223, 0.5568181818181818, 'gini = 0.0\\nsamples = 1\\nvalue = [1, 0]'),\n",
              " Text(0.036767632665087084, 0.5568181818181818, 'gini = 0.0\\nsamples = 2\\nvalue = [0, 2]'),\n",
              " Text(0.03634743114891466, 0.6022727272727273, 'gini = 0.0\\nsamples = 2\\nvalue = [0, 2]'),\n",
              " Text(0.03991914403638026, 0.625, 'x[17] <= 140.5\\ngini = 0.17\\nsamples = 32\\nvalue = [29, 3]'),\n",
              " Text(0.0388686402459492, 0.6022727272727273, 'x[5] <= 48.5\\ngini = 0.124\\nsamples = 30\\nvalue = [28, 2]'),\n",
              " Text(0.03802823721360435, 0.5795454545454546, 'x[0] <= 11291.5\\ngini = 0.069\\nsamples = 28\\nvalue = [27, 1]'),\n",
              " Text(0.03760803569743193, 0.5568181818181818, 'gini = 0.0\\nsamples = 21\\nvalue = [21, 0]'),\n",
              " Text(0.038448438729776775, 0.5568181818181818, 'x[0] <= 11446.0\\ngini = 0.245\\nsamples = 7\\nvalue = [6, 1]'),\n",
              " Text(0.03802823721360435, 0.5340909090909091, 'gini = 0.0\\nsamples = 1\\nvalue = [0, 1]'),\n",
              " Text(0.0388686402459492, 0.5340909090909091, 'gini = 0.0\\nsamples = 6\\nvalue = [6, 0]'),\n",
              " Text(0.03970904327829405, 0.5795454545454546, 'x[0] <= 6766.5\\ngini = 0.5\\nsamples = 2\\nvalue = [1, 1]'),\n",
              " Text(0.03928884176212162, 0.5568181818181818, 'gini = 0.0\\nsamples = 1\\nvalue = [0, 1]'),\n",
              " Text(0.04012924479446647, 0.5568181818181818, 'gini = 0.0\\nsamples = 1\\nvalue = [1, 0]'),\n",
              " Text(0.04096964782681132, 0.6022727272727273, 'x[4] <= 1.5\\ngini = 0.5\\nsamples = 2\\nvalue = [1, 1]'),\n",
              " Text(0.04054944631063889, 0.5795454545454546, 'gini = 0.0\\nsamples = 1\\nvalue = [1, 0]'),\n",
              " Text(0.041389849342983745, 0.5795454545454546, 'gini = 0.0\\nsamples = 1\\nvalue = [0, 1]'),\n",
              " Text(0.04393732103477906, 0.6704545454545454, 'x[5] <= 28.5\\ngini = 0.491\\nsamples = 99\\nvalue = [56, 43]'),\n",
              " Text(0.041810050859156164, 0.6477272727272727, 'x[0] <= 8126.5\\ngini = 0.198\\nsamples = 9\\nvalue = [8, 1]'),\n",
              " Text(0.041389849342983745, 0.625, 'gini = 0.0\\nsamples = 6\\nvalue = [6, 0]'),\n",
              " Text(0.04223025237532859, 0.625, 'x[0] <= 11496.0\\ngini = 0.444\\nsamples = 3\\nvalue = [2, 1]'),\n",
              " Text(0.041810050859156164, 0.6022727272727273, 'gini = 0.0\\nsamples = 1\\nvalue = [0, 1]'),\n",
              " Text(0.04265045389150102, 0.6022727272727273, 'gini = 0.0\\nsamples = 2\\nvalue = [2, 0]'),\n",
              " Text(0.046064591210401955, 0.6477272727272727, 'x[5] <= 48.5\\ngini = 0.498\\nsamples = 90\\nvalue = [48, 42]'),\n",
              " Text(0.045644389694229535, 0.625, 'x[0] <= 4006.0\\ngini = 0.5\\nsamples = 85\\nvalue = [43, 42]'),\n",
              " Text(0.04349085692384586, 0.6022727272727273, 'x[0] <= 1995.5\\ngini = 0.435\\nsamples = 25\\nvalue = [17, 8]'),\n",
              " Text(0.043070655407673436, 0.5795454545454546, 'x[5] <= 35.5\\ngini = 0.49\\nsamples = 14\\nvalue = [6, 8]'),\n",
              " Text(0.04223025237532859, 0.5568181818181818, 'x[1] <= 245000.0\\ngini = 0.32\\nsamples = 5\\nvalue = [4, 1]'),\n",
              " Text(0.041810050859156164, 0.5340909090909091, 'gini = 0.0\\nsamples = 4\\nvalue = [4, 0]'),\n",
              " Text(0.04265045389150102, 0.5340909090909091, 'gini = 0.0\\nsamples = 1\\nvalue = [0, 1]'),\n",
              " Text(0.04391105844001829, 0.5568181818181818, 'x[1] <= 250000.0\\ngini = 0.346\\nsamples = 9\\nvalue = [2, 7]'),\n",
              " Text(0.04349085692384586, 0.5340909090909091, 'gini = 0.0\\nsamples = 6\\nvalue = [0, 6]'),\n",
              " Text(0.04433125995619071, 0.5340909090909091, 'x[0] <= 1371.0\\ngini = 0.444\\nsamples = 3\\nvalue = [2, 1]'),\n",
              " Text(0.04391105844001829, 0.5113636363636364, 'gini = 0.0\\nsamples = 2\\nvalue = [2, 0]'),\n",
              " Text(0.044751461472363134, 0.5113636363636364, 'gini = 0.0\\nsamples = 1\\nvalue = [0, 1]'),\n",
              " Text(0.04391105844001829, 0.5795454545454546, 'gini = 0.0\\nsamples = 11\\nvalue = [11, 0]'),\n",
              " Text(0.04779792246461321, 0.6022727272727273, 'x[14] <= 428.0\\ngini = 0.491\\nsamples = 60\\nvalue = [26, 34]'),\n",
              " Text(0.04737772094844078, 0.5795454545454546, 'x[15] <= -9.0\\ngini = 0.497\\nsamples = 56\\nvalue = [26, 30]'),\n",
              " Text(0.046957519432268356, 0.5568181818181818, 'gini = 0.0\\nsamples = 2\\nvalue = [2, 0]'),\n",
              " Text(0.04779792246461321, 0.5568181818181818, 'x[0] <= 12724.5\\ngini = 0.494\\nsamples = 54\\nvalue = [24, 30]'),\n",
              " Text(0.04664236829513904, 0.5340909090909091, 'x[5] <= 30.5\\ngini = 0.499\\nsamples = 48\\nvalue = [23, 25]'),\n",
              " Text(0.04559186450470798, 0.5113636363636364, 'x[17] <= 5046.0\\ngini = 0.32\\nsamples = 10\\nvalue = [2, 8]'),\n",
              " Text(0.04517166298853555, 0.48863636363636365, 'x[1] <= 245000.0\\ngini = 0.198\\nsamples = 9\\nvalue = [1, 8]'),\n",
              " Text(0.044751461472363134, 0.4659090909090909, 'gini = 0.0\\nsamples = 8\\nvalue = [0, 8]'),\n",
              " Text(0.04559186450470798, 0.4659090909090909, 'gini = 0.0\\nsamples = 1\\nvalue = [1, 0]'),\n",
              " Text(0.046012066020880406, 0.48863636363636365, 'gini = 0.0\\nsamples = 1\\nvalue = [1, 0]'),\n",
              " Text(0.0476928720855701, 0.5113636363636364, 'x[0] <= 4716.0\\ngini = 0.494\\nsamples = 38\\nvalue = [21, 17]'),\n",
              " Text(0.04685246905322525, 0.48863636363636365, 'x[1] <= 175000.0\\ngini = 0.278\\nsamples = 6\\nvalue = [1, 5]'),\n",
              " Text(0.046432267537052825, 0.4659090909090909, 'gini = 0.0\\nsamples = 1\\nvalue = [1, 0]'),\n",
              " Text(0.04727267056939768, 0.4659090909090909, 'gini = 0.0\\nsamples = 5\\nvalue = [0, 5]'),\n",
              " Text(0.04853327511791495, 0.48863636363636365, 'x[1] <= 155000.0\\ngini = 0.469\\nsamples = 32\\nvalue = [20, 12]'),\n",
              " Text(0.04811307360174252, 0.4659090909090909, 'gini = 0.0\\nsamples = 2\\nvalue = [0, 2]'),\n",
              " Text(0.04895347663408737, 0.4659090909090909, 'x[8] <= 0.5\\ngini = 0.444\\nsamples = 30\\nvalue = [20, 10]'),\n",
              " Text(0.04853327511791495, 0.4431818181818182, 'x[1] <= 170000.0\\ngini = 0.428\\nsamples = 29\\nvalue = [20, 9]'),\n",
              " Text(0.04811307360174252, 0.42045454545454547, 'gini = 0.0\\nsamples = 5\\nvalue = [5, 0]'),\n",
              " Text(0.04895347663408737, 0.42045454545454547, 'x[5] <= 31.5\\ngini = 0.469\\nsamples = 24\\nvalue = [15, 9]'),\n",
              " Text(0.04853327511791495, 0.3977272727272727, 'gini = 0.0\\nsamples = 1\\nvalue = [0, 1]'),\n",
              " Text(0.049373678150259795, 0.3977272727272727, 'x[4] <= 1.5\\ngini = 0.454\\nsamples = 23\\nvalue = [15, 8]'),\n",
              " Text(0.04853327511791495, 0.375, 'x[1] <= 250000.0\\ngini = 0.498\\nsamples = 15\\nvalue = [8, 7]'),\n",
              " Text(0.04811307360174252, 0.3522727272727273, 'x[1] <= 190000.0\\ngini = 0.486\\nsamples = 12\\nvalue = [5, 7]'),\n",
              " Text(0.0476928720855701, 0.32954545454545453, 'gini = 0.0\\nsamples = 2\\nvalue = [2, 0]'),\n",
              " Text(0.04853327511791495, 0.32954545454545453, 'x[5] <= 43.5\\ngini = 0.42\\nsamples = 10\\nvalue = [3, 7]'),\n",
              " Text(0.04811307360174252, 0.3068181818181818, 'x[1] <= 225000.0\\ngini = 0.346\\nsamples = 9\\nvalue = [2, 7]'),\n",
              " Text(0.0476928720855701, 0.2840909090909091, 'gini = 0.0\\nsamples = 5\\nvalue = [0, 5]'),\n",
              " Text(0.04853327511791495, 0.2840909090909091, 'x[0] <= 11106.0\\ngini = 0.5\\nsamples = 4\\nvalue = [2, 2]'),\n",
              " Text(0.04811307360174252, 0.26136363636363635, 'gini = 0.0\\nsamples = 2\\nvalue = [2, 0]'),\n",
              " Text(0.04895347663408737, 0.26136363636363635, 'gini = 0.0\\nsamples = 2\\nvalue = [0, 2]'),\n",
              " Text(0.04895347663408737, 0.3068181818181818, 'gini = 0.0\\nsamples = 1\\nvalue = [1, 0]'),\n",
              " Text(0.04895347663408737, 0.3522727272727273, 'gini = 0.0\\nsamples = 3\\nvalue = [3, 0]'),\n",
              " Text(0.05021408118260464, 0.375, 'x[1] <= 250000.0\\ngini = 0.219\\nsamples = 8\\nvalue = [7, 1]'),\n",
              " Text(0.04979387966643222, 0.3522727272727273, 'gini = 0.0\\nsamples = 7\\nvalue = [7, 0]'),\n",
              " Text(0.05063428269877707, 0.3522727272727273, 'gini = 0.0\\nsamples = 1\\nvalue = [0, 1]'),\n",
              " Text(0.049373678150259795, 0.4431818181818182, 'gini = 0.0\\nsamples = 1\\nvalue = [0, 1]'),\n",
              " Text(0.04895347663408737, 0.5340909090909091, 'x[16] <= 153.0\\ngini = 0.278\\nsamples = 6\\nvalue = [1, 5]'),\n",
              " Text(0.04853327511791495, 0.5113636363636364, 'gini = 0.0\\nsamples = 5\\nvalue = [0, 5]'),\n",
              " Text(0.049373678150259795, 0.5113636363636364, 'gini = 0.0\\nsamples = 1\\nvalue = [1, 0]'),\n",
              " Text(0.04821812398078563, 0.5795454545454546, 'gini = 0.0\\nsamples = 4\\nvalue = [0, 4]'),\n",
              " Text(0.04648479272657438, 0.625, 'gini = 0.0\\nsamples = 5\\nvalue = [5, 0]'),\n",
              " Text(0.05783023366322982, 0.7159090909090909, 'x[1] <= 125000.0\\ngini = 0.404\\nsamples = 185\\nvalue = [133, 52]'),\n",
              " Text(0.052525189521552974, 0.6931818181818182, 'x[5] <= 24.5\\ngini = 0.479\\nsamples = 73\\nvalue = [44, 29]'),\n",
              " Text(0.05210498800538055, 0.6704545454545454, 'gini = 0.0\\nsamples = 7\\nvalue = [7, 0]'),\n",
              " Text(0.052945391037725394, 0.6704545454545454, 'x[22] <= 181.5\\ngini = 0.493\\nsamples = 66\\nvalue = [37, 29]'),\n",
              " Text(0.052525189521552974, 0.6477272727272727, 'x[1] <= 15000.0\\ngini = 0.498\\nsamples = 62\\nvalue = [33, 29]'),\n",
              " Text(0.05210498800538055, 0.625, 'gini = 0.0\\nsamples = 3\\nvalue = [3, 0]'),\n",
              " Text(0.052945391037725394, 0.625, 'x[3] <= 1.5\\ngini = 0.5\\nsamples = 59\\nvalue = [30, 29]'),\n",
              " Text(0.05021408118260464, 0.6022727272727273, 'x[0] <= 14752.0\\ngini = 0.444\\nsamples = 21\\nvalue = [14, 7]'),\n",
              " Text(0.04979387966643222, 0.5795454545454546, 'gini = 0.0\\nsamples = 2\\nvalue = [0, 2]'),\n",
              " Text(0.05063428269877707, 0.5795454545454546, 'x[0] <= 20849.5\\ngini = 0.388\\nsamples = 19\\nvalue = [14, 5]'),\n",
              " Text(0.05021408118260464, 0.5568181818181818, 'gini = 0.0\\nsamples = 8\\nvalue = [8, 0]'),\n",
              " Text(0.05105448421494949, 0.5568181818181818, 'x[5] <= 39.0\\ngini = 0.496\\nsamples = 11\\nvalue = [6, 5]'),\n",
              " Text(0.05063428269877707, 0.5340909090909091, 'x[13] <= -9.0\\ngini = 0.469\\nsamples = 8\\nvalue = [3, 5]'),\n",
              " Text(0.05021408118260464, 0.5113636363636364, 'gini = 0.0\\nsamples = 1\\nvalue = [1, 0]'),\n",
              " Text(0.05105448421494949, 0.5113636363636364, 'x[1] <= 85000.0\\ngini = 0.408\\nsamples = 7\\nvalue = [2, 5]'),\n",
              " Text(0.05063428269877707, 0.48863636363636365, 'gini = 0.0\\nsamples = 3\\nvalue = [0, 3]'),\n",
              " Text(0.05147468573112191, 0.48863636363636365, 'x[1] <= 95000.0\\ngini = 0.5\\nsamples = 4\\nvalue = [2, 2]'),\n",
              " Text(0.05105448421494949, 0.4659090909090909, 'gini = 0.0\\nsamples = 2\\nvalue = [2, 0]'),\n",
              " Text(0.05189488724729434, 0.4659090909090909, 'gini = 0.0\\nsamples = 2\\nvalue = [0, 2]'),\n",
              " Text(0.05147468573112191, 0.5340909090909091, 'gini = 0.0\\nsamples = 3\\nvalue = [3, 0]'),\n",
              " Text(0.055676700892846154, 0.6022727272727273, 'x[0] <= 16106.5\\ngini = 0.488\\nsamples = 38\\nvalue = [16, 22]'),\n",
              " Text(0.05525649937667373, 0.5795454545454546, 'gini = 0.0\\nsamples = 3\\nvalue = [3, 0]'),\n",
              " Text(0.05609690240901857, 0.5795454545454546, 'x[12] <= -97.0\\ngini = 0.467\\nsamples = 35\\nvalue = [13, 22]'),\n",
              " Text(0.055676700892846154, 0.5568181818181818, 'gini = 0.0\\nsamples = 2\\nvalue = [2, 0]'),\n",
              " Text(0.056517103925191, 0.5568181818181818, 'x[1] <= 85000.0\\ngini = 0.444\\nsamples = 33\\nvalue = [11, 22]'),\n",
              " Text(0.0548362978605013, 0.5340909090909091, 'x[1] <= 70000.0\\ngini = 0.49\\nsamples = 21\\nvalue = [9, 12]'),\n",
              " Text(0.053995894828156456, 0.5113636363636364, 'x[0] <= 27970.5\\ngini = 0.43\\nsamples = 16\\nvalue = [5, 11]'),\n",
              " Text(0.05357569331198403, 0.48863636363636365, 'x[0] <= 22532.5\\ngini = 0.486\\nsamples = 12\\nvalue = [5, 7]'),\n",
              " Text(0.052735290279639184, 0.4659090909090909, 'x[0] <= 17357.5\\ngini = 0.375\\nsamples = 8\\nvalue = [2, 6]'),\n",
              " Text(0.05231508876346676, 0.4431818181818182, 'x[0] <= 16416.5\\ngini = 0.5\\nsamples = 4\\nvalue = [2, 2]'),\n",
              " Text(0.05189488724729434, 0.42045454545454547, 'gini = 0.0\\nsamples = 2\\nvalue = [0, 2]'),\n",
              " Text(0.052735290279639184, 0.42045454545454547, 'gini = 0.0\\nsamples = 2\\nvalue = [2, 0]'),\n",
              " Text(0.05315549179581161, 0.4431818181818182, 'gini = 0.0\\nsamples = 4\\nvalue = [0, 4]'),\n",
              " Text(0.05441609634432888, 0.4659090909090909, 'x[4] <= 1.5\\ngini = 0.375\\nsamples = 4\\nvalue = [3, 1]'),\n",
              " Text(0.053995894828156456, 0.4431818181818182, 'x[19] <= 170.0\\ngini = 0.5\\nsamples = 2\\nvalue = [1, 1]'),\n",
              " Text(0.05357569331198403, 0.42045454545454547, 'gini = 0.0\\nsamples = 1\\nvalue = [0, 1]'),\n",
              " Text(0.05441609634432888, 0.42045454545454547, 'gini = 0.0\\nsamples = 1\\nvalue = [1, 0]'),\n",
              " Text(0.0548362978605013, 0.4431818181818182, 'gini = 0.0\\nsamples = 2\\nvalue = [2, 0]'),\n",
              " Text(0.05441609634432888, 0.48863636363636365, 'gini = 0.0\\nsamples = 4\\nvalue = [0, 4]'),\n",
              " Text(0.055676700892846154, 0.5113636363636364, 'x[0] <= 19557.0\\ngini = 0.32\\nsamples = 5\\nvalue = [4, 1]'),\n",
              " Text(0.05525649937667373, 0.48863636363636365, 'gini = 0.0\\nsamples = 1\\nvalue = [0, 1]'),\n",
              " Text(0.05609690240901857, 0.48863636363636365, 'gini = 0.0\\nsamples = 4\\nvalue = [4, 0]'),\n",
              " Text(0.0581979099898807, 0.5340909090909091, 'x[5] <= 46.5\\ngini = 0.278\\nsamples = 12\\nvalue = [2, 10]'),\n",
              " Text(0.057357506957535845, 0.5113636363636364, 'x[0] <= 22407.5\\ngini = 0.18\\nsamples = 10\\nvalue = [1, 9]'),\n",
              " Text(0.056937305441363426, 0.48863636363636365, 'gini = 0.0\\nsamples = 6\\nvalue = [0, 6]'),\n",
              " Text(0.05777770847370827, 0.48863636363636365, 'x[0] <= 23069.5\\ngini = 0.375\\nsamples = 4\\nvalue = [1, 3]'),\n",
              " Text(0.057357506957535845, 0.4659090909090909, 'gini = 0.0\\nsamples = 1\\nvalue = [1, 0]'),\n",
              " Text(0.0581979099898807, 0.4659090909090909, 'gini = 0.0\\nsamples = 3\\nvalue = [0, 3]'),\n",
              " Text(0.05903831302222554, 0.5113636363636364, 'x[4] <= 2.0\\ngini = 0.5\\nsamples = 2\\nvalue = [1, 1]'),\n",
              " Text(0.05861811150605312, 0.48863636363636365, 'gini = 0.0\\nsamples = 1\\nvalue = [1, 0]'),\n",
              " Text(0.05945851453839796, 0.48863636363636365, 'gini = 0.0\\nsamples = 1\\nvalue = [0, 1]'),\n",
              " Text(0.05336559255389782, 0.6477272727272727, 'gini = 0.0\\nsamples = 4\\nvalue = [4, 0]'),\n",
              " Text(0.06313527780490667, 0.6931818181818182, 'x[23] <= 75.0\\ngini = 0.326\\nsamples = 112\\nvalue = [89, 23]'),\n",
              " Text(0.06271507628873425, 0.6704545454545454, 'x[0] <= 23368.5\\ngini = 0.309\\nsamples = 110\\nvalue = [89, 21]'),\n",
              " Text(0.05987871605457039, 0.6477272727272727, 'x[2] <= 1.5\\ngini = 0.18\\nsamples = 60\\nvalue = [54, 6]'),\n",
              " Text(0.05903831302222554, 0.625, 'x[5] <= 39.5\\ngini = 0.375\\nsamples = 16\\nvalue = [12, 4]'),\n",
              " Text(0.05861811150605312, 0.6022727272727273, 'x[5] <= 32.0\\ngini = 0.48\\nsamples = 10\\nvalue = [6, 4]'),\n",
              " Text(0.05777770847370827, 0.5795454545454546, 'x[0] <= 15125.0\\ngini = 0.32\\nsamples = 5\\nvalue = [4, 1]'),\n",
              " Text(0.057357506957535845, 0.5568181818181818, 'gini = 0.0\\nsamples = 1\\nvalue = [0, 1]'),\n",
              " Text(0.0581979099898807, 0.5568181818181818, 'gini = 0.0\\nsamples = 4\\nvalue = [4, 0]'),\n",
              " Text(0.05945851453839796, 0.5795454545454546, 'x[3] <= 1.5\\ngini = 0.48\\nsamples = 5\\nvalue = [2, 3]'),\n",
              " Text(0.05903831302222554, 0.5568181818181818, 'gini = 0.0\\nsamples = 3\\nvalue = [0, 3]'),\n",
              " Text(0.05987871605457039, 0.5568181818181818, 'gini = 0.0\\nsamples = 2\\nvalue = [2, 0]'),\n",
              " Text(0.05945851453839796, 0.6022727272727273, 'gini = 0.0\\nsamples = 6\\nvalue = [6, 0]'),\n",
              " Text(0.060719119086915234, 0.625, 'x[5] <= 38.5\\ngini = 0.087\\nsamples = 44\\nvalue = [42, 2]'),\n",
              " Text(0.060298917570742815, 0.6022727272727273, 'gini = 0.0\\nsamples = 30\\nvalue = [30, 0]'),\n",
              " Text(0.06113932060308766, 0.6022727272727273, 'x[0] <= 19335.5\\ngini = 0.245\\nsamples = 14\\nvalue = [12, 2]'),\n",
              " Text(0.060719119086915234, 0.5795454545454546, 'gini = 0.0\\nsamples = 8\\nvalue = [8, 0]'),\n",
              " Text(0.061559522119260086, 0.5795454545454546, 'x[0] <= 22587.5\\ngini = 0.444\\nsamples = 6\\nvalue = [4, 2]'),\n",
              " Text(0.06113932060308766, 0.5568181818181818, 'x[5] <= 49.0\\ngini = 0.444\\nsamples = 3\\nvalue = [1, 2]'),\n",
              " Text(0.060719119086915234, 0.5340909090909091, 'gini = 0.0\\nsamples = 2\\nvalue = [0, 2]'),\n",
              " Text(0.061559522119260086, 0.5340909090909091, 'gini = 0.0\\nsamples = 1\\nvalue = [1, 0]'),\n",
              " Text(0.061979723635432506, 0.5568181818181818, 'gini = 0.0\\nsamples = 3\\nvalue = [3, 0]'),\n",
              " Text(0.0655514365228981, 0.6477272727272727, 'x[0] <= 27369.5\\ngini = 0.42\\nsamples = 50\\nvalue = [35, 15]'),\n",
              " Text(0.0636605297001222, 0.625, 'x[15] <= -26.5\\ngini = 0.49\\nsamples = 28\\nvalue = [16, 12]'),\n",
              " Text(0.06324032818394978, 0.6022727272727273, 'gini = 0.0\\nsamples = 4\\nvalue = [4, 0]'),\n",
              " Text(0.06408073121629462, 0.6022727272727273, 'x[1] <= 170000.0\\ngini = 0.5\\nsamples = 24\\nvalue = [12, 12]'),\n",
              " Text(0.06324032818394978, 0.5795454545454546, 'x[0] <= 24303.5\\ngini = 0.32\\nsamples = 5\\nvalue = [1, 4]'),\n",
              " Text(0.06282012666777735, 0.5568181818181818, 'gini = 0.0\\nsamples = 1\\nvalue = [1, 0]'),\n",
              " Text(0.0636605297001222, 0.5568181818181818, 'gini = 0.0\\nsamples = 4\\nvalue = [0, 4]'),\n",
              " Text(0.06492113424863948, 0.5795454545454546, 'x[0] <= 27030.5\\ngini = 0.488\\nsamples = 19\\nvalue = [11, 8]'),\n",
              " Text(0.06450093273246706, 0.5568181818181818, 'x[0] <= 26254.0\\ngini = 0.457\\nsamples = 17\\nvalue = [11, 6]'),\n",
              " Text(0.06408073121629462, 0.5340909090909091, 'x[19] <= 258.5\\ngini = 0.497\\nsamples = 13\\nvalue = [7, 6]'),\n",
              " Text(0.0636605297001222, 0.5113636363636364, 'x[5] <= 38.5\\ngini = 0.496\\nsamples = 11\\nvalue = [5, 6]'),\n",
              " Text(0.06282012666777735, 0.48863636363636365, 'x[0] <= 26044.5\\ngini = 0.408\\nsamples = 7\\nvalue = [2, 5]'),\n",
              " Text(0.06239992515160493, 0.4659090909090909, 'x[2] <= 1.5\\ngini = 0.278\\nsamples = 6\\nvalue = [1, 5]'),\n",
              " Text(0.061979723635432506, 0.4431818181818182, 'x[0] <= 24662.5\\ngini = 0.5\\nsamples = 2\\nvalue = [1, 1]'),\n",
              " Text(0.061559522119260086, 0.42045454545454547, 'gini = 0.0\\nsamples = 1\\nvalue = [0, 1]'),\n",
              " Text(0.06239992515160493, 0.42045454545454547, 'gini = 0.0\\nsamples = 1\\nvalue = [1, 0]'),\n",
              " Text(0.06282012666777735, 0.4431818181818182, 'gini = 0.0\\nsamples = 4\\nvalue = [0, 4]'),\n",
              " Text(0.06324032818394978, 0.4659090909090909, 'gini = 0.0\\nsamples = 1\\nvalue = [1, 0]'),\n",
              " Text(0.06450093273246706, 0.48863636363636365, 'x[0] <= 25253.5\\ngini = 0.375\\nsamples = 4\\nvalue = [3, 1]'),\n",
              " Text(0.06408073121629462, 0.4659090909090909, 'gini = 0.0\\nsamples = 3\\nvalue = [3, 0]'),\n",
              " Text(0.06492113424863948, 0.4659090909090909, 'gini = 0.0\\nsamples = 1\\nvalue = [0, 1]'),\n",
              " Text(0.06450093273246706, 0.5113636363636364, 'gini = 0.0\\nsamples = 2\\nvalue = [2, 0]'),\n",
              " Text(0.06492113424863948, 0.5340909090909091, 'gini = 0.0\\nsamples = 4\\nvalue = [4, 0]'),\n",
              " Text(0.0653413357648119, 0.5568181818181818, 'gini = 0.0\\nsamples = 2\\nvalue = [0, 2]'),\n",
              " Text(0.06744234334567402, 0.625, 'x[0] <= 29948.5\\ngini = 0.236\\nsamples = 22\\nvalue = [19, 3]'),\n",
              " Text(0.0670221418295016, 0.6022727272727273, 'x[5] <= 28.5\\ngini = 0.172\\nsamples = 21\\nvalue = [19, 2]'),\n",
              " Text(0.06660194031332917, 0.5795454545454546, 'x[1] <= 180000.0\\ngini = 0.5\\nsamples = 4\\nvalue = [2, 2]'),\n",
              " Text(0.06618173879715675, 0.5568181818181818, 'x[0] <= 29426.0\\ngini = 0.444\\nsamples = 3\\nvalue = [2, 1]'),\n",
              " Text(0.06576153728098433, 0.5340909090909091, 'gini = 0.0\\nsamples = 2\\nvalue = [2, 0]'),\n",
              " Text(0.06660194031332917, 0.5340909090909091, 'gini = 0.0\\nsamples = 1\\nvalue = [0, 1]'),\n",
              " Text(0.0670221418295016, 0.5568181818181818, 'gini = 0.0\\nsamples = 1\\nvalue = [0, 1]'),\n",
              " Text(0.06744234334567402, 0.5795454545454546, 'gini = 0.0\\nsamples = 17\\nvalue = [17, 0]'),\n",
              " Text(0.06786254486184644, 0.6022727272727273, 'gini = 0.0\\nsamples = 1\\nvalue = [0, 1]'),\n",
              " Text(0.06355547932107909, 0.6704545454545454, 'gini = 0.0\\nsamples = 2\\nvalue = [0, 2]'),\n",
              " Text(0.06607668841811364, 0.7386363636363636, 'x[0] <= 21306.0\\ngini = 0.386\\nsamples = 23\\nvalue = [6, 17]'),\n",
              " Text(0.0652362853857688, 0.7159090909090909, 'x[0] <= 6319.0\\ngini = 0.208\\nsamples = 17\\nvalue = [2, 15]'),\n",
              " Text(0.06481608386959636, 0.6931818181818182, 'x[0] <= 2959.5\\ngini = 0.48\\nsamples = 5\\nvalue = [2, 3]'),\n",
              " Text(0.06439588235342394, 0.6704545454545454, 'gini = 0.0\\nsamples = 3\\nvalue = [0, 3]'),\n",
              " Text(0.0652362853857688, 0.6704545454545454, 'gini = 0.0\\nsamples = 2\\nvalue = [2, 0]'),\n",
              " Text(0.06565648690194122, 0.6931818181818182, 'gini = 0.0\\nsamples = 12\\nvalue = [0, 12]'),\n",
              " Text(0.06691709145045849, 0.7159090909090909, 'x[0] <= 27036.0\\ngini = 0.444\\nsamples = 6\\nvalue = [4, 2]'),\n",
              " Text(0.06649688993428607, 0.6931818181818182, 'gini = 0.0\\nsamples = 4\\nvalue = [4, 0]'),\n",
              " Text(0.06733729296663091, 0.6931818181818182, 'gini = 0.0\\nsamples = 2\\nvalue = [0, 2]'),\n",
              " Text(0.07164435850739825, 0.7613636363636364, 'x[18] <= 4013.0\\ngini = 0.225\\nsamples = 62\\nvalue = [54, 8]'),\n",
              " Text(0.0708039554750534, 0.7386363636363636, 'x[15] <= 35.5\\ngini = 0.158\\nsamples = 58\\nvalue = [53, 5]'),\n",
              " Text(0.07038375395888098, 0.7159090909090909, 'x[5] <= 30.5\\ngini = 0.131\\nsamples = 57\\nvalue = [53, 4]'),\n",
              " Text(0.06996355244270856, 0.6931818181818182, 'x[11] <= -0.5\\ngini = 0.332\\nsamples = 19\\nvalue = [15, 4]'),\n",
              " Text(0.06954335092653613, 0.6704545454545454, 'x[5] <= 23.5\\ngini = 0.208\\nsamples = 17\\nvalue = [15, 2]'),\n",
              " Text(0.06870294789419129, 0.6477272727272727, 'x[15] <= -200.0\\ngini = 0.5\\nsamples = 2\\nvalue = [1, 1]'),\n",
              " Text(0.06828274637801887, 0.625, 'gini = 0.0\\nsamples = 1\\nvalue = [1, 0]'),\n",
              " Text(0.06912314941036371, 0.625, 'gini = 0.0\\nsamples = 1\\nvalue = [0, 1]'),\n",
              " Text(0.07038375395888098, 0.6477272727272727, 'x[0] <= 2143.5\\ngini = 0.124\\nsamples = 15\\nvalue = [14, 1]'),\n",
              " Text(0.06996355244270856, 0.625, 'x[21] <= 25305.5\\ngini = 0.5\\nsamples = 2\\nvalue = [1, 1]'),\n",
              " Text(0.06954335092653613, 0.6022727272727273, 'gini = 0.0\\nsamples = 1\\nvalue = [1, 0]'),\n",
              " Text(0.07038375395888098, 0.6022727272727273, 'gini = 0.0\\nsamples = 1\\nvalue = [0, 1]'),\n",
              " Text(0.0708039554750534, 0.625, 'gini = 0.0\\nsamples = 13\\nvalue = [13, 0]'),\n",
              " Text(0.07038375395888098, 0.6704545454545454, 'gini = 0.0\\nsamples = 2\\nvalue = [0, 2]'),\n",
              " Text(0.0708039554750534, 0.6931818181818182, 'gini = 0.0\\nsamples = 38\\nvalue = [38, 0]'),\n",
              " Text(0.07122415699122583, 0.7159090909090909, 'gini = 0.0\\nsamples = 1\\nvalue = [0, 1]'),\n",
              " Text(0.0724847615397431, 0.7386363636363636, 'x[19] <= 34217.5\\ngini = 0.375\\nsamples = 4\\nvalue = [1, 3]'),\n",
              " Text(0.07206456002357067, 0.7159090909090909, 'gini = 0.0\\nsamples = 3\\nvalue = [0, 3]'),\n",
              " Text(0.07290496305591553, 0.7159090909090909, 'gini = 0.0\\nsamples = 1\\nvalue = [1, 0]'),\n",
              " Text(0.08053424683392109, 0.8068181818181818, 'x[0] <= 15487.0\\ngini = 0.495\\nsamples = 202\\nvalue = [111, 91]'),\n",
              " Text(0.076844352270032, 0.7840909090909091, 'x[22] <= 1415.0\\ngini = 0.499\\nsamples = 116\\nvalue = [55, 61]'),\n",
              " Text(0.07568879810055783, 0.7613636363636364, 'x[11] <= -1.5\\ngini = 0.492\\nsamples = 103\\nvalue = [45, 58]'),\n",
              " Text(0.07526859658438541, 0.7386363636363636, 'x[19] <= 2.0\\ngini = 0.499\\nsamples = 95\\nvalue = [45, 50]'),\n",
              " Text(0.07421809279395435, 0.7159090909090909, 'x[0] <= 13224.5\\ngini = 0.492\\nsamples = 87\\nvalue = [38, 49]'),\n",
              " Text(0.07337768976160951, 0.6931818181818182, 'x[0] <= 11317.5\\ngini = 0.498\\nsamples = 79\\nvalue = [37, 42]'),\n",
              " Text(0.07295748824543707, 0.6704545454545454, 'x[5] <= 27.5\\ngini = 0.489\\nsamples = 73\\nvalue = [31, 42]'),\n",
              " Text(0.07253728672926466, 0.6477272727272727, 'gini = 0.0\\nsamples = 3\\nvalue = [3, 0]'),\n",
              " Text(0.07337768976160951, 0.6477272727272727, 'x[5] <= 52.5\\ngini = 0.48\\nsamples = 70\\nvalue = [28, 42]'),\n",
              " Text(0.07295748824543707, 0.625, 'x[12] <= -3.0\\ngini = 0.472\\nsamples = 68\\nvalue = [26, 42]'),\n",
              " Text(0.07122415699122583, 0.6022727272727273, 'x[0] <= 4558.5\\ngini = 0.444\\nsamples = 6\\nvalue = [4, 2]'),\n",
              " Text(0.0708039554750534, 0.5795454545454546, 'x[14] <= -599.0\\ngini = 0.444\\nsamples = 3\\nvalue = [1, 2]'),\n",
              " Text(0.07038375395888098, 0.5568181818181818, 'gini = 0.0\\nsamples = 1\\nvalue = [1, 0]'),\n",
              " Text(0.07122415699122583, 0.5568181818181818, 'gini = 0.0\\nsamples = 2\\nvalue = [0, 2]'),\n",
              " Text(0.07164435850739825, 0.5795454545454546, 'gini = 0.0\\nsamples = 3\\nvalue = [3, 0]'),\n",
              " Text(0.07469081949964833, 0.6022727272727273, 'x[5] <= 32.5\\ngini = 0.458\\nsamples = 62\\nvalue = [22, 40]'),\n",
              " Text(0.07290496305591553, 0.5795454545454546, 'x[3] <= 1.5\\ngini = 0.5\\nsamples = 20\\nvalue = [10, 10]'),\n",
              " Text(0.07206456002357067, 0.5568181818181818, 'x[0] <= 6147.5\\ngini = 0.444\\nsamples = 12\\nvalue = [8, 4]'),\n",
              " Text(0.07164435850739825, 0.5340909090909091, 'gini = 0.0\\nsamples = 5\\nvalue = [5, 0]'),\n",
              " Text(0.0724847615397431, 0.5340909090909091, 'x[5] <= 30.5\\ngini = 0.49\\nsamples = 7\\nvalue = [3, 4]'),\n",
              " Text(0.07206456002357067, 0.5113636363636364, 'x[0] <= 6242.0\\ngini = 0.375\\nsamples = 4\\nvalue = [3, 1]'),\n",
              " Text(0.07164435850739825, 0.48863636363636365, 'gini = 0.0\\nsamples = 1\\nvalue = [0, 1]'),\n",
              " Text(0.0724847615397431, 0.48863636363636365, 'gini = 0.0\\nsamples = 3\\nvalue = [3, 0]'),\n",
              " Text(0.07290496305591553, 0.5113636363636364, 'gini = 0.0\\nsamples = 3\\nvalue = [0, 3]'),\n",
              " Text(0.07374536608826038, 0.5568181818181818, 'x[0] <= 8096.5\\ngini = 0.375\\nsamples = 8\\nvalue = [2, 6]'),\n",
              " Text(0.07332516457208794, 0.5340909090909091, 'gini = 0.0\\nsamples = 6\\nvalue = [0, 6]'),\n",
              " Text(0.0741655676044328, 0.5340909090909091, 'gini = 0.0\\nsamples = 2\\nvalue = [2, 0]'),\n",
              " Text(0.07647667594338113, 0.5795454545454546, 'x[5] <= 46.5\\ngini = 0.408\\nsamples = 42\\nvalue = [12, 30]'),\n",
              " Text(0.07542617215295007, 0.5568181818181818, 'x[5] <= 35.5\\ngini = 0.342\\nsamples = 32\\nvalue = [7, 25]'),\n",
              " Text(0.07500597063677765, 0.5340909090909091, 'gini = 0.0\\nsamples = 5\\nvalue = [0, 5]'),\n",
              " Text(0.07584637366912249, 0.5340909090909091, 'x[5] <= 42.5\\ngini = 0.384\\nsamples = 27\\nvalue = [7, 20]'),\n",
              " Text(0.07542617215295007, 0.5113636363636364, 'x[0] <= 6103.5\\ngini = 0.423\\nsamples = 23\\nvalue = [7, 16]'),\n",
              " Text(0.07458576912060522, 0.48863636363636365, 'x[0] <= 2232.0\\ngini = 0.278\\nsamples = 12\\nvalue = [2, 10]'),\n",
              " Text(0.0741655676044328, 0.4659090909090909, 'x[2] <= 1.5\\ngini = 0.444\\nsamples = 6\\nvalue = [2, 4]'),\n",
              " Text(0.07374536608826038, 0.4431818181818182, 'x[1] <= 355000.0\\ngini = 0.32\\nsamples = 5\\nvalue = [1, 4]'),\n",
              " Text(0.07332516457208794, 0.42045454545454547, 'gini = 0.0\\nsamples = 1\\nvalue = [1, 0]'),\n",
              " Text(0.0741655676044328, 0.42045454545454547, 'gini = 0.0\\nsamples = 4\\nvalue = [0, 4]'),\n",
              " Text(0.07458576912060522, 0.4431818181818182, 'gini = 0.0\\nsamples = 1\\nvalue = [1, 0]'),\n",
              " Text(0.07500597063677765, 0.4659090909090909, 'gini = 0.0\\nsamples = 6\\nvalue = [0, 6]'),\n",
              " Text(0.07626657518529492, 0.48863636363636365, 'x[0] <= 10324.0\\ngini = 0.496\\nsamples = 11\\nvalue = [5, 6]'),\n",
              " Text(0.07584637366912249, 0.4659090909090909, 'x[3] <= 2.5\\ngini = 0.494\\nsamples = 9\\nvalue = [5, 4]'),\n",
              " Text(0.07542617215295007, 0.4431818181818182, 'x[1] <= 350000.0\\ngini = 0.469\\nsamples = 8\\nvalue = [5, 3]'),\n",
              " Text(0.07500597063677765, 0.42045454545454547, 'gini = 0.0\\nsamples = 1\\nvalue = [0, 1]'),\n",
              " Text(0.07584637366912249, 0.42045454545454547, 'x[1] <= 425000.0\\ngini = 0.408\\nsamples = 7\\nvalue = [5, 2]'),\n",
              " Text(0.07542617215295007, 0.3977272727272727, 'gini = 0.0\\nsamples = 3\\nvalue = [3, 0]'),\n",
              " Text(0.07626657518529492, 0.3977272727272727, 'x[3] <= 1.5\\ngini = 0.5\\nsamples = 4\\nvalue = [2, 2]'),\n",
              " Text(0.07584637366912249, 0.375, 'x[5] <= 41.0\\ngini = 0.444\\nsamples = 3\\nvalue = [2, 1]'),\n",
              " Text(0.07542617215295007, 0.3522727272727273, 'gini = 0.0\\nsamples = 2\\nvalue = [2, 0]'),\n",
              " Text(0.07626657518529492, 0.3522727272727273, 'gini = 0.0\\nsamples = 1\\nvalue = [0, 1]'),\n",
              " Text(0.07668677670146734, 0.375, 'gini = 0.0\\nsamples = 1\\nvalue = [0, 1]'),\n",
              " Text(0.07626657518529492, 0.4431818181818182, 'gini = 0.0\\nsamples = 1\\nvalue = [0, 1]'),\n",
              " Text(0.07668677670146734, 0.4659090909090909, 'gini = 0.0\\nsamples = 2\\nvalue = [0, 2]'),\n",
              " Text(0.07626657518529492, 0.5113636363636364, 'gini = 0.0\\nsamples = 4\\nvalue = [0, 4]'),\n",
              " Text(0.0775271797338122, 0.5568181818181818, 'x[6] <= -0.5\\ngini = 0.5\\nsamples = 10\\nvalue = [5, 5]'),\n",
              " Text(0.07710697821763976, 0.5340909090909091, 'gini = 0.0\\nsamples = 2\\nvalue = [0, 2]'),\n",
              " Text(0.07794738124998461, 0.5340909090909091, 'x[14] <= -57.0\\ngini = 0.469\\nsamples = 8\\nvalue = [5, 3]'),\n",
              " Text(0.0775271797338122, 0.5113636363636364, 'gini = 0.0\\nsamples = 1\\nvalue = [0, 1]'),\n",
              " Text(0.07836758276615703, 0.5113636363636364, 'x[0] <= 6845.5\\ngini = 0.408\\nsamples = 7\\nvalue = [5, 2]'),\n",
              " Text(0.07794738124998461, 0.48863636363636365, 'x[1] <= 545000.0\\ngini = 0.5\\nsamples = 4\\nvalue = [2, 2]'),\n",
              " Text(0.0775271797338122, 0.4659090909090909, 'x[0] <= 235.0\\ngini = 0.444\\nsamples = 3\\nvalue = [1, 2]'),\n",
              " Text(0.07710697821763976, 0.4431818181818182, 'gini = 0.0\\nsamples = 1\\nvalue = [1, 0]'),\n",
              " Text(0.07794738124998461, 0.4431818181818182, 'gini = 0.0\\nsamples = 2\\nvalue = [0, 2]'),\n",
              " Text(0.07836758276615703, 0.4659090909090909, 'gini = 0.0\\nsamples = 1\\nvalue = [1, 0]'),\n",
              " Text(0.07878778428232946, 0.48863636363636365, 'gini = 0.0\\nsamples = 3\\nvalue = [3, 0]'),\n",
              " Text(0.07379789127778193, 0.625, 'gini = 0.0\\nsamples = 2\\nvalue = [2, 0]'),\n",
              " Text(0.07379789127778193, 0.6704545454545454, 'gini = 0.0\\nsamples = 6\\nvalue = [6, 0]'),\n",
              " Text(0.0750584958262992, 0.6931818181818182, 'x[3] <= 1.5\\ngini = 0.219\\nsamples = 8\\nvalue = [1, 7]'),\n",
              " Text(0.07463829431012678, 0.6704545454545454, 'gini = 0.0\\nsamples = 6\\nvalue = [0, 6]'),\n",
              " Text(0.07547869734247162, 0.6704545454545454, 'x[6] <= -0.5\\ngini = 0.5\\nsamples = 2\\nvalue = [1, 1]'),\n",
              " Text(0.0750584958262992, 0.6477272727272727, 'gini = 0.0\\nsamples = 1\\nvalue = [1, 0]'),\n",
              " Text(0.07589889885864405, 0.6477272727272727, 'gini = 0.0\\nsamples = 1\\nvalue = [0, 1]'),\n",
              " Text(0.07631910037481647, 0.7159090909090909, 'x[5] <= 46.0\\ngini = 0.219\\nsamples = 8\\nvalue = [7, 1]'),\n",
              " Text(0.07589889885864405, 0.6931818181818182, 'gini = 0.0\\nsamples = 7\\nvalue = [7, 0]'),\n",
              " Text(0.07673930189098889, 0.6931818181818182, 'gini = 0.0\\nsamples = 1\\nvalue = [0, 1]'),\n",
              " Text(0.07610899961673026, 0.7386363636363636, 'gini = 0.0\\nsamples = 8\\nvalue = [0, 8]'),\n",
              " Text(0.07799990643950616, 0.7613636363636364, 'x[5] <= 52.5\\ngini = 0.355\\nsamples = 13\\nvalue = [10, 3]'),\n",
              " Text(0.07757970492333374, 0.7386363636363636, 'x[16] <= -7.5\\ngini = 0.165\\nsamples = 11\\nvalue = [10, 1]'),\n",
              " Text(0.07715950340716132, 0.7159090909090909, 'gini = 0.0\\nsamples = 1\\nvalue = [0, 1]'),\n",
              " Text(0.07799990643950616, 0.7159090909090909, 'gini = 0.0\\nsamples = 10\\nvalue = [10, 0]'),\n",
              " Text(0.0784201079556786, 0.7386363636363636, 'gini = 0.0\\nsamples = 2\\nvalue = [0, 2]'),\n",
              " Text(0.08422414139781019, 0.7840909090909091, 'x[23] <= 0.5\\ngini = 0.454\\nsamples = 86\\nvalue = [56, 30]'),\n",
              " Text(0.08380393988163777, 0.7613636363636364, 'x[18] <= 519.0\\ngini = 0.444\\nsamples = 84\\nvalue = [56, 28]'),\n",
              " Text(0.08188677046410109, 0.7386363636363636, 'x[6] <= -1.5\\ngini = 0.471\\nsamples = 71\\nvalue = [44, 27]'),\n",
              " Text(0.07994333845180362, 0.7159090909090909, 'x[0] <= 27563.5\\ngini = 0.499\\nsamples = 42\\nvalue = [22, 20]'),\n",
              " Text(0.07878778428232946, 0.6931818181818182, 'x[1] <= 425000.0\\ngini = 0.493\\nsamples = 34\\nvalue = [15, 19]'),\n",
              " Text(0.0777372804918984, 0.6704545454545454, 'x[5] <= 30.5\\ngini = 0.459\\nsamples = 28\\nvalue = [10, 18]'),\n",
              " Text(0.07689687745955355, 0.6477272727272727, 'x[2] <= 1.5\\ngini = 0.469\\nsamples = 8\\nvalue = [5, 3]'),\n",
              " Text(0.07647667594338113, 0.625, 'gini = 0.0\\nsamples = 3\\nvalue = [3, 0]'),\n",
              " Text(0.07731707897572597, 0.625, 'x[1] <= 350000.0\\ngini = 0.48\\nsamples = 5\\nvalue = [2, 3]'),\n",
              " Text(0.07689687745955355, 0.6022727272727273, 'gini = 0.0\\nsamples = 1\\nvalue = [1, 0]'),\n",
              " Text(0.0777372804918984, 0.6022727272727273, 'x[0] <= 25753.0\\ngini = 0.375\\nsamples = 4\\nvalue = [1, 3]'),\n",
              " Text(0.07731707897572597, 0.5795454545454546, 'gini = 0.0\\nsamples = 3\\nvalue = [0, 3]'),\n",
              " Text(0.07815748200807082, 0.5795454545454546, 'gini = 0.0\\nsamples = 1\\nvalue = [1, 0]'),\n",
              " Text(0.07857768352424324, 0.6477272727272727, 'x[16] <= -2.5\\ngini = 0.375\\nsamples = 20\\nvalue = [5, 15]'),\n",
              " Text(0.07815748200807082, 0.625, 'gini = 0.0\\nsamples = 2\\nvalue = [2, 0]'),\n",
              " Text(0.07899788504041567, 0.625, 'x[3] <= 1.5\\ngini = 0.278\\nsamples = 18\\nvalue = [3, 15]'),\n",
              " Text(0.07857768352424324, 0.6022727272727273, 'gini = 0.0\\nsamples = 9\\nvalue = [0, 9]'),\n",
              " Text(0.0794180865565881, 0.6022727272727273, 'x[0] <= 25508.0\\ngini = 0.444\\nsamples = 9\\nvalue = [3, 6]'),\n",
              " Text(0.07899788504041567, 0.5795454545454546, 'x[4] <= 1.5\\ngini = 0.5\\nsamples = 6\\nvalue = [3, 3]'),\n",
              " Text(0.07857768352424324, 0.5568181818181818, 'gini = 0.0\\nsamples = 3\\nvalue = [3, 0]'),\n",
              " Text(0.0794180865565881, 0.5568181818181818, 'gini = 0.0\\nsamples = 3\\nvalue = [0, 3]'),\n",
              " Text(0.07983828807276051, 0.5795454545454546, 'gini = 0.0\\nsamples = 3\\nvalue = [0, 3]'),\n",
              " Text(0.07983828807276051, 0.6704545454545454, 'x[5] <= 51.0\\ngini = 0.278\\nsamples = 6\\nvalue = [5, 1]'),\n",
              " Text(0.0794180865565881, 0.6477272727272727, 'gini = 0.0\\nsamples = 5\\nvalue = [5, 0]'),\n",
              " Text(0.08025848958893295, 0.6477272727272727, 'gini = 0.0\\nsamples = 1\\nvalue = [0, 1]'),\n",
              " Text(0.08109889262127778, 0.6931818181818182, 'x[5] <= 66.0\\ngini = 0.219\\nsamples = 8\\nvalue = [7, 1]'),\n",
              " Text(0.08067869110510537, 0.6704545454545454, 'gini = 0.0\\nsamples = 7\\nvalue = [7, 0]'),\n",
              " Text(0.08151909413745022, 0.6704545454545454, 'gini = 0.0\\nsamples = 1\\nvalue = [0, 1]'),\n",
              " Text(0.08383020247639854, 0.7159090909090909, 'x[1] <= 345000.0\\ngini = 0.366\\nsamples = 29\\nvalue = [22, 7]'),\n",
              " Text(0.08277969868596749, 0.6931818181818182, 'x[5] <= 42.5\\ngini = 0.375\\nsamples = 4\\nvalue = [1, 3]'),\n",
              " Text(0.08235949716979506, 0.6704545454545454, 'gini = 0.0\\nsamples = 3\\nvalue = [0, 3]'),\n",
              " Text(0.08319990020213991, 0.6704545454545454, 'gini = 0.0\\nsamples = 1\\nvalue = [1, 0]'),\n",
              " Text(0.0848807062668296, 0.6931818181818182, 'x[5] <= 46.5\\ngini = 0.269\\nsamples = 25\\nvalue = [21, 4]'),\n",
              " Text(0.08404030323448476, 0.6704545454545454, 'x[11] <= -0.5\\ngini = 0.165\\nsamples = 22\\nvalue = [20, 2]'),\n",
              " Text(0.08362010171831233, 0.6477272727272727, 'x[0] <= 28863.0\\ngini = 0.091\\nsamples = 21\\nvalue = [20, 1]'),\n",
              " Text(0.08319990020213991, 0.625, 'gini = 0.0\\nsamples = 19\\nvalue = [19, 0]'),\n",
              " Text(0.08404030323448476, 0.625, 'x[4] <= 1.5\\ngini = 0.5\\nsamples = 2\\nvalue = [1, 1]'),\n",
              " Text(0.08362010171831233, 0.6022727272727273, 'gini = 0.0\\nsamples = 1\\nvalue = [1, 0]'),\n",
              " Text(0.08446050475065718, 0.6022727272727273, 'gini = 0.0\\nsamples = 1\\nvalue = [0, 1]'),\n",
              " Text(0.08446050475065718, 0.6477272727272727, 'gini = 0.0\\nsamples = 1\\nvalue = [0, 1]'),\n",
              " Text(0.08572110929917445, 0.6704545454545454, 'x[1] <= 440000.0\\ngini = 0.444\\nsamples = 3\\nvalue = [1, 2]'),\n",
              " Text(0.08530090778300203, 0.6477272727272727, 'gini = 0.0\\nsamples = 2\\nvalue = [0, 2]'),\n",
              " Text(0.08614131081534687, 0.6477272727272727, 'gini = 0.0\\nsamples = 1\\nvalue = [1, 0]'),\n",
              " Text(0.08572110929917445, 0.7386363636363636, 'x[18] <= 7926.0\\ngini = 0.142\\nsamples = 13\\nvalue = [12, 1]'),\n",
              " Text(0.08530090778300203, 0.7159090909090909, 'gini = 0.0\\nsamples = 11\\nvalue = [11, 0]'),\n",
              " Text(0.08614131081534687, 0.7159090909090909, 'x[14] <= 33229.0\\ngini = 0.5\\nsamples = 2\\nvalue = [1, 1]'),\n",
              " Text(0.08572110929917445, 0.6931818181818182, 'gini = 0.0\\nsamples = 1\\nvalue = [0, 1]'),\n",
              " Text(0.0865615123315193, 0.6931818181818182, 'gini = 0.0\\nsamples = 1\\nvalue = [1, 0]'),\n",
              " Text(0.08464434291398261, 0.7613636363636364, 'gini = 0.0\\nsamples = 2\\nvalue = [0, 2]'),\n",
              " Text(0.09259534347780769, 0.8295454545454546, 'x[12] <= 350.5\\ngini = 0.304\\nsamples = 300\\nvalue = [244, 56]'),\n",
              " Text(0.09048777024825538, 0.8068181818181818, 'x[23] <= 7398.5\\ngini = 0.269\\nsamples = 268\\nvalue = [225, 43]'),\n",
              " Text(0.08963423591853015, 0.7840909090909091, 'x[5] <= 59.0\\ngini = 0.307\\nsamples = 222\\nvalue = [180, 42]'),\n",
              " Text(0.08921403440235773, 0.7613636363636364, 'x[13] <= -694.0\\ngini = 0.298\\nsamples = 220\\nvalue = [180, 40]'),\n",
              " Text(0.08792716725907967, 0.7386363636363636, 'x[13] <= -4059.5\\ngini = 0.375\\nsamples = 4\\nvalue = [1, 3]'),\n",
              " Text(0.08750696574290726, 0.7159090909090909, 'gini = 0.0\\nsamples = 1\\nvalue = [1, 0]'),\n",
              " Text(0.0883473687752521, 0.7159090909090909, 'gini = 0.0\\nsamples = 3\\nvalue = [0, 3]'),\n",
              " Text(0.09050090154563577, 0.7386363636363636, 'x[21] <= 50028.5\\ngini = 0.284\\nsamples = 216\\nvalue = [179, 37]'),\n",
              " Text(0.08918777180759695, 0.7159090909090909, 'x[21] <= 705.0\\ngini = 0.27\\nsamples = 211\\nvalue = [177, 34]'),\n",
              " Text(0.08782211688003658, 0.6931818181818182, 'x[16] <= 688.0\\ngini = 0.336\\nsamples = 145\\nvalue = [114, 31]'),\n",
              " Text(0.08740191536386414, 0.6704545454545454, 'x[12] <= 73.0\\ngini = 0.323\\nsamples = 143\\nvalue = [114, 29]'),\n",
              " Text(0.08698171384769172, 0.6477272727272727, 'x[12] <= 6.0\\ngini = 0.354\\nsamples = 126\\nvalue = [97, 29]'),\n",
              " Text(0.0865615123315193, 0.625, 'x[12] <= -2.0\\ngini = 0.341\\nsamples = 124\\nvalue = [97, 27]'),\n",
              " Text(0.08614131081534687, 0.6022727272727273, 'gini = 0.0\\nsamples = 14\\nvalue = [14, 0]'),\n",
              " Text(0.08698171384769172, 0.6022727272727273, 'x[1] <= 370000.0\\ngini = 0.37\\nsamples = 110\\nvalue = [83, 27]'),\n",
              " Text(0.0865615123315193, 0.5795454545454546, 'x[1] <= 70000.0\\ngini = 0.397\\nsamples = 99\\nvalue = [72, 27]'),\n",
              " Text(0.08572110929917445, 0.5568181818181818, 'x[14] <= 395.0\\ngini = 0.124\\nsamples = 15\\nvalue = [14, 1]'),\n",
              " Text(0.08530090778300203, 0.5340909090909091, 'gini = 0.0\\nsamples = 14\\nvalue = [14, 0]'),\n",
              " Text(0.08614131081534687, 0.5340909090909091, 'gini = 0.0\\nsamples = 1\\nvalue = [0, 1]'),\n",
              " Text(0.08740191536386414, 0.5568181818181818, 'x[23] <= 6595.5\\ngini = 0.427\\nsamples = 84\\nvalue = [58, 26]'),\n",
              " Text(0.08698171384769172, 0.5340909090909091, 'x[22] <= 1135.0\\ngini = 0.421\\nsamples = 83\\nvalue = [58, 25]'),\n",
              " Text(0.08490696886159038, 0.5113636363636364, 'x[22] <= 180.0\\ngini = 0.451\\nsamples = 70\\nvalue = [46, 24]'),\n",
              " Text(0.08201808343790497, 0.48863636363636365, 'x[4] <= 1.5\\ngini = 0.393\\nsamples = 52\\nvalue = [38, 14]'),\n",
              " Text(0.08002212623608596, 0.4659090909090909, 'x[1] <= 175000.0\\ngini = 0.466\\nsamples = 27\\nvalue = [17, 10]'),\n",
              " Text(0.0789716224456549, 0.4431818181818182, 'x[5] <= 39.0\\ngini = 0.298\\nsamples = 11\\nvalue = [9, 2]'),\n",
              " Text(0.07855142092948247, 0.42045454545454547, 'x[5] <= 34.0\\ngini = 0.444\\nsamples = 6\\nvalue = [4, 2]'),\n",
              " Text(0.07813121941331004, 0.3977272727272727, 'gini = 0.0\\nsamples = 3\\nvalue = [3, 0]'),\n",
              " Text(0.0789716224456549, 0.3977272727272727, 'x[1] <= 135000.0\\ngini = 0.444\\nsamples = 3\\nvalue = [1, 2]'),\n",
              " Text(0.07855142092948247, 0.375, 'gini = 0.0\\nsamples = 1\\nvalue = [1, 0]'),\n",
              " Text(0.07939182396182731, 0.375, 'gini = 0.0\\nsamples = 2\\nvalue = [0, 2]'),\n",
              " Text(0.07939182396182731, 0.42045454545454547, 'gini = 0.0\\nsamples = 5\\nvalue = [5, 0]'),\n",
              " Text(0.08107263002651702, 0.4431818181818182, 'x[23] <= 1052.0\\ngini = 0.5\\nsamples = 16\\nvalue = [8, 8]'),\n",
              " Text(0.08023222699417216, 0.42045454545454547, 'x[5] <= 47.0\\ngini = 0.375\\nsamples = 8\\nvalue = [2, 6]'),\n",
              " Text(0.07981202547799975, 0.3977272727272727, 'gini = 0.0\\nsamples = 6\\nvalue = [0, 6]'),\n",
              " Text(0.08065242851034458, 0.3977272727272727, 'gini = 0.0\\nsamples = 2\\nvalue = [2, 0]'),\n",
              " Text(0.08191303305886186, 0.42045454545454547, 'x[1] <= 265000.0\\ngini = 0.375\\nsamples = 8\\nvalue = [6, 2]'),\n",
              " Text(0.08149283154268944, 0.3977272727272727, 'gini = 0.0\\nsamples = 6\\nvalue = [6, 0]'),\n",
              " Text(0.08233323457503429, 0.3977272727272727, 'gini = 0.0\\nsamples = 2\\nvalue = [0, 2]'),\n",
              " Text(0.08401404063972398, 0.4659090909090909, 'x[5] <= 27.5\\ngini = 0.269\\nsamples = 25\\nvalue = [21, 4]'),\n",
              " Text(0.08317363760737913, 0.4431818181818182, 'x[23] <= 810.0\\ngini = 0.5\\nsamples = 4\\nvalue = [2, 2]'),\n",
              " Text(0.08275343609120671, 0.42045454545454547, 'gini = 0.0\\nsamples = 2\\nvalue = [2, 0]'),\n",
              " Text(0.08359383912355156, 0.42045454545454547, 'gini = 0.0\\nsamples = 2\\nvalue = [0, 2]'),\n",
              " Text(0.08485444367206883, 0.4431818181818182, 'x[1] <= 100000.0\\ngini = 0.172\\nsamples = 21\\nvalue = [19, 2]'),\n",
              " Text(0.0844342421558964, 0.42045454545454547, 'gini = 0.0\\nsamples = 1\\nvalue = [0, 1]'),\n",
              " Text(0.08527464518824125, 0.42045454545454547, 'x[23] <= 248.0\\ngini = 0.095\\nsamples = 20\\nvalue = [19, 1]'),\n",
              " Text(0.08485444367206883, 0.3977272727272727, 'x[6] <= -0.5\\ngini = 0.5\\nsamples = 2\\nvalue = [1, 1]'),\n",
              " Text(0.0844342421558964, 0.375, 'gini = 0.0\\nsamples = 1\\nvalue = [1, 0]'),\n",
              " Text(0.08527464518824125, 0.375, 'gini = 0.0\\nsamples = 1\\nvalue = [0, 1]'),\n",
              " Text(0.08569484670441367, 0.3977272727272727, 'gini = 0.0\\nsamples = 18\\nvalue = [18, 0]'),\n",
              " Text(0.0877958542852758, 0.48863636363636365, 'x[1] <= 165000.0\\ngini = 0.494\\nsamples = 18\\nvalue = [8, 10]'),\n",
              " Text(0.08695545125293094, 0.4659090909090909, 'x[4] <= 1.5\\ngini = 0.375\\nsamples = 8\\nvalue = [6, 2]'),\n",
              " Text(0.08653524973675852, 0.4431818181818182, 'x[5] <= 34.5\\ngini = 0.444\\nsamples = 3\\nvalue = [1, 2]'),\n",
              " Text(0.0861150482205861, 0.42045454545454547, 'gini = 0.0\\nsamples = 1\\nvalue = [1, 0]'),\n",
              " Text(0.08695545125293094, 0.42045454545454547, 'gini = 0.0\\nsamples = 2\\nvalue = [0, 2]'),\n",
              " Text(0.08737565276910338, 0.4431818181818182, 'gini = 0.0\\nsamples = 5\\nvalue = [5, 0]'),\n",
              " Text(0.08863625731762065, 0.4659090909090909, 'x[22] <= 547.0\\ngini = 0.32\\nsamples = 10\\nvalue = [2, 8]'),\n",
              " Text(0.08821605580144821, 0.4431818181818182, 'gini = 0.0\\nsamples = 7\\nvalue = [0, 7]'),\n",
              " Text(0.08905645883379307, 0.4431818181818182, 'x[16] <= 16.5\\ngini = 0.444\\nsamples = 3\\nvalue = [2, 1]'),\n",
              " Text(0.08863625731762065, 0.42045454545454547, 'gini = 0.0\\nsamples = 2\\nvalue = [2, 0]'),\n",
              " Text(0.08947666034996549, 0.42045454545454547, 'gini = 0.0\\nsamples = 1\\nvalue = [0, 1]'),\n",
              " Text(0.08905645883379307, 0.5113636363636364, 'x[9] <= -0.5\\ngini = 0.142\\nsamples = 13\\nvalue = [12, 1]'),\n",
              " Text(0.08863625731762065, 0.48863636363636365, 'gini = 0.0\\nsamples = 12\\nvalue = [12, 0]'),\n",
              " Text(0.08947666034996549, 0.48863636363636365, 'gini = 0.0\\nsamples = 1\\nvalue = [0, 1]'),\n",
              " Text(0.08782211688003658, 0.5340909090909091, 'gini = 0.0\\nsamples = 1\\nvalue = [0, 1]'),\n",
              " Text(0.08740191536386414, 0.5795454545454546, 'gini = 0.0\\nsamples = 11\\nvalue = [11, 0]'),\n",
              " Text(0.08740191536386414, 0.625, 'gini = 0.0\\nsamples = 2\\nvalue = [0, 2]'),\n",
              " Text(0.08782211688003658, 0.6477272727272727, 'gini = 0.0\\nsamples = 17\\nvalue = [17, 0]'),\n",
              " Text(0.088242318396209, 0.6704545454545454, 'gini = 0.0\\nsamples = 2\\nvalue = [0, 2]'),\n",
              " Text(0.09055342673515733, 0.6931818181818182, 'x[10] <= -0.5\\ngini = 0.087\\nsamples = 66\\nvalue = [63, 3]'),\n",
              " Text(0.08950292294472627, 0.6704545454545454, 'x[5] <= 25.5\\ngini = 0.061\\nsamples = 64\\nvalue = [62, 2]'),\n",
              " Text(0.08866251991238142, 0.6477272727272727, 'x[7] <= -1.5\\ngini = 0.32\\nsamples = 5\\nvalue = [4, 1]'),\n",
              " Text(0.088242318396209, 0.625, 'gini = 0.0\\nsamples = 4\\nvalue = [4, 0]'),\n",
              " Text(0.08908272142855385, 0.625, 'gini = 0.0\\nsamples = 1\\nvalue = [0, 1]'),\n",
              " Text(0.0903433259770711, 0.6477272727272727, 'x[22] <= 3635.0\\ngini = 0.033\\nsamples = 59\\nvalue = [58, 1]'),\n",
              " Text(0.08992312446089869, 0.625, 'gini = 0.0\\nsamples = 47\\nvalue = [47, 0]'),\n",
              " Text(0.09076352749324354, 0.625, 'x[22] <= 4190.0\\ngini = 0.153\\nsamples = 12\\nvalue = [11, 1]'),\n",
              " Text(0.0903433259770711, 0.6022727272727273, 'gini = 0.0\\nsamples = 1\\nvalue = [0, 1]'),\n",
              " Text(0.09118372900941596, 0.6022727272727273, 'gini = 0.0\\nsamples = 11\\nvalue = [11, 0]'),\n",
              " Text(0.09160393052558838, 0.6704545454545454, 'x[11] <= -0.5\\ngini = 0.5\\nsamples = 2\\nvalue = [1, 1]'),\n",
              " Text(0.09118372900941596, 0.6477272727272727, 'gini = 0.0\\nsamples = 1\\nvalue = [1, 0]'),\n",
              " Text(0.09202413204176081, 0.6477272727272727, 'gini = 0.0\\nsamples = 1\\nvalue = [0, 1]'),\n",
              " Text(0.0918140312836746, 0.7159090909090909, 'x[4] <= 1.5\\ngini = 0.48\\nsamples = 5\\nvalue = [2, 3]'),\n",
              " Text(0.09139382976750217, 0.6931818181818182, 'gini = 0.0\\nsamples = 3\\nvalue = [0, 3]'),\n",
              " Text(0.09223423279984702, 0.6931818181818182, 'gini = 0.0\\nsamples = 2\\nvalue = [2, 0]'),\n",
              " Text(0.09005443743470257, 0.7613636363636364, 'gini = 0.0\\nsamples = 2\\nvalue = [0, 2]'),\n",
              " Text(0.09134130457798062, 0.7840909090909091, 'x[1] <= 490000.0\\ngini = 0.043\\nsamples = 46\\nvalue = [45, 1]'),\n",
              " Text(0.0909211030618082, 0.7613636363636364, 'gini = 0.0\\nsamples = 39\\nvalue = [39, 0]'),\n",
              " Text(0.09176150609415304, 0.7613636363636364, 'x[0] <= 5746.5\\ngini = 0.245\\nsamples = 7\\nvalue = [6, 1]'),\n",
              " Text(0.09134130457798062, 0.7386363636363636, 'gini = 0.0\\nsamples = 1\\nvalue = [0, 1]'),\n",
              " Text(0.09218170761032547, 0.7386363636363636, 'gini = 0.0\\nsamples = 6\\nvalue = [6, 0]'),\n",
              " Text(0.09470291670736002, 0.8068181818181818, 'x[5] <= 37.5\\ngini = 0.482\\nsamples = 32\\nvalue = [19, 13]'),\n",
              " Text(0.09386251367501516, 0.7840909090909091, 'x[14] <= 1830.0\\ngini = 0.475\\nsamples = 18\\nvalue = [7, 11]'),\n",
              " Text(0.09344231215884274, 0.7613636363636364, 'x[23] <= 375.0\\ngini = 0.337\\nsamples = 14\\nvalue = [3, 11]'),\n",
              " Text(0.09302211064267031, 0.7386363636363636, 'gini = 0.0\\nsamples = 2\\nvalue = [2, 0]'),\n",
              " Text(0.09386251367501516, 0.7386363636363636, 'x[23] <= 2619.0\\ngini = 0.153\\nsamples = 12\\nvalue = [1, 11]'),\n",
              " Text(0.09344231215884274, 0.7159090909090909, 'gini = 0.0\\nsamples = 9\\nvalue = [0, 9]'),\n",
              " Text(0.09428271519118758, 0.7159090909090909, 'x[2] <= 1.5\\ngini = 0.444\\nsamples = 3\\nvalue = [1, 2]'),\n",
              " Text(0.09386251367501516, 0.6931818181818182, 'gini = 0.0\\nsamples = 2\\nvalue = [0, 2]'),\n",
              " Text(0.09470291670736002, 0.6931818181818182, 'gini = 0.0\\nsamples = 1\\nvalue = [1, 0]'),\n",
              " Text(0.09428271519118758, 0.7613636363636364, 'gini = 0.0\\nsamples = 4\\nvalue = [4, 0]'),\n",
              " Text(0.09554331973970485, 0.7840909090909091, 'x[0] <= 4399.0\\ngini = 0.245\\nsamples = 14\\nvalue = [12, 2]'),\n",
              " Text(0.09512311822353244, 0.7613636363636364, 'x[18] <= 190.5\\ngini = 0.444\\nsamples = 3\\nvalue = [1, 2]'),\n",
              " Text(0.09470291670736002, 0.7386363636363636, 'gini = 0.0\\nsamples = 1\\nvalue = [1, 0]'),\n",
              " Text(0.09554331973970485, 0.7386363636363636, 'gini = 0.0\\nsamples = 2\\nvalue = [0, 2]'),\n",
              " Text(0.09596352125587729, 0.7613636363636364, 'gini = 0.0\\nsamples = 11\\nvalue = [11, 0]'),\n",
              " Text(0.10153119134516189, 0.8522727272727273, 'x[1] <= 320000.0\\ngini = 0.5\\nsamples = 92\\nvalue = [47, 45]'),\n",
              " Text(0.10111098982898947, 0.8295454545454546, 'x[1] <= 145000.0\\ngini = 0.496\\nsamples = 86\\nvalue = [47, 39]'),\n",
              " Text(0.09848473035291182, 0.8068181818181818, 'x[13] <= 324.0\\ngini = 0.487\\nsamples = 43\\nvalue = [18, 25]'),\n",
              " Text(0.09722412580439456, 0.7840909090909091, 'x[3] <= 2.5\\ngini = 0.26\\nsamples = 13\\nvalue = [2, 11]'),\n",
              " Text(0.09680392428822213, 0.7613636363636364, 'x[0] <= 2789.5\\ngini = 0.153\\nsamples = 12\\nvalue = [1, 11]'),\n",
              " Text(0.09638372277204971, 0.7386363636363636, 'x[2] <= 1.5\\ngini = 0.5\\nsamples = 2\\nvalue = [1, 1]'),\n",
              " Text(0.09596352125587729, 0.7159090909090909, 'gini = 0.0\\nsamples = 1\\nvalue = [0, 1]'),\n",
              " Text(0.09680392428822213, 0.7159090909090909, 'gini = 0.0\\nsamples = 1\\nvalue = [1, 0]'),\n",
              " Text(0.09722412580439456, 0.7386363636363636, 'gini = 0.0\\nsamples = 10\\nvalue = [0, 10]'),\n",
              " Text(0.09764432732056698, 0.7613636363636364, 'gini = 0.0\\nsamples = 1\\nvalue = [1, 0]'),\n",
              " Text(0.09974533490142909, 0.7840909090909091, 'x[19] <= 3650.0\\ngini = 0.498\\nsamples = 30\\nvalue = [16, 14]'),\n",
              " Text(0.09932513338525667, 0.7613636363636364, 'x[19] <= 1600.5\\ngini = 0.486\\nsamples = 24\\nvalue = [10, 14]'),\n",
              " Text(0.09890493186908425, 0.7386363636363636, 'x[18] <= 982.0\\ngini = 0.499\\nsamples = 19\\nvalue = [10, 9]'),\n",
              " Text(0.09764432732056698, 0.7159090909090909, 'x[2] <= 1.5\\ngini = 0.346\\nsamples = 9\\nvalue = [7, 2]'),\n",
              " Text(0.09722412580439456, 0.6931818181818182, 'gini = 0.0\\nsamples = 6\\nvalue = [6, 0]'),\n",
              " Text(0.0980645288367394, 0.6931818181818182, 'x[22] <= 3171.5\\ngini = 0.444\\nsamples = 3\\nvalue = [1, 2]'),\n",
              " Text(0.09764432732056698, 0.6704545454545454, 'gini = 0.0\\nsamples = 2\\nvalue = [0, 2]'),\n",
              " Text(0.09848473035291182, 0.6704545454545454, 'gini = 0.0\\nsamples = 1\\nvalue = [1, 0]'),\n",
              " Text(0.10016553641760152, 0.7159090909090909, 'x[19] <= 1066.5\\ngini = 0.42\\nsamples = 10\\nvalue = [3, 7]'),\n",
              " Text(0.09974533490142909, 0.6931818181818182, 'x[13] <= 49401.5\\ngini = 0.219\\nsamples = 8\\nvalue = [1, 7]'),\n",
              " Text(0.09932513338525667, 0.6704545454545454, 'gini = 0.0\\nsamples = 7\\nvalue = [0, 7]'),\n",
              " Text(0.10016553641760152, 0.6704545454545454, 'gini = 0.0\\nsamples = 1\\nvalue = [1, 0]'),\n",
              " Text(0.10058573793377394, 0.6931818181818182, 'gini = 0.0\\nsamples = 2\\nvalue = [2, 0]'),\n",
              " Text(0.09974533490142909, 0.7386363636363636, 'gini = 0.0\\nsamples = 5\\nvalue = [0, 5]'),\n",
              " Text(0.10016553641760152, 0.7613636363636364, 'gini = 0.0\\nsamples = 6\\nvalue = [6, 0]'),\n",
              " Text(0.10373724930506713, 0.8068181818181818, 'x[14] <= 5398.0\\ngini = 0.439\\nsamples = 43\\nvalue = [29, 14]'),\n",
              " Text(0.10289684627272228, 0.7840909090909091, 'x[13] <= 3592.5\\ngini = 0.495\\nsamples = 29\\nvalue = [16, 13]'),\n",
              " Text(0.10247664475654986, 0.7613636363636364, 'x[15] <= 775.0\\ngini = 0.461\\nsamples = 25\\nvalue = [16, 9]'),\n",
              " Text(0.1014261409661188, 0.7386363636363636, 'x[0] <= 14715.5\\ngini = 0.444\\nsamples = 6\\nvalue = [2, 4]'),\n",
              " Text(0.10100593944994636, 0.7159090909090909, 'gini = 0.0\\nsamples = 4\\nvalue = [0, 4]'),\n",
              " Text(0.10184634248229121, 0.7159090909090909, 'gini = 0.0\\nsamples = 2\\nvalue = [2, 0]'),\n",
              " Text(0.1035271485469809, 0.7386363636363636, 'x[7] <= -1.5\\ngini = 0.388\\nsamples = 19\\nvalue = [14, 5]'),\n",
              " Text(0.10268674551463607, 0.7159090909090909, 'x[19] <= 3560.5\\ngini = 0.48\\nsamples = 5\\nvalue = [2, 3]'),\n",
              " Text(0.10226654399846363, 0.6931818181818182, 'gini = 0.0\\nsamples = 3\\nvalue = [0, 3]'),\n",
              " Text(0.10310694703080849, 0.6931818181818182, 'gini = 0.0\\nsamples = 2\\nvalue = [2, 0]'),\n",
              " Text(0.10436755157932576, 0.7159090909090909, 'x[14] <= 4178.5\\ngini = 0.245\\nsamples = 14\\nvalue = [12, 2]'),\n",
              " Text(0.10394735006315334, 0.6931818181818182, 'x[22] <= 1830.5\\ngini = 0.142\\nsamples = 13\\nvalue = [12, 1]'),\n",
              " Text(0.1035271485469809, 0.6704545454545454, 'gini = 0.0\\nsamples = 12\\nvalue = [12, 0]'),\n",
              " Text(0.10436755157932576, 0.6704545454545454, 'gini = 0.0\\nsamples = 1\\nvalue = [0, 1]'),\n",
              " Text(0.10478775309549818, 0.6931818181818182, 'gini = 0.0\\nsamples = 1\\nvalue = [0, 1]'),\n",
              " Text(0.1033170477888947, 0.7613636363636364, 'gini = 0.0\\nsamples = 4\\nvalue = [0, 4]'),\n",
              " Text(0.10457765233741197, 0.7840909090909091, 'x[0] <= 931.0\\ngini = 0.133\\nsamples = 14\\nvalue = [13, 1]'),\n",
              " Text(0.10415745082123955, 0.7613636363636364, 'gini = 0.0\\nsamples = 1\\nvalue = [0, 1]'),\n",
              " Text(0.1049978538535844, 0.7613636363636364, 'gini = 0.0\\nsamples = 13\\nvalue = [13, 0]'),\n",
              " Text(0.10195139286133433, 0.8295454545454546, 'gini = 0.0\\nsamples = 6\\nvalue = [0, 6]'),\n",
              " Text(0.12071273399356403, 0.875, 'x[1] <= 115000.0\\ngini = 0.326\\nsamples = 555\\nvalue = [441, 114]'),\n",
              " Text(0.11158976513853928, 0.8522727272727273, 'x[19] <= 398.0\\ngini = 0.441\\nsamples = 143\\nvalue = [96, 47]'),\n",
              " Text(0.10872714230961465, 0.8295454545454546, 'x[14] <= 39.0\\ngini = 0.487\\nsamples = 100\\nvalue = [58, 42]'),\n",
              " Text(0.10667865991827409, 0.8068181818181818, 'x[0] <= 26832.0\\ngini = 0.337\\nsamples = 28\\nvalue = [22, 6]'),\n",
              " Text(0.10625845840210166, 0.7840909090909091, 'x[0] <= 1999.0\\ngini = 0.26\\nsamples = 26\\nvalue = [22, 4]'),\n",
              " Text(0.10583825688592924, 0.7613636363636364, 'gini = 0.0\\nsamples = 1\\nvalue = [0, 1]'),\n",
              " Text(0.10667865991827409, 0.7613636363636364, 'x[20] <= 41.5\\ngini = 0.211\\nsamples = 25\\nvalue = [22, 3]'),\n",
              " Text(0.10625845840210166, 0.7386363636363636, 'gini = 0.0\\nsamples = 1\\nvalue = [0, 1]'),\n",
              " Text(0.10709886143444651, 0.7386363636363636, 'x[16] <= -197.5\\ngini = 0.153\\nsamples = 24\\nvalue = [22, 2]'),\n",
              " Text(0.10625845840210166, 0.7159090909090909, 'x[10] <= -1.5\\ngini = 0.5\\nsamples = 2\\nvalue = [1, 1]'),\n",
              " Text(0.10583825688592924, 0.6931818181818182, 'gini = 0.0\\nsamples = 1\\nvalue = [1, 0]'),\n",
              " Text(0.10667865991827409, 0.6931818181818182, 'gini = 0.0\\nsamples = 1\\nvalue = [0, 1]'),\n",
              " Text(0.10793926446679136, 0.7159090909090909, 'x[5] <= 26.5\\ngini = 0.087\\nsamples = 22\\nvalue = [21, 1]'),\n",
              " Text(0.10751906295061893, 0.6931818181818182, 'x[15] <= 762.5\\ngini = 0.245\\nsamples = 7\\nvalue = [6, 1]'),\n",
              " Text(0.10709886143444651, 0.6704545454545454, 'gini = 0.0\\nsamples = 5\\nvalue = [5, 0]'),\n",
              " Text(0.10793926446679136, 0.6704545454545454, 'x[5] <= 24.0\\ngini = 0.5\\nsamples = 2\\nvalue = [1, 1]'),\n",
              " Text(0.10751906295061893, 0.6477272727272727, 'gini = 0.0\\nsamples = 1\\nvalue = [1, 0]'),\n",
              " Text(0.10835946598296378, 0.6477272727272727, 'gini = 0.0\\nsamples = 1\\nvalue = [0, 1]'),\n",
              " Text(0.10835946598296378, 0.6931818181818182, 'gini = 0.0\\nsamples = 15\\nvalue = [15, 0]'),\n",
              " Text(0.10709886143444651, 0.7840909090909091, 'gini = 0.0\\nsamples = 2\\nvalue = [0, 2]'),\n",
              " Text(0.11077562470095521, 0.8068181818181818, 'x[14] <= 329.5\\ngini = 0.5\\nsamples = 72\\nvalue = [36, 36]'),\n",
              " Text(0.10919986901530863, 0.7840909090909091, 'x[12] <= 303.5\\ngini = 0.42\\nsamples = 20\\nvalue = [6, 14]'),\n",
              " Text(0.1087796674991362, 0.7613636363636364, 'x[21] <= 140.0\\ngini = 0.496\\nsamples = 11\\nvalue = [6, 5]'),\n",
              " Text(0.10835946598296378, 0.7386363636363636, 'gini = 0.0\\nsamples = 4\\nvalue = [0, 4]'),\n",
              " Text(0.10919986901530863, 0.7386363636363636, 'x[23] <= 72.0\\ngini = 0.245\\nsamples = 7\\nvalue = [6, 1]'),\n",
              " Text(0.1087796674991362, 0.7159090909090909, 'gini = 0.0\\nsamples = 1\\nvalue = [0, 1]'),\n",
              " Text(0.10962007053148105, 0.7159090909090909, 'gini = 0.0\\nsamples = 6\\nvalue = [6, 0]'),\n",
              " Text(0.10962007053148105, 0.7613636363636364, 'gini = 0.0\\nsamples = 9\\nvalue = [0, 9]'),\n",
              " Text(0.1123513803866018, 0.7840909090909091, 'x[16] <= 990.0\\ngini = 0.488\\nsamples = 52\\nvalue = [30, 22]'),\n",
              " Text(0.11193117887042939, 0.7613636363636364, 'x[0] <= 27916.0\\ngini = 0.499\\nsamples = 46\\nvalue = [24, 22]'),\n",
              " Text(0.11151097735425697, 0.7386363636363636, 'x[0] <= 20803.5\\ngini = 0.485\\nsamples = 41\\nvalue = [24, 17]'),\n",
              " Text(0.1104604735638259, 0.7159090909090909, 'x[5] <= 24.5\\ngini = 0.499\\nsamples = 27\\nvalue = [13, 14]'),\n",
              " Text(0.10962007053148105, 0.6931818181818182, 'x[19] <= 166.5\\ngini = 0.245\\nsamples = 7\\nvalue = [6, 1]'),\n",
              " Text(0.10919986901530863, 0.6704545454545454, 'gini = 0.0\\nsamples = 1\\nvalue = [0, 1]'),\n",
              " Text(0.11004027204765347, 0.6704545454545454, 'gini = 0.0\\nsamples = 6\\nvalue = [6, 0]'),\n",
              " Text(0.11130087659617074, 0.6931818181818182, 'x[13] <= 1415.5\\ngini = 0.455\\nsamples = 20\\nvalue = [7, 13]'),\n",
              " Text(0.11088067507999833, 0.6704545454545454, 'x[1] <= 25000.0\\ngini = 0.401\\nsamples = 18\\nvalue = [5, 13]'),\n",
              " Text(0.1104604735638259, 0.6477272727272727, 'gini = 0.0\\nsamples = 1\\nvalue = [1, 0]'),\n",
              " Text(0.11130087659617074, 0.6477272727272727, 'x[4] <= 1.5\\ngini = 0.36\\nsamples = 17\\nvalue = [4, 13]'),\n",
              " Text(0.11088067507999833, 0.625, 'x[5] <= 27.5\\ngini = 0.444\\nsamples = 12\\nvalue = [4, 8]'),\n",
              " Text(0.1104604735638259, 0.6022727272727273, 'gini = 0.0\\nsamples = 1\\nvalue = [1, 0]'),\n",
              " Text(0.11130087659617074, 0.6022727272727273, 'x[0] <= 7552.5\\ngini = 0.397\\nsamples = 11\\nvalue = [3, 8]'),\n",
              " Text(0.1104604735638259, 0.5795454545454546, 'x[0] <= 5996.5\\ngini = 0.5\\nsamples = 4\\nvalue = [2, 2]'),\n",
              " Text(0.11004027204765347, 0.5568181818181818, 'gini = 0.0\\nsamples = 2\\nvalue = [0, 2]'),\n",
              " Text(0.11088067507999833, 0.5568181818181818, 'gini = 0.0\\nsamples = 2\\nvalue = [2, 0]'),\n",
              " Text(0.1121412796285156, 0.5795454545454546, 'x[0] <= 16927.5\\ngini = 0.245\\nsamples = 7\\nvalue = [1, 6]'),\n",
              " Text(0.11172107811234318, 0.5568181818181818, 'gini = 0.0\\nsamples = 5\\nvalue = [0, 5]'),\n",
              " Text(0.11256148114468802, 0.5568181818181818, 'x[8] <= -1.5\\ngini = 0.5\\nsamples = 2\\nvalue = [1, 1]'),\n",
              " Text(0.1121412796285156, 0.5340909090909091, 'gini = 0.0\\nsamples = 1\\nvalue = [0, 1]'),\n",
              " Text(0.11298168266086045, 0.5340909090909091, 'gini = 0.0\\nsamples = 1\\nvalue = [1, 0]'),\n",
              " Text(0.11172107811234318, 0.625, 'gini = 0.0\\nsamples = 5\\nvalue = [0, 5]'),\n",
              " Text(0.11172107811234318, 0.6704545454545454, 'gini = 0.0\\nsamples = 2\\nvalue = [2, 0]'),\n",
              " Text(0.11256148114468802, 0.7159090909090909, 'x[3] <= 1.5\\ngini = 0.337\\nsamples = 14\\nvalue = [11, 3]'),\n",
              " Text(0.1121412796285156, 0.6931818181818182, 'gini = 0.0\\nsamples = 1\\nvalue = [0, 1]'),\n",
              " Text(0.11298168266086045, 0.6931818181818182, 'x[23] <= 2244.0\\ngini = 0.26\\nsamples = 13\\nvalue = [11, 2]'),\n",
              " Text(0.11256148114468802, 0.6704545454545454, 'x[1] <= 75000.0\\ngini = 0.153\\nsamples = 12\\nvalue = [11, 1]'),\n",
              " Text(0.1121412796285156, 0.6477272727272727, 'gini = 0.0\\nsamples = 9\\nvalue = [9, 0]'),\n",
              " Text(0.11298168266086045, 0.6477272727272727, 'x[5] <= 45.0\\ngini = 0.444\\nsamples = 3\\nvalue = [2, 1]'),\n",
              " Text(0.11256148114468802, 0.625, 'gini = 0.0\\nsamples = 2\\nvalue = [2, 0]'),\n",
              " Text(0.11340188417703287, 0.625, 'gini = 0.0\\nsamples = 1\\nvalue = [0, 1]'),\n",
              " Text(0.11340188417703287, 0.6704545454545454, 'gini = 0.0\\nsamples = 1\\nvalue = [0, 1]'),\n",
              " Text(0.1123513803866018, 0.7386363636363636, 'gini = 0.0\\nsamples = 5\\nvalue = [0, 5]'),\n",
              " Text(0.11277158190277423, 0.7613636363636364, 'gini = 0.0\\nsamples = 6\\nvalue = [6, 0]'),\n",
              " Text(0.11445238796746393, 0.8295454545454546, 'x[0] <= 3339.5\\ngini = 0.206\\nsamples = 43\\nvalue = [38, 5]'),\n",
              " Text(0.11361198493511908, 0.8068181818181818, 'x[22] <= 1491.0\\ngini = 0.48\\nsamples = 5\\nvalue = [2, 3]'),\n",
              " Text(0.11319178341894666, 0.7840909090909091, 'gini = 0.0\\nsamples = 3\\nvalue = [0, 3]'),\n",
              " Text(0.1140321864512915, 0.7840909090909091, 'gini = 0.0\\nsamples = 2\\nvalue = [2, 0]'),\n",
              " Text(0.11529279099980877, 0.8068181818181818, 'x[13] <= -3132.0\\ngini = 0.1\\nsamples = 38\\nvalue = [36, 2]'),\n",
              " Text(0.11487258948363635, 0.7840909090909091, 'gini = 0.0\\nsamples = 1\\nvalue = [0, 1]'),\n",
              " Text(0.1157129925159812, 0.7840909090909091, 'x[12] <= 505.0\\ngini = 0.053\\nsamples = 37\\nvalue = [36, 1]'),\n",
              " Text(0.11529279099980877, 0.7613636363636364, 'gini = 0.0\\nsamples = 36\\nvalue = [36, 0]'),\n",
              " Text(0.11613319403215362, 0.7613636363636364, 'gini = 0.0\\nsamples = 1\\nvalue = [0, 1]'),\n",
              " Text(0.12983570284858875, 0.8522727272727273, 'x[5] <= 46.5\\ngini = 0.272\\nsamples = 412\\nvalue = [345, 67]'),\n",
              " Text(0.12546954646960967, 0.8295454545454546, 'x[23] <= 1198.5\\ngini = 0.245\\nsamples = 350\\nvalue = [300, 50]'),\n",
              " Text(0.12072914811528951, 0.8068181818181818, 'x[22] <= 111.0\\ngini = 0.273\\nsamples = 288\\nvalue = [241, 47]'),\n",
              " Text(0.1173937985806709, 0.7840909090909091, 'x[18] <= 1.5\\ngini = 0.12\\nsamples = 78\\nvalue = [73, 5]'),\n",
              " Text(0.11697359706449847, 0.7613636363636364, 'x[20] <= 487.0\\ngini = 0.33\\nsamples = 24\\nvalue = [19, 5]'),\n",
              " Text(0.11613319403215362, 0.7386363636363636, 'x[1] <= 145000.0\\ngini = 0.198\\nsamples = 18\\nvalue = [16, 2]'),\n",
              " Text(0.1157129925159812, 0.7159090909090909, 'x[1] <= 125000.0\\ngini = 0.444\\nsamples = 3\\nvalue = [1, 2]'),\n",
              " Text(0.11529279099980877, 0.6931818181818182, 'gini = 0.0\\nsamples = 1\\nvalue = [1, 0]'),\n",
              " Text(0.11613319403215362, 0.6931818181818182, 'gini = 0.0\\nsamples = 2\\nvalue = [0, 2]'),\n",
              " Text(0.11655339554832604, 0.7159090909090909, 'gini = 0.0\\nsamples = 15\\nvalue = [15, 0]'),\n",
              " Text(0.11781400009684331, 0.7386363636363636, 'x[1] <= 260000.0\\ngini = 0.5\\nsamples = 6\\nvalue = [3, 3]'),\n",
              " Text(0.1173937985806709, 0.7159090909090909, 'gini = 0.0\\nsamples = 3\\nvalue = [3, 0]'),\n",
              " Text(0.11823420161301575, 0.7159090909090909, 'gini = 0.0\\nsamples = 3\\nvalue = [0, 3]'),\n",
              " Text(0.11781400009684331, 0.7613636363636364, 'gini = 0.0\\nsamples = 54\\nvalue = [54, 0]'),\n",
              " Text(0.12406449764990812, 0.7840909090909091, 'x[19] <= 493.0\\ngini = 0.32\\nsamples = 210\\nvalue = [168, 42]'),\n",
              " Text(0.1210705618471796, 0.7613636363636364, 'x[9] <= -1.5\\ngini = 0.245\\nsamples = 161\\nvalue = [138, 23]'),\n",
              " Text(0.12065036033100718, 0.7386363636363636, 'gini = 0.0\\nsamples = 36\\nvalue = [36, 0]'),\n",
              " Text(0.12149076336335203, 0.7386363636363636, 'x[23] <= 332.5\\ngini = 0.3\\nsamples = 125\\nvalue = [102, 23]'),\n",
              " Text(0.11907460464536058, 0.7159090909090909, 'x[16] <= 195.5\\ngini = 0.382\\nsamples = 66\\nvalue = [49, 17]'),\n",
              " Text(0.11865440312918817, 0.6931818181818182, 'gini = 0.0\\nsamples = 16\\nvalue = [16, 0]'),\n",
              " Text(0.11949480616153302, 0.6931818181818182, 'x[20] <= 492.5\\ngini = 0.449\\nsamples = 50\\nvalue = [33, 17]'),\n",
              " Text(0.11865440312918817, 0.6704545454545454, 'x[12] <= 403.0\\ngini = 0.397\\nsamples = 44\\nvalue = [32, 12]'),\n",
              " Text(0.11823420161301575, 0.6477272727272727, 'x[10] <= 1.0\\ngini = 0.363\\nsamples = 42\\nvalue = [32, 10]'),\n",
              " Text(0.11781400009684331, 0.625, 'x[17] <= 487.5\\ngini = 0.343\\nsamples = 41\\nvalue = [32, 9]'),\n",
              " Text(0.1173937985806709, 0.6022727272727273, 'x[19] <= 241.0\\ngini = 0.412\\nsamples = 31\\nvalue = [22, 9]'),\n",
              " Text(0.11697359706449847, 0.5795454545454546, 'gini = 0.0\\nsamples = 2\\nvalue = [0, 2]'),\n",
              " Text(0.11781400009684331, 0.5795454545454546, 'x[1] <= 215000.0\\ngini = 0.366\\nsamples = 29\\nvalue = [22, 7]'),\n",
              " Text(0.11676349630641226, 0.5568181818181818, 'x[0] <= 26603.0\\ngini = 0.48\\nsamples = 15\\nvalue = [9, 6]'),\n",
              " Text(0.11634329479023983, 0.5340909090909091, 'x[0] <= 15315.5\\ngini = 0.5\\nsamples = 12\\nvalue = [6, 6]'),\n",
              " Text(0.115502891757895, 0.5113636363636364, 'x[16] <= 458.5\\ngini = 0.408\\nsamples = 7\\nvalue = [5, 2]'),\n",
              " Text(0.11508269024172256, 0.48863636363636365, 'x[3] <= 1.5\\ngini = 0.278\\nsamples = 6\\nvalue = [5, 1]'),\n",
              " Text(0.11466248872555014, 0.4659090909090909, 'gini = 0.0\\nsamples = 4\\nvalue = [4, 0]'),\n",
              " Text(0.115502891757895, 0.4659090909090909, 'x[15] <= 321.0\\ngini = 0.5\\nsamples = 2\\nvalue = [1, 1]'),\n",
              " Text(0.11508269024172256, 0.4431818181818182, 'gini = 0.0\\nsamples = 1\\nvalue = [1, 0]'),\n",
              " Text(0.11592309327406741, 0.4431818181818182, 'gini = 0.0\\nsamples = 1\\nvalue = [0, 1]'),\n",
              " Text(0.11592309327406741, 0.48863636363636365, 'gini = 0.0\\nsamples = 1\\nvalue = [0, 1]'),\n",
              " Text(0.11718369782258468, 0.5113636363636364, 'x[16] <= 325.5\\ngini = 0.32\\nsamples = 5\\nvalue = [1, 4]'),\n",
              " Text(0.11676349630641226, 0.48863636363636365, 'gini = 0.0\\nsamples = 3\\nvalue = [0, 3]'),\n",
              " Text(0.1176038993387571, 0.48863636363636365, 'x[0] <= 21730.5\\ngini = 0.5\\nsamples = 2\\nvalue = [1, 1]'),\n",
              " Text(0.11718369782258468, 0.4659090909090909, 'gini = 0.0\\nsamples = 1\\nvalue = [1, 0]'),\n",
              " Text(0.11802410085492954, 0.4659090909090909, 'gini = 0.0\\nsamples = 1\\nvalue = [0, 1]'),\n",
              " Text(0.11718369782258468, 0.5340909090909091, 'gini = 0.0\\nsamples = 3\\nvalue = [3, 0]'),\n",
              " Text(0.11886450388727438, 0.5568181818181818, 'x[0] <= 1271.0\\ngini = 0.133\\nsamples = 14\\nvalue = [13, 1]'),\n",
              " Text(0.11844430237110196, 0.5340909090909091, 'x[3] <= 1.5\\ngini = 0.5\\nsamples = 2\\nvalue = [1, 1]'),\n",
              " Text(0.11802410085492954, 0.5113636363636364, 'gini = 0.0\\nsamples = 1\\nvalue = [1, 0]'),\n",
              " Text(0.11886450388727438, 0.5113636363636364, 'gini = 0.0\\nsamples = 1\\nvalue = [0, 1]'),\n",
              " Text(0.1192847054034468, 0.5340909090909091, 'gini = 0.0\\nsamples = 12\\nvalue = [12, 0]'),\n",
              " Text(0.11823420161301575, 0.6022727272727273, 'gini = 0.0\\nsamples = 10\\nvalue = [10, 0]'),\n",
              " Text(0.11865440312918817, 0.625, 'gini = 0.0\\nsamples = 1\\nvalue = [0, 1]'),\n",
              " Text(0.11907460464536058, 0.6477272727272727, 'gini = 0.0\\nsamples = 2\\nvalue = [0, 2]'),\n",
              " Text(0.12033520919387786, 0.6704545454545454, 'x[20] <= 741.0\\ngini = 0.278\\nsamples = 6\\nvalue = [1, 5]'),\n",
              " Text(0.11991500767770544, 0.6477272727272727, 'gini = 0.0\\nsamples = 5\\nvalue = [0, 5]'),\n",
              " Text(0.12075541071005029, 0.6477272727272727, 'gini = 0.0\\nsamples = 1\\nvalue = [1, 0]'),\n",
              " Text(0.12390692208134346, 0.7159090909090909, 'x[23] <= 1183.5\\ngini = 0.183\\nsamples = 59\\nvalue = [53, 6]'),\n",
              " Text(0.12348672056517104, 0.6931818181818182, 'x[7] <= -0.5\\ngini = 0.158\\nsamples = 58\\nvalue = [53, 5]'),\n",
              " Text(0.12243621677473998, 0.6704545454545454, 'x[0] <= 25341.0\\ngini = 0.133\\nsamples = 56\\nvalue = [52, 4]'),\n",
              " Text(0.12159581374239513, 0.6477272727272727, 'x[12] <= 458.0\\ngini = 0.046\\nsamples = 42\\nvalue = [41, 1]'),\n",
              " Text(0.12117561222622271, 0.625, 'gini = 0.0\\nsamples = 41\\nvalue = [41, 0]'),\n",
              " Text(0.12201601525856756, 0.625, 'gini = 0.0\\nsamples = 1\\nvalue = [0, 1]'),\n",
              " Text(0.12327661980708483, 0.6477272727272727, 'x[0] <= 26119.0\\ngini = 0.337\\nsamples = 14\\nvalue = [11, 3]'),\n",
              " Text(0.1228564182909124, 0.625, 'gini = 0.0\\nsamples = 2\\nvalue = [0, 2]'),\n",
              " Text(0.12369682132325725, 0.625, 'x[0] <= 29430.5\\ngini = 0.153\\nsamples = 12\\nvalue = [11, 1]'),\n",
              " Text(0.12327661980708483, 0.6022727272727273, 'gini = 0.0\\nsamples = 10\\nvalue = [10, 0]'),\n",
              " Text(0.12411702283942967, 0.6022727272727273, 'x[1] <= 205000.0\\ngini = 0.5\\nsamples = 2\\nvalue = [1, 1]'),\n",
              " Text(0.12369682132325725, 0.5795454545454546, 'gini = 0.0\\nsamples = 1\\nvalue = [1, 0]'),\n",
              " Text(0.1245372243556021, 0.5795454545454546, 'gini = 0.0\\nsamples = 1\\nvalue = [0, 1]'),\n",
              " Text(0.1245372243556021, 0.6704545454545454, 'x[11] <= -0.5\\ngini = 0.5\\nsamples = 2\\nvalue = [1, 1]'),\n",
              " Text(0.12411702283942967, 0.6477272727272727, 'gini = 0.0\\nsamples = 1\\nvalue = [0, 1]'),\n",
              " Text(0.12495742587177452, 0.6477272727272727, 'gini = 0.0\\nsamples = 1\\nvalue = [1, 0]'),\n",
              " Text(0.12432712359751588, 0.6931818181818182, 'gini = 0.0\\nsamples = 1\\nvalue = [0, 1]'),\n",
              " Text(0.12705843345263665, 0.7613636363636364, 'x[9] <= -1.5\\ngini = 0.475\\nsamples = 49\\nvalue = [30, 19]'),\n",
              " Text(0.1260079296622056, 0.7386363636363636, 'x[12] <= 443.0\\ngini = 0.375\\nsamples = 12\\nvalue = [3, 9]'),\n",
              " Text(0.12558772814603317, 0.7159090909090909, 'x[13] <= -144.0\\ngini = 0.18\\nsamples = 10\\nvalue = [1, 9]'),\n",
              " Text(0.12516752662986075, 0.6931818181818182, 'gini = 0.0\\nsamples = 1\\nvalue = [1, 0]'),\n",
              " Text(0.1260079296622056, 0.6931818181818182, 'gini = 0.0\\nsamples = 9\\nvalue = [0, 9]'),\n",
              " Text(0.126428131178378, 0.7159090909090909, 'gini = 0.0\\nsamples = 2\\nvalue = [2, 0]'),\n",
              " Text(0.1281089372430677, 0.7386363636363636, 'x[17] <= 499.0\\ngini = 0.394\\nsamples = 37\\nvalue = [27, 10]'),\n",
              " Text(0.12726853421072284, 0.7159090909090909, 'x[19] <= 1782.5\\ngini = 0.497\\nsamples = 13\\nvalue = [6, 7]'),\n",
              " Text(0.12684833269455043, 0.6931818181818182, 'gini = 0.0\\nsamples = 6\\nvalue = [0, 6]'),\n",
              " Text(0.12768873572689526, 0.6931818181818182, 'x[0] <= 17756.5\\ngini = 0.245\\nsamples = 7\\nvalue = [6, 1]'),\n",
              " Text(0.12726853421072284, 0.6704545454545454, 'gini = 0.0\\nsamples = 6\\nvalue = [6, 0]'),\n",
              " Text(0.1281089372430677, 0.6704545454545454, 'gini = 0.0\\nsamples = 1\\nvalue = [0, 1]'),\n",
              " Text(0.12894934027541255, 0.7159090909090909, 'x[21] <= 1299.0\\ngini = 0.219\\nsamples = 24\\nvalue = [21, 3]'),\n",
              " Text(0.12852913875924013, 0.6931818181818182, 'gini = 0.0\\nsamples = 17\\nvalue = [17, 0]'),\n",
              " Text(0.12936954179158497, 0.6931818181818182, 'x[23] <= 439.5\\ngini = 0.49\\nsamples = 7\\nvalue = [4, 3]'),\n",
              " Text(0.12894934027541255, 0.6704545454545454, 'x[16] <= 4726.0\\ngini = 0.375\\nsamples = 4\\nvalue = [1, 3]'),\n",
              " Text(0.12852913875924013, 0.6477272727272727, 'gini = 0.0\\nsamples = 3\\nvalue = [0, 3]'),\n",
              " Text(0.12936954179158497, 0.6477272727272727, 'gini = 0.0\\nsamples = 1\\nvalue = [1, 0]'),\n",
              " Text(0.1297897433077574, 0.6704545454545454, 'gini = 0.0\\nsamples = 3\\nvalue = [3, 0]'),\n",
              " Text(0.1302099448239298, 0.8068181818181818, 'x[0] <= 5794.0\\ngini = 0.092\\nsamples = 62\\nvalue = [59, 3]'),\n",
              " Text(0.1297897433077574, 0.7840909090909091, 'x[16] <= 335.5\\ngini = 0.337\\nsamples = 14\\nvalue = [11, 3]'),\n",
              " Text(0.12936954179158497, 0.7613636363636364, 'x[5] <= 36.5\\ngini = 0.48\\nsamples = 5\\nvalue = [2, 3]'),\n",
              " Text(0.12894934027541255, 0.7386363636363636, 'gini = 0.0\\nsamples = 3\\nvalue = [0, 3]'),\n",
              " Text(0.1297897433077574, 0.7386363636363636, 'gini = 0.0\\nsamples = 2\\nvalue = [2, 0]'),\n",
              " Text(0.1302099448239298, 0.7613636363636364, 'gini = 0.0\\nsamples = 9\\nvalue = [9, 0]'),\n",
              " Text(0.13063014634010225, 0.7840909090909091, 'gini = 0.0\\nsamples = 48\\nvalue = [48, 0]'),\n",
              " Text(0.13420185922756783, 0.8295454545454546, 'x[15] <= 783.0\\ngini = 0.398\\nsamples = 62\\nvalue = [45, 17]'),\n",
              " Text(0.1337816577113954, 0.8068181818181818, 'x[0] <= 17704.5\\ngini = 0.375\\nsamples = 60\\nvalue = [45, 15]'),\n",
              " Text(0.13294125467905057, 0.7840909090909091, 'x[0] <= 16365.5\\ngini = 0.455\\nsamples = 40\\nvalue = [26, 14]'),\n",
              " Text(0.13252105316287816, 0.7613636363636364, 'x[21] <= 113.5\\ngini = 0.432\\nsamples = 38\\nvalue = [26, 12]'),\n",
              " Text(0.13210085164670574, 0.7386363636363636, 'gini = 0.0\\nsamples = 8\\nvalue = [8, 0]'),\n",
              " Text(0.13294125467905057, 0.7386363636363636, 'x[23] <= 1084.0\\ngini = 0.48\\nsamples = 30\\nvalue = [18, 12]'),\n",
              " Text(0.13252105316287816, 0.7159090909090909, 'x[0] <= 9063.5\\ngini = 0.499\\nsamples = 25\\nvalue = [13, 12]'),\n",
              " Text(0.1314705493724471, 0.6931818181818182, 'x[0] <= 5791.0\\ngini = 0.457\\nsamples = 17\\nvalue = [11, 6]'),\n",
              " Text(0.13063014634010225, 0.6704545454545454, 'x[16] <= 353.0\\ngini = 0.494\\nsamples = 9\\nvalue = [4, 5]'),\n",
              " Text(0.1302099448239298, 0.6477272727272727, 'x[11] <= -1.5\\ngini = 0.32\\nsamples = 5\\nvalue = [4, 1]'),\n",
              " Text(0.1297897433077574, 0.625, 'gini = 0.0\\nsamples = 1\\nvalue = [0, 1]'),\n",
              " Text(0.13063014634010225, 0.625, 'gini = 0.0\\nsamples = 4\\nvalue = [4, 0]'),\n",
              " Text(0.13105034785627467, 0.6477272727272727, 'gini = 0.0\\nsamples = 4\\nvalue = [0, 4]'),\n",
              " Text(0.13231095240479193, 0.6704545454545454, 'x[22] <= 472.5\\ngini = 0.219\\nsamples = 8\\nvalue = [7, 1]'),\n",
              " Text(0.1318907508886195, 0.6477272727272727, 'gini = 0.0\\nsamples = 7\\nvalue = [7, 0]'),\n",
              " Text(0.13273115392096435, 0.6477272727272727, 'gini = 0.0\\nsamples = 1\\nvalue = [0, 1]'),\n",
              " Text(0.13357155695330922, 0.6931818181818182, 'x[1] <= 225000.0\\ngini = 0.375\\nsamples = 8\\nvalue = [2, 6]'),\n",
              " Text(0.1331513554371368, 0.6704545454545454, 'gini = 0.0\\nsamples = 5\\nvalue = [0, 5]'),\n",
              " Text(0.13399175846948164, 0.6704545454545454, 'x[19] <= 575.0\\ngini = 0.444\\nsamples = 3\\nvalue = [2, 1]'),\n",
              " Text(0.13357155695330922, 0.6477272727272727, 'gini = 0.0\\nsamples = 2\\nvalue = [2, 0]'),\n",
              " Text(0.13441195998565406, 0.6477272727272727, 'gini = 0.0\\nsamples = 1\\nvalue = [0, 1]'),\n",
              " Text(0.133361456195223, 0.7159090909090909, 'gini = 0.0\\nsamples = 5\\nvalue = [5, 0]'),\n",
              " Text(0.133361456195223, 0.7613636363636364, 'gini = 0.0\\nsamples = 2\\nvalue = [0, 2]'),\n",
              " Text(0.13462206074374028, 0.7840909090909091, 'x[14] <= -1.5\\ngini = 0.095\\nsamples = 20\\nvalue = [19, 1]'),\n",
              " Text(0.13420185922756783, 0.7613636363636364, 'gini = 0.0\\nsamples = 1\\nvalue = [0, 1]'),\n",
              " Text(0.1350422622599127, 0.7613636363636364, 'gini = 0.0\\nsamples = 19\\nvalue = [19, 0]'),\n",
              " Text(0.13462206074374028, 0.8068181818181818, 'gini = 0.0\\nsamples = 2\\nvalue = [0, 2]'),\n",
              " Text(0.2648828797273696, 0.8977272727272727, 'x[9] <= 1.0\\ngini = 0.283\\nsamples = 3166\\nvalue = [2626, 540]'),\n",
              " Text(0.23776838243139103, 0.875, 'x[19] <= 4189.0\\ngini = 0.257\\nsamples = 2645\\nvalue = [2245, 400]'),\n",
              " Text(0.21550753131198896, 0.8522727272727273, 'x[8] <= 1.5\\ngini = 0.272\\nsamples = 2253\\nvalue = [1887, 366]'),\n",
              " Text(0.19115878467380626, 0.8295454545454546, 'x[12] <= 6681.0\\ngini = 0.265\\nsamples = 2164\\nvalue = [1824, 340]'),\n",
              " Text(0.16356533805294046, 0.8068181818181818, 'x[7] <= -1.5\\ngini = 0.301\\nsamples = 941\\nvalue = [767, 174]'),\n",
              " Text(0.14181801170819303, 0.7840909090909091, 'x[12] <= 6489.5\\ngini = 0.19\\nsamples = 244\\nvalue = [218, 26]'),\n",
              " Text(0.1413978101920206, 0.7613636363636364, 'x[20] <= 835.5\\ngini = 0.179\\nsamples = 242\\nvalue = [218, 24]'),\n",
              " Text(0.14055740715967577, 0.7386363636363636, 'x[10] <= 1.0\\ngini = 0.167\\nsamples = 239\\nvalue = [217, 22]'),\n",
              " Text(0.14013720564350332, 0.7159090909090909, 'x[3] <= 5.5\\ngini = 0.161\\nsamples = 238\\nvalue = [217, 21]'),\n",
              " Text(0.1397170041273309, 0.6931818181818182, 'x[5] <= 47.5\\ngini = 0.155\\nsamples = 237\\nvalue = [217, 20]'),\n",
              " Text(0.13724832021981792, 0.6704545454545454, 'x[1] <= 165000.0\\ngini = 0.125\\nsamples = 209\\nvalue = [195, 14]'),\n",
              " Text(0.1352523630179989, 0.6477272727272727, 'x[20] <= 555.5\\ngini = 0.216\\nsamples = 65\\nvalue = [57, 8]'),\n",
              " Text(0.1337816577113954, 0.625, 'x[23] <= 4337.5\\ngini = 0.135\\nsamples = 55\\nvalue = [51, 4]'),\n",
              " Text(0.13294125467905057, 0.6022727272727273, 'x[12] <= 3737.5\\ngini = 0.078\\nsamples = 49\\nvalue = [47, 2]'),\n",
              " Text(0.13252105316287816, 0.5795454545454546, 'gini = 0.0\\nsamples = 37\\nvalue = [37, 0]'),\n",
              " Text(0.133361456195223, 0.5795454545454546, 'x[12] <= 3850.5\\ngini = 0.278\\nsamples = 12\\nvalue = [10, 2]'),\n",
              " Text(0.13294125467905057, 0.5568181818181818, 'gini = 0.0\\nsamples = 1\\nvalue = [0, 1]'),\n",
              " Text(0.1337816577113954, 0.5568181818181818, 'x[5] <= 28.0\\ngini = 0.165\\nsamples = 11\\nvalue = [10, 1]'),\n",
              " Text(0.133361456195223, 0.5340909090909091, 'x[0] <= 14214.0\\ngini = 0.5\\nsamples = 2\\nvalue = [1, 1]'),\n",
              " Text(0.13294125467905057, 0.5113636363636364, 'gini = 0.0\\nsamples = 1\\nvalue = [1, 0]'),\n",
              " Text(0.1337816577113954, 0.5113636363636364, 'gini = 0.0\\nsamples = 1\\nvalue = [0, 1]'),\n",
              " Text(0.13420185922756783, 0.5340909090909091, 'gini = 0.0\\nsamples = 9\\nvalue = [9, 0]'),\n",
              " Text(0.13462206074374028, 0.6022727272727273, 'x[16] <= 529.0\\ngini = 0.444\\nsamples = 6\\nvalue = [4, 2]'),\n",
              " Text(0.13420185922756783, 0.5795454545454546, 'gini = 0.0\\nsamples = 2\\nvalue = [0, 2]'),\n",
              " Text(0.1350422622599127, 0.5795454545454546, 'gini = 0.0\\nsamples = 4\\nvalue = [4, 0]'),\n",
              " Text(0.13672306832460238, 0.625, 'x[23] <= 792.5\\ngini = 0.48\\nsamples = 10\\nvalue = [6, 4]'),\n",
              " Text(0.13630286680842996, 0.6022727272727273, 'x[13] <= 2212.5\\ngini = 0.375\\nsamples = 8\\nvalue = [6, 2]'),\n",
              " Text(0.13588266529225754, 0.5795454545454546, 'gini = 0.0\\nsamples = 6\\nvalue = [6, 0]'),\n",
              " Text(0.13672306832460238, 0.5795454545454546, 'gini = 0.0\\nsamples = 2\\nvalue = [0, 2]'),\n",
              " Text(0.13714326984077482, 0.6022727272727273, 'gini = 0.0\\nsamples = 2\\nvalue = [0, 2]'),\n",
              " Text(0.13924427742163692, 0.6477272727272727, 'x[8] <= -1.5\\ngini = 0.08\\nsamples = 144\\nvalue = [138, 6]'),\n",
              " Text(0.13840387438929208, 0.625, 'x[18] <= 2.0\\ngini = 0.068\\nsamples = 141\\nvalue = [136, 5]'),\n",
              " Text(0.13798367287311966, 0.6022727272727273, 'x[0] <= 14960.0\\ngini = 0.168\\nsamples = 54\\nvalue = [49, 5]'),\n",
              " Text(0.13756347135694724, 0.5795454545454546, 'gini = 0.0\\nsamples = 25\\nvalue = [25, 0]'),\n",
              " Text(0.13840387438929208, 0.5795454545454546, 'x[0] <= 16368.5\\ngini = 0.285\\nsamples = 29\\nvalue = [24, 5]'),\n",
              " Text(0.13798367287311966, 0.5568181818181818, 'gini = 0.0\\nsamples = 2\\nvalue = [0, 2]'),\n",
              " Text(0.1388240759054645, 0.5568181818181818, 'x[12] <= 4118.0\\ngini = 0.198\\nsamples = 27\\nvalue = [24, 3]'),\n",
              " Text(0.13840387438929208, 0.5340909090909091, 'x[1] <= 305000.0\\ngini = 0.142\\nsamples = 26\\nvalue = [24, 2]'),\n",
              " Text(0.13798367287311966, 0.5113636363636364, 'gini = 0.0\\nsamples = 16\\nvalue = [16, 0]'),\n",
              " Text(0.1388240759054645, 0.5113636363636364, 'x[0] <= 22476.5\\ngini = 0.32\\nsamples = 10\\nvalue = [8, 2]'),\n",
              " Text(0.13840387438929208, 0.48863636363636365, 'gini = 0.0\\nsamples = 6\\nvalue = [6, 0]'),\n",
              " Text(0.13924427742163692, 0.48863636363636365, 'x[5] <= 31.5\\ngini = 0.5\\nsamples = 4\\nvalue = [2, 2]'),\n",
              " Text(0.1388240759054645, 0.4659090909090909, 'gini = 0.0\\nsamples = 2\\nvalue = [2, 0]'),\n",
              " Text(0.13966447893780937, 0.4659090909090909, 'gini = 0.0\\nsamples = 2\\nvalue = [0, 2]'),\n",
              " Text(0.13924427742163692, 0.5340909090909091, 'gini = 0.0\\nsamples = 1\\nvalue = [0, 1]'),\n",
              " Text(0.1388240759054645, 0.6022727272727273, 'gini = 0.0\\nsamples = 87\\nvalue = [87, 0]'),\n",
              " Text(0.14008468045398179, 0.625, 'x[19] <= 1644.0\\ngini = 0.444\\nsamples = 3\\nvalue = [2, 1]'),\n",
              " Text(0.13966447893780937, 0.6022727272727273, 'gini = 0.0\\nsamples = 2\\nvalue = [2, 0]'),\n",
              " Text(0.1405048819701542, 0.6022727272727273, 'gini = 0.0\\nsamples = 1\\nvalue = [0, 1]'),\n",
              " Text(0.1421856880348439, 0.6704545454545454, 'x[1] <= 245000.0\\ngini = 0.337\\nsamples = 28\\nvalue = [22, 6]'),\n",
              " Text(0.14176548651867146, 0.6477272727272727, 'gini = 0.0\\nsamples = 12\\nvalue = [12, 0]'),\n",
              " Text(0.14260588955101633, 0.6477272727272727, 'x[5] <= 50.0\\ngini = 0.469\\nsamples = 16\\nvalue = [10, 6]'),\n",
              " Text(0.14176548651867146, 0.625, 'x[10] <= -1.5\\ngini = 0.278\\nsamples = 6\\nvalue = [1, 5]'),\n",
              " Text(0.14134528500249904, 0.6022727272727273, 'gini = 0.0\\nsamples = 5\\nvalue = [0, 5]'),\n",
              " Text(0.1421856880348439, 0.6022727272727273, 'gini = 0.0\\nsamples = 1\\nvalue = [1, 0]'),\n",
              " Text(0.14344629258336117, 0.625, 'x[0] <= 29117.0\\ngini = 0.18\\nsamples = 10\\nvalue = [9, 1]'),\n",
              " Text(0.14302609106718875, 0.6022727272727273, 'gini = 0.0\\nsamples = 9\\nvalue = [9, 0]'),\n",
              " Text(0.1438664940995336, 0.6022727272727273, 'gini = 0.0\\nsamples = 1\\nvalue = [0, 1]'),\n",
              " Text(0.14055740715967577, 0.6931818181818182, 'gini = 0.0\\nsamples = 1\\nvalue = [0, 1]'),\n",
              " Text(0.1409776086758482, 0.7159090909090909, 'gini = 0.0\\nsamples = 1\\nvalue = [0, 1]'),\n",
              " Text(0.14223821322436545, 0.7386363636363636, 'x[13] <= 1034.0\\ngini = 0.444\\nsamples = 3\\nvalue = [1, 2]'),\n",
              " Text(0.14181801170819303, 0.7159090909090909, 'gini = 0.0\\nsamples = 2\\nvalue = [0, 2]'),\n",
              " Text(0.14265841474053786, 0.7159090909090909, 'gini = 0.0\\nsamples = 1\\nvalue = [1, 0]'),\n",
              " Text(0.14223821322436545, 0.7613636363636364, 'gini = 0.0\\nsamples = 2\\nvalue = [0, 2]'),\n",
              " Text(0.1853126643976879, 0.7840909090909091, 'x[22] <= 5293.5\\ngini = 0.335\\nsamples = 697\\nvalue = [549, 148]'),\n",
              " Text(0.18295282663486703, 0.7613636363636364, 'x[13] <= 17171.5\\ngini = 0.348\\nsamples = 656\\nvalue = [509, 147]'),\n",
              " Text(0.18033415869008743, 0.7386363636363636, 'x[19] <= 4047.0\\ngini = 0.339\\nsamples = 637\\nvalue = [499, 138]'),\n",
              " Text(0.17803823341373518, 0.7159090909090909, 'x[12] <= 6006.5\\ngini = 0.335\\nsamples = 631\\nvalue = [497, 134]'),\n",
              " Text(0.17470698740954793, 0.6931818181818182, 'x[12] <= 4736.5\\ngini = 0.324\\nsamples = 601\\nvalue = [479, 122]'),\n",
              " Text(0.1709859060143804, 0.6704545454545454, 'x[12] <= 4697.0\\ngini = 0.341\\nsamples = 537\\nvalue = [420, 117]'),\n",
              " Text(0.170565704498208, 0.6477272727272727, 'x[22] <= 5027.0\\ngini = 0.337\\nsamples = 535\\nvalue = [420, 115]'),\n",
              " Text(0.17014550298203557, 0.625, 'x[0] <= 27999.0\\ngini = 0.334\\nsamples = 533\\nvalue = [420, 113]'),\n",
              " Text(0.16606495232107993, 0.6022727272727273, 'x[0] <= 26229.5\\ngini = 0.345\\nsamples = 500\\nvalue = [389, 111]'),\n",
              " Text(0.16000485858003075, 0.5795454545454546, 'x[0] <= 14943.0\\ngini = 0.331\\nsamples = 477\\nvalue = [377, 100]'),\n",
              " Text(0.1516664847434842, 0.5568181818181818, 'x[12] <= 1875.5\\ngini = 0.362\\nsamples = 345\\nvalue = [263, 82]'),\n",
              " Text(0.14570487573278795, 0.5340909090909091, 'x[22] <= 317.0\\ngini = 0.292\\nsamples = 197\\nvalue = [162, 35]'),\n",
              " Text(0.1421856880348439, 0.5113636363636364, 'x[5] <= 45.5\\ngini = 0.174\\nsamples = 83\\nvalue = [75, 8]'),\n",
              " Text(0.14092508348632662, 0.48863636363636365, 'x[19] <= 3567.0\\ngini = 0.083\\nsamples = 69\\nvalue = [66, 3]'),\n",
              " Text(0.1405048819701542, 0.4659090909090909, 'x[18] <= 2045.5\\ngini = 0.057\\nsamples = 68\\nvalue = [66, 2]'),\n",
              " Text(0.14008468045398179, 0.4431818181818182, 'gini = 0.0\\nsamples = 57\\nvalue = [57, 0]'),\n",
              " Text(0.14092508348632662, 0.4431818181818182, 'x[21] <= 461.5\\ngini = 0.298\\nsamples = 11\\nvalue = [9, 2]'),\n",
              " Text(0.1405048819701542, 0.42045454545454547, 'gini = 0.0\\nsamples = 9\\nvalue = [9, 0]'),\n",
              " Text(0.14134528500249904, 0.42045454545454547, 'gini = 0.0\\nsamples = 2\\nvalue = [0, 2]'),\n",
              " Text(0.14134528500249904, 0.4659090909090909, 'gini = 0.0\\nsamples = 1\\nvalue = [0, 1]'),\n",
              " Text(0.14344629258336117, 0.48863636363636365, 'x[14] <= 1075.0\\ngini = 0.459\\nsamples = 14\\nvalue = [9, 5]'),\n",
              " Text(0.14302609106718875, 0.4659090909090909, 'x[5] <= 58.5\\ngini = 0.298\\nsamples = 11\\nvalue = [9, 2]'),\n",
              " Text(0.14260588955101633, 0.4431818181818182, 'x[1] <= 60000.0\\ngini = 0.18\\nsamples = 10\\nvalue = [9, 1]'),\n",
              " Text(0.1421856880348439, 0.42045454545454547, 'gini = 0.0\\nsamples = 1\\nvalue = [0, 1]'),\n",
              " Text(0.14302609106718875, 0.42045454545454547, 'gini = 0.0\\nsamples = 9\\nvalue = [9, 0]'),\n",
              " Text(0.14344629258336117, 0.4431818181818182, 'gini = 0.0\\nsamples = 1\\nvalue = [0, 1]'),\n",
              " Text(0.1438664940995336, 0.4659090909090909, 'gini = 0.0\\nsamples = 3\\nvalue = [0, 3]'),\n",
              " Text(0.149224063430732, 0.5113636363636364, 'x[0] <= 14856.0\\ngini = 0.361\\nsamples = 114\\nvalue = [87, 27]'),\n",
              " Text(0.14880386191455958, 0.48863636363636365, 'x[17] <= 1400.0\\ngini = 0.347\\nsamples = 112\\nvalue = [87, 25]'),\n",
              " ...]"
            ]
          },
          "metadata": {},
          "execution_count": 60
        },
        {
          "output_type": "display_data",
          "data": {
            "text/plain": [
              "<Figure size 640x480 with 1 Axes>"
            ],
            "image/png": "[encoded data removed]"
          },
          "metadata": {}
        }
      ]
    },
    {
      "cell_type": "code",
      "execution_count": null,
      "metadata": {
        "colab": {
          "base_uri": "https://localhost:8080/"
        },
        "id": "6R07XvawgUhK",
        "outputId": "2fde42c1-668b-4032-c92b-55ed10179886"
      },
      "outputs": [
        {
          "output_type": "execute_result",
          "data": {
            "text/plain": [
              "0.7777777777777778"
            ]
          },
          "metadata": {},
          "execution_count": 20
        }
      ],
      "source": [
        "r.score(X_test,y_test)"
      ]
    },
    {
      "cell_type": "code",
      "source": [
        "import seaborn as sns\n",
        "%matplotlib inline\n",
        "\n",
        "class_names=[0,1] # name  of classes\n",
        "fig, ax = plt.subplots()\n",
        "tick_marks = np.arange(len(class_names))\n",
        "plt.xticks(tick_marks, class_names)\n",
        "plt.yticks(tick_marks, class_names)\n",
        "# create heatmap\n",
        "sns.heatmap(pd.DataFrame(cnf_matrix), annot=True, cmap=\"YlGnBu\" ,fmt='g')\n",
        "ax.xaxis.set_label_position(\"top\")\n",
        "plt.tight_layout()\n",
        "plt.title('Confusion matrix', y=1.1)\n",
        "plt.ylabel('Actual label')\n",
        "plt.xlabel('Predicted label')"
      ],
      "metadata": {
        "colab": {
          "base_uri": "https://localhost:8080/",
          "height": 568
        },
        "id": "qvxUz35Avy9r",
        "outputId": "2b7a5a22-36a2-4f45-c78d-dac9b03e14f9"
      },
      "execution_count": null,
      "outputs": [
        {
          "output_type": "execute_result",
          "data": {
            "text/plain": [
              "Text(0.5, 427.9555555555555, 'Predicted label')"
            ]
          },
          "metadata": {},
          "execution_count": 58
        },
        {
          "output_type": "display_data",
          "data": {
            "text/plain": [
              "<Figure size 640x480 with 2 Axes>"
            ],
            "image/png": "[encoded data removed]"
          },
          "metadata": {}
        }
      ]
    },
    {
      "cell_type": "code",
      "execution_count": null,
      "metadata": {
        "colab": {
          "base_uri": "https://localhost:8080/"
        },
        "id": "HpDCtpeXgUhL",
        "outputId": "52b1d58e-a05e-40bc-d628-3e1be0275f68"
      },
      "outputs": [
        {
          "output_type": "execute_result",
          "data": {
            "text/plain": [
              "0.7777777777777778"
            ]
          },
          "metadata": {},
          "execution_count": 21
        }
      ],
      "source": [
        "from sklearn.metrics import accuracy_score,confusion_matrix\n",
        "from sklearn.metrics import classification_report\n",
        "accuracy_score(y_test,pred2)"
      ]
    },
    {
      "cell_type": "code",
      "execution_count": null,
      "metadata": {
        "colab": {
          "base_uri": "https://localhost:8080/"
        },
        "id": "MLW4IpWngUhL",
        "outputId": "8ae9b0a5-4f02-4df3-d70c-24383f3fe044"
      },
      "outputs": [
        {
          "output_type": "execute_result",
          "data": {
            "text/plain": [
              "array([[7000,    0],\n",
              "       [2000,    0]])"
            ]
          },
          "metadata": {},
          "execution_count": 22
        }
      ],
      "source": [
        "confusion_matrix(y_test,pred2)"
      ]
    },
    {
      "cell_type": "code",
      "execution_count": null,
      "metadata": {
        "colab": {
          "base_uri": "https://localhost:8080/",
          "height": 194
        },
        "id": "dyaO2gelgUhL",
        "outputId": "884a0edc-db5f-4702-ca5d-5f15dd1d75ae"
      },
      "outputs": [
        {
          "output_type": "stream",
          "name": "stderr",
          "text": [
            "/usr/local/lib/python3.10/dist-packages/sklearn/metrics/_classification.py:1344: UndefinedMetricWarning: Precision and F-score are ill-defined and being set to 0.0 in labels with no predicted samples. Use `zero_division` parameter to control this behavior.\n",
            "  _warn_prf(average, modifier, msg_start, len(result))\n",
            "/usr/local/lib/python3.10/dist-packages/sklearn/metrics/_classification.py:1344: UndefinedMetricWarning: Precision and F-score are ill-defined and being set to 0.0 in labels with no predicted samples. Use `zero_division` parameter to control this behavior.\n",
            "  _warn_prf(average, modifier, msg_start, len(result))\n",
            "/usr/local/lib/python3.10/dist-packages/sklearn/metrics/_classification.py:1344: UndefinedMetricWarning: Precision and F-score are ill-defined and being set to 0.0 in labels with no predicted samples. Use `zero_division` parameter to control this behavior.\n",
            "  _warn_prf(average, modifier, msg_start, len(result))\n"
          ]
        },
        {
          "output_type": "execute_result",
          "data": {
            "text/plain": [
              "'              precision    recall  f1-score   support\\n\\n           0       0.78      1.00      0.88      7000\\n           1       0.00      0.00      0.00      2000\\n\\n    accuracy                           0.78      9000\\n   macro avg       0.39      0.50      0.44      9000\\nweighted avg       0.60      0.78      0.68      9000\\n'"
            ],
            "application/vnd.google.colaboratory.intrinsic+json": {
              "type": "string"
            }
          },
          "metadata": {},
          "execution_count": 25
        }
      ],
      "source": [
        "classification_report(y_test,pred2)"
      ]
    },
    {
      "cell_type": "code",
      "execution_count": null,
      "metadata": {
        "colab": {
          "base_uri": "https://localhost:8080/"
        },
        "id": "-Q9TE83FgUhL",
        "outputId": "400abd80-49e5-4046-fcb5-ee47b2feb497"
      },
      "outputs": [
        {
          "output_type": "stream",
          "name": "stdout",
          "text": [
            "              precision    recall  f1-score   support\n",
            "\n",
            "           0       0.78      1.00      0.88      7000\n",
            "           1       0.00      0.00      0.00      2000\n",
            "\n",
            "    accuracy                           0.78      9000\n",
            "   macro avg       0.39      0.50      0.44      9000\n",
            "weighted avg       0.60      0.78      0.68      9000\n",
            "\n"
          ]
        },
        {
          "output_type": "stream",
          "name": "stderr",
          "text": [
            "/usr/local/lib/python3.10/dist-packages/sklearn/metrics/_classification.py:1344: UndefinedMetricWarning: Precision and F-score are ill-defined and being set to 0.0 in labels with no predicted samples. Use `zero_division` parameter to control this behavior.\n",
            "  _warn_prf(average, modifier, msg_start, len(result))\n",
            "/usr/local/lib/python3.10/dist-packages/sklearn/metrics/_classification.py:1344: UndefinedMetricWarning: Precision and F-score are ill-defined and being set to 0.0 in labels with no predicted samples. Use `zero_division` parameter to control this behavior.\n",
            "  _warn_prf(average, modifier, msg_start, len(result))\n",
            "/usr/local/lib/python3.10/dist-packages/sklearn/metrics/_classification.py:1344: UndefinedMetricWarning: Precision and F-score are ill-defined and being set to 0.0 in labels with no predicted samples. Use `zero_division` parameter to control this behavior.\n",
            "  _warn_prf(average, modifier, msg_start, len(result))\n"
          ]
        }
      ],
      "source": [
        "print(classification_report(y_test,pred2))"
      ]
    },
    {
      "cell_type": "code",
      "execution_count": null,
      "metadata": {
        "id": "AFTfT9Z1gUhM",
        "colab": {
          "base_uri": "https://localhost:8080/",
          "height": 75
        },
        "outputId": "12688d08-c8f3-4264-c6d5-a5d6e1894b15"
      },
      "outputs": [
        {
          "output_type": "execute_result",
          "data": {
            "text/plain": [
              "RandomForestClassifier(n_estimators=50)"
            ],
            "text/html": [
              "<style>#sk-container-id-2 {color: black;background-color: white;}#sk-container-id-2 pre{padding: 0;}#sk-container-id-2 div.sk-toggleable {background-color: white;}#sk-container-id-2 label.sk-toggleable__label {cursor: pointer;display: block;width: 100%;margin-bottom: 0;padding: 0.3em;box-sizing: border-box;text-align: center;}#sk-container-id-2 label.sk-toggleable__label-arrow:before {content: \"▸\";float: left;margin-right: 0.25em;color: #696969;}#sk-container-id-2 label.sk-toggleable__label-arrow:hover:before {color: black;}#sk-container-id-2 div.sk-estimator:hover label.sk-toggleable__label-arrow:before {color: black;}#sk-container-id-2 div.sk-toggleable__content {max-height: 0;max-width: 0;overflow: hidden;text-align: left;background-color: #f0f8ff;}#sk-container-id-2 div.sk-toggleable__content pre {margin: 0.2em;color: black;border-radius: 0.25em;background-color: #f0f8ff;}#sk-container-id-2 input.sk-toggleable__control:checked~div.sk-toggleable__content {max-height: 200px;max-width: 100%;overflow: auto;}#sk-container-id-2 input.sk-toggleable__control:checked~label.sk-toggleable__label-arrow:before {content: \"▾\";}#sk-container-id-2 div.sk-estimator input.sk-toggleable__control:checked~label.sk-toggleable__label {background-color: #d4ebff;}#sk-container-id-2 div.sk-label input.sk-toggleable__control:checked~label.sk-toggleable__label {background-color: #d4ebff;}#sk-container-id-2 input.sk-hidden--visually {border: 0;clip: rect(1px 1px 1px 1px);clip: rect(1px, 1px, 1px, 1px);height: 1px;margin: -1px;overflow: hidden;padding: 0;position: absolute;width: 1px;}#sk-container-id-2 div.sk-estimator {font-family: monospace;background-color: #f0f8ff;border: 1px dotted black;border-radius: 0.25em;box-sizing: border-box;margin-bottom: 0.5em;}#sk-container-id-2 div.sk-estimator:hover {background-color: #d4ebff;}#sk-container-id-2 div.sk-parallel-item::after {content: \"\";width: 100%;border-bottom: 1px solid gray;flex-grow: 1;}#sk-container-id-2 div.sk-label:hover label.sk-toggleable__label {background-color: #d4ebff;}#sk-container-id-2 div.sk-serial::before {content: \"\";position: absolute;border-left: 1px solid gray;box-sizing: border-box;top: 0;bottom: 0;left: 50%;z-index: 0;}#sk-container-id-2 div.sk-serial {display: flex;flex-direction: column;align-items: center;background-color: white;padding-right: 0.2em;padding-left: 0.2em;position: relative;}#sk-container-id-2 div.sk-item {position: relative;z-index: 1;}#sk-container-id-2 div.sk-parallel {display: flex;align-items: stretch;justify-content: center;background-color: white;position: relative;}#sk-container-id-2 div.sk-item::before, #sk-container-id-2 div.sk-parallel-item::before {content: \"\";position: absolute;border-left: 1px solid gray;box-sizing: border-box;top: 0;bottom: 0;left: 50%;z-index: -1;}#sk-container-id-2 div.sk-parallel-item {display: flex;flex-direction: column;z-index: 1;position: relative;background-color: white;}#sk-container-id-2 div.sk-parallel-item:first-child::after {align-self: flex-end;width: 50%;}#sk-container-id-2 div.sk-parallel-item:last-child::after {align-self: flex-start;width: 50%;}#sk-container-id-2 div.sk-parallel-item:only-child::after {width: 0;}#sk-container-id-2 div.sk-dashed-wrapped {border: 1px dashed gray;margin: 0 0.4em 0.5em 0.4em;box-sizing: border-box;padding-bottom: 0.4em;background-color: white;}#sk-container-id-2 div.sk-label label {font-family: monospace;font-weight: bold;display: inline-block;line-height: 1.2em;}#sk-container-id-2 div.sk-label-container {text-align: center;}#sk-container-id-2 div.sk-container {/* jupyter's `normalize.less` sets `[hidden] { display: none; }` but bootstrap.min.css set `[hidden] { display: none !important; }` so we also need the `!important` here to be able to override the default hidden behavior on the sphinx rendered scikit-learn.org. See: https://github.com/scikit-learn/scikit-learn/issues/21755 */display: inline-block !important;position: relative;}#sk-container-id-2 div.sk-text-repr-fallback {display: none;}</style><div id=\"sk-container-id-2\" class=\"sk-top-container\"><div class=\"sk-text-repr-fallback\"><pre>RandomForestClassifier(n_estimators=50)</pre><b>In a Jupyter environment, please rerun this cell to show the HTML representation or trust the notebook. <br />On GitHub, the HTML representation is unable to render, please try loading this page with nbviewer.org.</b></div><div class=\"sk-container\" hidden><div class=\"sk-item\"><div class=\"sk-estimator sk-toggleable\"><input class=\"sk-toggleable__control sk-hidden--visually\" id=\"sk-estimator-id-2\" type=\"checkbox\" checked><label for=\"sk-estimator-id-2\" class=\"sk-toggleable__label sk-toggleable__label-arrow\">RandomForestClassifier</label><div class=\"sk-toggleable__content\"><pre>RandomForestClassifier(n_estimators=50)</pre></div></div></div></div></div>"
            ]
          },
          "metadata": {},
          "execution_count": 28
        }
      ],
      "source": [
        "from sklearn.metrics import accuracy_score,confusion_matrix\n",
        "from sklearn.metrics import classification_report\n",
        "from sklearn.ensemble import RandomForestClassifier\n",
        "\n",
        "rf=RandomForestClassifier(n_estimators=50)\n",
        "rf.fit(X_train, y_train)\n"
      ]
    },
    {
      "cell_type": "code",
      "execution_count": null,
      "metadata": {
        "id": "ULGE5thFgUhM",
        "colab": {
          "base_uri": "https://localhost:8080/"
        },
        "outputId": "d67bfc4e-7708-4d56-c887-5224b3ee49c2"
      },
      "outputs": [
        {
          "output_type": "execute_result",
          "data": {
            "text/plain": [
              "0.8123333333333334"
            ]
          },
          "metadata": {},
          "execution_count": 29
        }
      ],
      "source": [
        "pred1 = rf.predict(X_test)\n",
        "rf.score(X_test,y_test)"
      ]
    },
    {
      "cell_type": "code",
      "execution_count": null,
      "metadata": {
        "id": "M4aLaP71gUhN",
        "colab": {
          "base_uri": "https://localhost:8080/"
        },
        "outputId": "3def5ca1-6ff8-43b0-c300-96e230cfcbda"
      },
      "outputs": [
        {
          "output_type": "execute_result",
          "data": {
            "text/plain": [
              "0.8123333333333334"
            ]
          },
          "metadata": {},
          "execution_count": 30
        }
      ],
      "source": [
        "accuracy_score(y_test,pred1)"
      ]
    },
    {
      "cell_type": "code",
      "execution_count": null,
      "metadata": {
        "id": "tdtv75dOgUhN",
        "colab": {
          "base_uri": "https://localhost:8080/"
        },
        "outputId": "d0705b32-1e3e-46ca-c9f3-b479b177b11b"
      },
      "outputs": [
        {
          "output_type": "execute_result",
          "data": {
            "text/plain": [
              "array([[6631,  369],\n",
              "       [1320,  680]])"
            ]
          },
          "metadata": {},
          "execution_count": 31
        }
      ],
      "source": [
        "confusion_matrix(y_test,pred1)"
      ]
    },
    {
      "cell_type": "code",
      "execution_count": null,
      "metadata": {
        "id": "1KbbL4JggUhN",
        "colab": {
          "base_uri": "https://localhost:8080/",
          "height": 70
        },
        "outputId": "95d0cf16-9942-4055-c1a4-8568afd2af5b"
      },
      "outputs": [
        {
          "output_type": "execute_result",
          "data": {
            "text/plain": [
              "'              precision    recall  f1-score   support\\n\\n           0       0.83      0.95      0.89      7000\\n           1       0.65      0.34      0.45      2000\\n\\n    accuracy                           0.81      9000\\n   macro avg       0.74      0.64      0.67      9000\\nweighted avg       0.79      0.81      0.79      9000\\n'"
            ],
            "application/vnd.google.colaboratory.intrinsic+json": {
              "type": "string"
            }
          },
          "metadata": {},
          "execution_count": 32
        }
      ],
      "source": [
        "classification_report(y_test,pred1)"
      ]
    },
    {
      "cell_type": "code",
      "execution_count": null,
      "metadata": {
        "id": "OQCXstdFgUhO",
        "colab": {
          "base_uri": "https://localhost:8080/"
        },
        "outputId": "70e88a44-48ae-41c5-8b97-e9434ecc95d9"
      },
      "outputs": [
        {
          "output_type": "stream",
          "name": "stdout",
          "text": [
            "              precision    recall  f1-score   support\n",
            "\n",
            "           0       0.83      0.95      0.89      7000\n",
            "           1       0.65      0.34      0.45      2000\n",
            "\n",
            "    accuracy                           0.81      9000\n",
            "   macro avg       0.74      0.64      0.67      9000\n",
            "weighted avg       0.79      0.81      0.79      9000\n",
            "\n"
          ]
        }
      ],
      "source": [
        "print(classification_report(y_test,pred1))"
      ]
    },
    {
      "cell_type": "code",
      "execution_count": null,
      "metadata": {
        "id": "qyISy4WAgUhO",
        "colab": {
          "base_uri": "https://localhost:8080/",
          "height": 75
        },
        "outputId": "fd54fef6-7176-427e-99e4-010482398b3a"
      },
      "outputs": [
        {
          "output_type": "execute_result",
          "data": {
            "text/plain": [
              "DecisionTreeClassifier()"
            ],
            "text/html": [
              "<style>#sk-container-id-3 {color: black;background-color: white;}#sk-container-id-3 pre{padding: 0;}#sk-container-id-3 div.sk-toggleable {background-color: white;}#sk-container-id-3 label.sk-toggleable__label {cursor: pointer;display: block;width: 100%;margin-bottom: 0;padding: 0.3em;box-sizing: border-box;text-align: center;}#sk-container-id-3 label.sk-toggleable__label-arrow:before {content: \"▸\";float: left;margin-right: 0.25em;color: #696969;}#sk-container-id-3 label.sk-toggleable__label-arrow:hover:before {color: black;}#sk-container-id-3 div.sk-estimator:hover label.sk-toggleable__label-arrow:before {color: black;}#sk-container-id-3 div.sk-toggleable__content {max-height: 0;max-width: 0;overflow: hidden;text-align: left;background-color: #f0f8ff;}#sk-container-id-3 div.sk-toggleable__content pre {margin: 0.2em;color: black;border-radius: 0.25em;background-color: #f0f8ff;}#sk-container-id-3 input.sk-toggleable__control:checked~div.sk-toggleable__content {max-height: 200px;max-width: 100%;overflow: auto;}#sk-container-id-3 input.sk-toggleable__control:checked~label.sk-toggleable__label-arrow:before {content: \"▾\";}#sk-container-id-3 div.sk-estimator input.sk-toggleable__control:checked~label.sk-toggleable__label {background-color: #d4ebff;}#sk-container-id-3 div.sk-label input.sk-toggleable__control:checked~label.sk-toggleable__label {background-color: #d4ebff;}#sk-container-id-3 input.sk-hidden--visually {border: 0;clip: rect(1px 1px 1px 1px);clip: rect(1px, 1px, 1px, 1px);height: 1px;margin: -1px;overflow: hidden;padding: 0;position: absolute;width: 1px;}#sk-container-id-3 div.sk-estimator {font-family: monospace;background-color: #f0f8ff;border: 1px dotted black;border-radius: 0.25em;box-sizing: border-box;margin-bottom: 0.5em;}#sk-container-id-3 div.sk-estimator:hover {background-color: #d4ebff;}#sk-container-id-3 div.sk-parallel-item::after {content: \"\";width: 100%;border-bottom: 1px solid gray;flex-grow: 1;}#sk-container-id-3 div.sk-label:hover label.sk-toggleable__label {background-color: #d4ebff;}#sk-container-id-3 div.sk-serial::before {content: \"\";position: absolute;border-left: 1px solid gray;box-sizing: border-box;top: 0;bottom: 0;left: 50%;z-index: 0;}#sk-container-id-3 div.sk-serial {display: flex;flex-direction: column;align-items: center;background-color: white;padding-right: 0.2em;padding-left: 0.2em;position: relative;}#sk-container-id-3 div.sk-item {position: relative;z-index: 1;}#sk-container-id-3 div.sk-parallel {display: flex;align-items: stretch;justify-content: center;background-color: white;position: relative;}#sk-container-id-3 div.sk-item::before, #sk-container-id-3 div.sk-parallel-item::before {content: \"\";position: absolute;border-left: 1px solid gray;box-sizing: border-box;top: 0;bottom: 0;left: 50%;z-index: -1;}#sk-container-id-3 div.sk-parallel-item {display: flex;flex-direction: column;z-index: 1;position: relative;background-color: white;}#sk-container-id-3 div.sk-parallel-item:first-child::after {align-self: flex-end;width: 50%;}#sk-container-id-3 div.sk-parallel-item:last-child::after {align-self: flex-start;width: 50%;}#sk-container-id-3 div.sk-parallel-item:only-child::after {width: 0;}#sk-container-id-3 div.sk-dashed-wrapped {border: 1px dashed gray;margin: 0 0.4em 0.5em 0.4em;box-sizing: border-box;padding-bottom: 0.4em;background-color: white;}#sk-container-id-3 div.sk-label label {font-family: monospace;font-weight: bold;display: inline-block;line-height: 1.2em;}#sk-container-id-3 div.sk-label-container {text-align: center;}#sk-container-id-3 div.sk-container {/* jupyter's `normalize.less` sets `[hidden] { display: none; }` but bootstrap.min.css set `[hidden] { display: none !important; }` so we also need the `!important` here to be able to override the default hidden behavior on the sphinx rendered scikit-learn.org. See: https://github.com/scikit-learn/scikit-learn/issues/21755 */display: inline-block !important;position: relative;}#sk-container-id-3 div.sk-text-repr-fallback {display: none;}</style><div id=\"sk-container-id-3\" class=\"sk-top-container\"><div class=\"sk-text-repr-fallback\"><pre>DecisionTreeClassifier()</pre><b>In a Jupyter environment, please rerun this cell to show the HTML representation or trust the notebook. <br />On GitHub, the HTML representation is unable to render, please try loading this page with nbviewer.org.</b></div><div class=\"sk-container\" hidden><div class=\"sk-item\"><div class=\"sk-estimator sk-toggleable\"><input class=\"sk-toggleable__control sk-hidden--visually\" id=\"sk-estimator-id-3\" type=\"checkbox\" checked><label for=\"sk-estimator-id-3\" class=\"sk-toggleable__label sk-toggleable__label-arrow\">DecisionTreeClassifier</label><div class=\"sk-toggleable__content\"><pre>DecisionTreeClassifier()</pre></div></div></div></div></div>"
            ]
          },
          "metadata": {},
          "execution_count": 34
        }
      ],
      "source": [
        "from sklearn.tree import DecisionTreeClassifier\n",
        "d = DecisionTreeClassifier()\n",
        "d.fit(X_train, y_train)"
      ]
    },
    {
      "cell_type": "code",
      "execution_count": null,
      "metadata": {
        "id": "0zOT-GK8gUhP",
        "colab": {
          "base_uri": "https://localhost:8080/"
        },
        "outputId": "c1f82656-e633-4d48-fa69-f9d4269fe580"
      },
      "outputs": [
        {
          "output_type": "execute_result",
          "data": {
            "text/plain": [
              "0.7196666666666667"
            ]
          },
          "metadata": {},
          "execution_count": 35
        }
      ],
      "source": [
        "pred=d.predict(X_test)\n",
        "d.score(X_test,y_test)"
      ]
    },
    {
      "cell_type": "code",
      "execution_count": null,
      "metadata": {
        "id": "2BmmhJVJgUhP"
      },
      "outputs": [],
      "source": [
        "from sklearn.metrics import accuracy_score,confusion_matrix\n",
        "from sklearn.metrics import classification_report"
      ]
    },
    {
      "cell_type": "code",
      "execution_count": null,
      "metadata": {
        "id": "F3rlwMdcgUhQ",
        "colab": {
          "base_uri": "https://localhost:8080/"
        },
        "outputId": "b9770cef-1677-405c-b151-bff1ffbf2501"
      },
      "outputs": [
        {
          "output_type": "execute_result",
          "data": {
            "text/plain": [
              "0.7196666666666667"
            ]
          },
          "metadata": {},
          "execution_count": 37
        }
      ],
      "source": [
        "accuracy_score(y_test,pred)"
      ]
    },
    {
      "cell_type": "code",
      "execution_count": null,
      "metadata": {
        "id": "RrNHE_FagUhQ",
        "colab": {
          "base_uri": "https://localhost:8080/"
        },
        "outputId": "b616d1c8-dce9-4295-8f6a-e77efc7c49b5"
      },
      "outputs": [
        {
          "output_type": "execute_result",
          "data": {
            "text/plain": [
              "array([[5649, 1351],\n",
              "       [1172,  828]])"
            ]
          },
          "metadata": {},
          "execution_count": 38
        }
      ],
      "source": [
        "confusion_matrix(y_test,pred)"
      ]
    },
    {
      "cell_type": "code",
      "execution_count": null,
      "metadata": {
        "id": "C6hiIFV1gUhQ",
        "colab": {
          "base_uri": "https://localhost:8080/",
          "height": 70
        },
        "outputId": "c0176ef7-accb-4d98-8db5-06be80e8aeaa"
      },
      "outputs": [
        {
          "output_type": "execute_result",
          "data": {
            "text/plain": [
              "'              precision    recall  f1-score   support\\n\\n           0       0.83      0.81      0.82      7000\\n           1       0.38      0.41      0.40      2000\\n\\n    accuracy                           0.72      9000\\n   macro avg       0.60      0.61      0.61      9000\\nweighted avg       0.73      0.72      0.72      9000\\n'"
            ],
            "application/vnd.google.colaboratory.intrinsic+json": {
              "type": "string"
            }
          },
          "metadata": {},
          "execution_count": 39
        }
      ],
      "source": [
        "classification_report(y_test,pred)"
      ]
    },
    {
      "cell_type": "code",
      "execution_count": null,
      "metadata": {
        "id": "DAIv0fEogUhR",
        "colab": {
          "base_uri": "https://localhost:8080/"
        },
        "outputId": "e2a0e1e3-7725-496e-a0e5-1e7f902f7341"
      },
      "outputs": [
        {
          "output_type": "stream",
          "name": "stdout",
          "text": [
            "              precision    recall  f1-score   support\n",
            "\n",
            "           0       0.83      0.81      0.82      7000\n",
            "           1       0.38      0.41      0.40      2000\n",
            "\n",
            "    accuracy                           0.72      9000\n",
            "   macro avg       0.60      0.61      0.61      9000\n",
            "weighted avg       0.73      0.72      0.72      9000\n",
            "\n"
          ]
        }
      ],
      "source": [
        "print(classification_report(y_test,pred))"
      ]
    },
    {
      "cell_type": "code",
      "execution_count": null,
      "metadata": {
        "id": "zzv_rt08gUhR"
      },
      "outputs": [],
      "source": [
        "#Import Gaussian Naive Bayes model\n",
        "from sklearn.naive_bayes import GaussianNB\n",
        "\n",
        "#Create a Gaussian Classifier\n",
        "gnb = GaussianNB()"
      ]
    },
    {
      "cell_type": "code",
      "execution_count": null,
      "metadata": {
        "id": "wjWe6n5PgUhR",
        "colab": {
          "base_uri": "https://localhost:8080/"
        },
        "outputId": "a3dd9c01-31d5-4388-cb91-1d6aa2f4b296"
      },
      "outputs": [
        {
          "output_type": "execute_result",
          "data": {
            "text/plain": [
              "array([1, 1, 0, ..., 1, 1, 1])"
            ]
          },
          "metadata": {},
          "execution_count": 42
        }
      ],
      "source": [
        "#Train the model using the training sets\n",
        "gnb.fit(X_train, y_train)\n",
        "\n",
        "#Predict the response for test dataset\n",
        "gnb.predict(X_test)"
      ]
    },
    {
      "cell_type": "code",
      "execution_count": null,
      "metadata": {
        "id": "oNCDEv2egUhR",
        "colab": {
          "base_uri": "https://localhost:8080/"
        },
        "outputId": "5594cf27-5975-437f-8a4e-00f070ab39d5"
      },
      "outputs": [
        {
          "output_type": "execute_result",
          "data": {
            "text/plain": [
              "0.37744444444444447"
            ]
          },
          "metadata": {},
          "execution_count": 43
        }
      ],
      "source": [
        "gnb.score(X_test,y_test)"
      ]
    },
    {
      "cell_type": "code",
      "execution_count": null,
      "metadata": {
        "id": "ynLbxKpLgUhS"
      },
      "outputs": [],
      "source": [
        "from sklearn.naive_bayes import BernoulliNB\n",
        "\n",
        "#Create a Gaussian Classifier\n",
        "bnb = BernoulliNB()"
      ]
    },
    {
      "cell_type": "code",
      "execution_count": null,
      "metadata": {
        "id": "rrkpl0b4gUhS",
        "colab": {
          "base_uri": "https://localhost:8080/"
        },
        "outputId": "622ad452-885c-4a71-c0f3-4b93b46ebb47"
      },
      "outputs": [
        {
          "output_type": "execute_result",
          "data": {
            "text/plain": [
              "array([0, 1, 0, ..., 0, 0, 0])"
            ]
          },
          "metadata": {},
          "execution_count": 45
        }
      ],
      "source": [
        "#Train the model using the training sets\n",
        "bnb.fit(X_train, y_train)\n",
        "\n",
        "#Predict the response for test dataset\n",
        "bnb.predict(X_test)"
      ]
    },
    {
      "cell_type": "code",
      "execution_count": null,
      "metadata": {
        "id": "6XrwiomXgUhT",
        "colab": {
          "base_uri": "https://localhost:8080/"
        },
        "outputId": "db3f5fb9-5092-4930-df27-4fae11e4e352"
      },
      "outputs": [
        {
          "output_type": "execute_result",
          "data": {
            "text/plain": [
              "0.771"
            ]
          },
          "metadata": {},
          "execution_count": 46
        }
      ],
      "source": [
        "bnb.score(X_test,y_test)"
      ]
    },
    {
      "cell_type": "code",
      "execution_count": null,
      "metadata": {
        "id": "Uwi566o6gUhh"
      },
      "outputs": [],
      "source": [
        "from sklearn.naive_bayes import MultinomialNB\n",
        "\n",
        "#Create a Gaussian Classifier\n",
        "mnb = MultinomialNB()"
      ]
    },
    {
      "cell_type": "code",
      "execution_count": null,
      "metadata": {
        "id": "kgABx2NQgUhi"
      },
      "outputs": [],
      "source": [
        "#Train the model using the training sets\n",
        "#mnb.fit(X_train, y_train)\n",
        "\n",
        "#Predict the response for test dataset\n",
        "#mnb.predict(X_test)"
      ]
    },
    {
      "cell_type": "code",
      "source": [
        "from sklearn.metrics import accuracy_score,confusion_matrix\n",
        "from sklearn.metrics import classification_report\n",
        "import itertools"
      ],
      "metadata": {
        "id": "rLva4MycsMPg"
      },
      "execution_count": null,
      "outputs": []
    },
    {
      "cell_type": "code",
      "source": [
        "accuracy_score(y_test,pred)"
      ],
      "metadata": {
        "colab": {
          "base_uri": "https://localhost:8080/"
        },
        "id": "lyClmff-sTBg",
        "outputId": "e7796fbc-eea3-474d-8387-19bb935112e8"
      },
      "execution_count": null,
      "outputs": [
        {
          "output_type": "execute_result",
          "data": {
            "text/plain": [
              "0.7196666666666667"
            ]
          },
          "metadata": {},
          "execution_count": 52
        }
      ]
    },
    {
      "cell_type": "code",
      "source": [
        "cnf_matrix=confusion_matrix(y_test,pred)\n",
        "cnf_matrix"
      ],
      "metadata": {
        "colab": {
          "base_uri": "https://localhost:8080/"
        },
        "id": "CZeT8qubsXI1",
        "outputId": "eb27924b-3bff-4e2f-f139-e391c4ef8e55"
      },
      "execution_count": null,
      "outputs": [
        {
          "output_type": "execute_result",
          "data": {
            "text/plain": [
              "array([[5649, 1351],\n",
              "       [1172,  828]])"
            ]
          },
          "metadata": {},
          "execution_count": 53
        }
      ]
    }
  ],
  "metadata": {
    "kernelspec": {
      "display_name": "Python",
      "language": "python",
      "name": "conda-env-python-py"
    },
    "language_info": {
      "codemirror_mode": {
        "name": "ipython",
        "version": 3
      },
      "file_extension": ".py",
      "mimetype": "text/x-python",
      "name": "python",
      "nbconvert_exporter": "python",
      "pygments_lexer": "ipython3",
      "version": "3.6.12"
    },
    "colab": {
      "provenance": []
    }
  },
  "nbformat": 4,
  "nbformat_minor": 0
}